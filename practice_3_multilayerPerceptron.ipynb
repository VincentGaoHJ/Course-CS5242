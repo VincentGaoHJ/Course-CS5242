{
  "nbformat": 4,
  "nbformat_minor": 0,
  "metadata": {
    "colab": {
      "name": "practice_3_multilayerPerceptron.ipynb",
      "provenance": [],
      "collapsed_sections": [],
      "toc_visible": true,
      "include_colab_link": true
    },
    "kernelspec": {
      "name": "python3",
      "display_name": "Python 3"
    }
  },
  "cells": [
    {
      "cell_type": "markdown",
      "metadata": {
        "id": "view-in-github",
        "colab_type": "text"
      },
      "source": [
        "<a href=\"https://colab.research.google.com/github/VincentGaoHJ/Course-CS5242/blob/master/practice_3_multilayerPerceptron.ipynb\" target=\"_parent\"><img src=\"https://colab.research.google.com/assets/colab-badge.svg\" alt=\"Open In Colab\"/></a>"
      ]
    },
    {
      "cell_type": "markdown",
      "metadata": {
        "id": "t--wDFP1sEdg"
      },
      "source": [
        "## Practice 3: Multilayer Networks\n"
      ]
    },
    {
      "cell_type": "code",
      "metadata": {
        "id": "DW7c6fznGFyZ",
        "colab": {
          "base_uri": "https://localhost:8080/"
        },
        "outputId": "ee42fc05-022a-4532-dd2d-5b3079f73c41"
      },
      "source": [
        "import random\n",
        "import numpy as np\n",
        "import matplotlib.pyplot as plt\n",
        "import torch\n",
        "import torch.nn as nn\n",
        "import torch.nn.functional as F\n",
        "\n",
        "%matplotlib inline\n",
        "plt.rcParams['figure.figsize'] = (10.0, 8.0) # set default size of plots\n",
        "plt.rcParams['image.interpolation'] = 'nearest'\n",
        "plt.rcParams['image.cmap'] = 'gray'\n",
        "\n",
        "# for auto-reloading extenrnal modules\n",
        "# see http://stackoverflow.com/questions/1907993/autoreload-of-modules-in-ipython\n",
        "%load_ext autoreload\n",
        "%autoreload 2"
      ],
      "execution_count": 189,
      "outputs": [
        {
          "output_type": "stream",
          "text": [
            "The autoreload extension is already loaded. To reload it, use:\n",
            "  %reload_ext autoreload\n"
          ],
          "name": "stdout"
        }
      ]
    },
    {
      "cell_type": "markdown",
      "metadata": {
        "id": "6gYBM8VgFgwp"
      },
      "source": [
        "**Pytorch has a wide variety of datasets that one can leverage. In this tutorial, we will\n",
        "use one such dataset and build a multilayer neural network to fit the data. We will \n",
        "use PyTorch optimizers to perform the optimization process.**\n"
      ]
    },
    {
      "cell_type": "markdown",
      "metadata": {
        "id": "5oH7W65sq_Z9"
      },
      "source": [
        "Q1. Use the following snippet to get a dataloader from the already available Mnist dataset from \n",
        "PyTorch. Mnist dataset has 60,000 digit images with its corresponding labels.\n",
        "This snippet will download the dataset if not downloaded already and transform each \n",
        "image before returning it. Dataloaders are iterable over a dataset. For further reading follow [pytorch dataloader](https://pytorch.org/docs/stable/data.html)\n",
        "\n",
        "```python\n",
        "from torchvision import datasets, transforms\n",
        "\n",
        "transform = transforms.Compose([transforms.ToTensor(), transforms.Normalize((0.5,), (0.5,))])\n",
        "trainset = datasets.MNIST('~/.pytorch/MNIST_data/', download=True, train=True, transform=transform)\n",
        "traintloader = torch.utils.data.DataLoader(trainset, batch_size=64, shuffle=True)\n",
        "```"
      ]
    },
    {
      "cell_type": "code",
      "metadata": {
        "id": "6ZA4o635FW8M",
        "colab": {
          "base_uri": "https://localhost:8080/"
        },
        "outputId": "2d83530b-700d-42a8-95ab-392bea9d23f5"
      },
      "source": [
        "from torchvision import datasets, transforms\n",
        "\n",
        "transform = transforms.Compose([transforms.ToTensor(), transforms.Normalize((0.5,), (0.5,))]) \n",
        "trainset = datasets.MNIST('~/.pytorch/MNIST_data/', download=True, train=True, transform=transform)\n",
        "trainloader = torch.utils.data.DataLoader(trainset, batch_size=64, shuffle=True)\n",
        "\n",
        "# Code for the test dataset and data loader\n",
        "testset = datasets.MNIST('~/.pytorch/MNIST_data/', download=True, train=False, transform=transform)\n",
        "testloader = torch.utils.data.DataLoader(testset, batch_size=64, shuffle=True)\n",
        "\n",
        "# Use the help command to see the dictionary elements, attributes and method of any object\n",
        "help(trainloader)"
      ],
      "execution_count": 190,
      "outputs": [
        {
          "output_type": "stream",
          "text": [
            "Help on DataLoader in module torch.utils.data.dataloader object:\n",
            "\n",
            "class DataLoader(typing.Generic)\n",
            " |  Data loader. Combines a dataset and a sampler, and provides an iterable over\n",
            " |  the given dataset.\n",
            " |  \n",
            " |  The :class:`~torch.utils.data.DataLoader` supports both map-style and\n",
            " |  iterable-style datasets with single- or multi-process loading, customizing\n",
            " |  loading order and optional automatic batching (collation) and memory pinning.\n",
            " |  \n",
            " |  See :py:mod:`torch.utils.data` documentation page for more details.\n",
            " |  \n",
            " |  Arguments:\n",
            " |      dataset (Dataset): dataset from which to load the data.\n",
            " |      batch_size (int, optional): how many samples per batch to load\n",
            " |          (default: ``1``).\n",
            " |      shuffle (bool, optional): set to ``True`` to have the data reshuffled\n",
            " |          at every epoch (default: ``False``).\n",
            " |      sampler (Sampler or Iterable, optional): defines the strategy to draw\n",
            " |          samples from the dataset. Can be any ``Iterable`` with ``__len__``\n",
            " |          implemented. If specified, :attr:`shuffle` must not be specified.\n",
            " |      batch_sampler (Sampler or Iterable, optional): like :attr:`sampler`, but\n",
            " |          returns a batch of indices at a time. Mutually exclusive with\n",
            " |          :attr:`batch_size`, :attr:`shuffle`, :attr:`sampler`,\n",
            " |          and :attr:`drop_last`.\n",
            " |      num_workers (int, optional): how many subprocesses to use for data\n",
            " |          loading. ``0`` means that the data will be loaded in the main process.\n",
            " |          (default: ``0``)\n",
            " |      collate_fn (callable, optional): merges a list of samples to form a\n",
            " |          mini-batch of Tensor(s).  Used when using batched loading from a\n",
            " |          map-style dataset.\n",
            " |      pin_memory (bool, optional): If ``True``, the data loader will copy Tensors\n",
            " |          into CUDA pinned memory before returning them.  If your data elements\n",
            " |          are a custom type, or your :attr:`collate_fn` returns a batch that is a custom type,\n",
            " |          see the example below.\n",
            " |      drop_last (bool, optional): set to ``True`` to drop the last incomplete batch,\n",
            " |          if the dataset size is not divisible by the batch size. If ``False`` and\n",
            " |          the size of dataset is not divisible by the batch size, then the last batch\n",
            " |          will be smaller. (default: ``False``)\n",
            " |      timeout (numeric, optional): if positive, the timeout value for collecting a batch\n",
            " |          from workers. Should always be non-negative. (default: ``0``)\n",
            " |      worker_init_fn (callable, optional): If not ``None``, this will be called on each\n",
            " |          worker subprocess with the worker id (an int in ``[0, num_workers - 1]``) as\n",
            " |          input, after seeding and before data loading. (default: ``None``)\n",
            " |      prefetch_factor (int, optional, keyword-only arg): Number of sample loaded\n",
            " |          in advance by each worker. ``2`` means there will be a total of\n",
            " |          2 * num_workers samples prefetched across all workers. (default: ``2``)\n",
            " |      persistent_workers (bool, optional): If ``True``, the data loader will not shutdown\n",
            " |          the worker processes after a dataset has been consumed once. This allows to \n",
            " |          maintain the workers `Dataset` instances alive. (default: ``False``)\n",
            " |  \n",
            " |  \n",
            " |  .. warning:: If the ``spawn`` start method is used, :attr:`worker_init_fn`\n",
            " |               cannot be an unpicklable object, e.g., a lambda function. See\n",
            " |               :ref:`multiprocessing-best-practices` on more details related\n",
            " |               to multiprocessing in PyTorch.\n",
            " |  \n",
            " |  .. warning:: ``len(dataloader)`` heuristic is based on the length of the sampler used.\n",
            " |               When :attr:`dataset` is an :class:`~torch.utils.data.IterableDataset`,\n",
            " |               it instead returns an estimate based on ``len(dataset) / batch_size``, with proper\n",
            " |               rounding depending on :attr:`drop_last`, regardless of multi-process loading\n",
            " |               configurations. This represents the best guess PyTorch can make because PyTorch\n",
            " |               trusts user :attr:`dataset` code in correctly handling multi-process\n",
            " |               loading to avoid duplicate data.\n",
            " |  \n",
            " |               However, if sharding results in multiple workers having incomplete last batches,\n",
            " |               this estimate can still be inaccurate, because (1) an otherwise complete batch can\n",
            " |               be broken into multiple ones and (2) more than one batch worth of samples can be\n",
            " |               dropped when :attr:`drop_last` is set. Unfortunately, PyTorch can not detect such\n",
            " |               cases in general.\n",
            " |  \n",
            " |               See `Dataset Types`_ for more details on these two types of datasets and how\n",
            " |               :class:`~torch.utils.data.IterableDataset` interacts with\n",
            " |               `Multi-process data loading`_.\n",
            " |  \n",
            " |  Method resolution order:\n",
            " |      DataLoader\n",
            " |      typing.Generic\n",
            " |      builtins.object\n",
            " |  \n",
            " |  Methods defined here:\n",
            " |  \n",
            " |  __init__(self, dataset:torch.utils.data.dataset.Dataset, batch_size:Union[int, NoneType]=1, shuffle:bool=False, sampler:Union[torch.utils.data.sampler.Sampler[int], NoneType]=None, batch_sampler:Union[torch.utils.data.sampler.Sampler[Sequence[int]], NoneType]=None, num_workers:int=0, collate_fn:Callable[[List[~T]], Any]=None, pin_memory:bool=False, drop_last:bool=False, timeout:float=0, worker_init_fn:Callable[[int], NoneType]=None, multiprocessing_context=None, generator=None, *, prefetch_factor:int=2, persistent_workers:bool=False)\n",
            " |      Initialize self.  See help(type(self)) for accurate signature.\n",
            " |  \n",
            " |  __iter__(self) -> '_BaseDataLoaderIter'\n",
            " |      # We quote '_BaseDataLoaderIter' since it isn't defined yet and the definition can't be moved up\n",
            " |      # since '_BaseDataLoaderIter' references 'DataLoader'.\n",
            " |  \n",
            " |  __len__(self) -> int\n",
            " |  \n",
            " |  __setattr__(self, attr, val)\n",
            " |      Implement setattr(self, name, value).\n",
            " |  \n",
            " |  ----------------------------------------------------------------------\n",
            " |  Data descriptors defined here:\n",
            " |  \n",
            " |  __dict__\n",
            " |      dictionary for instance variables (if defined)\n",
            " |  \n",
            " |  __weakref__\n",
            " |      list of weak references to the object (if defined)\n",
            " |  \n",
            " |  multiprocessing_context\n",
            " |  \n",
            " |  ----------------------------------------------------------------------\n",
            " |  Data and other attributes defined here:\n",
            " |  \n",
            " |  __abstractmethods__ = frozenset()\n",
            " |  \n",
            " |  __annotations__ = {'_iterator': typing.Union[_ForwardRef('_BaseDataLoa...\n",
            " |  \n",
            " |  __args__ = None\n",
            " |  \n",
            " |  __extra__ = None\n",
            " |  \n",
            " |  __next_in_mro__ = <class 'object'>\n",
            " |      The most base type\n",
            " |  \n",
            " |  __orig_bases__ = (typing.Generic[+T_co],)\n",
            " |  \n",
            " |  __origin__ = None\n",
            " |  \n",
            " |  __parameters__ = (+T_co,)\n",
            " |  \n",
            " |  __tree_hash__ = -9223372036848650691\n",
            " |  \n",
            " |  ----------------------------------------------------------------------\n",
            " |  Static methods inherited from typing.Generic:\n",
            " |  \n",
            " |  __new__(cls, *args, **kwds)\n",
            " |      Create and return a new object.  See help(type) for accurate signature.\n",
            "\n"
          ],
          "name": "stdout"
        }
      ]
    },
    {
      "cell_type": "markdown",
      "metadata": {
        "id": "TmvPROOEHwGY"
      },
      "source": [
        "Q2. Wrap the dataloader with python “iter” class which will give you an iterable object from which you can get new images and labels using .next(). After applying iter, iterate through a few samples, check the shape, the datatype of the image, label tuple that you are getting. Plot some of the images. Also, print the flattened shape of each image. (hint: use .flatten())\n"
      ]
    },
    {
      "cell_type": "code",
      "metadata": {
        "colab": {
          "base_uri": "https://localhost:8080/"
        },
        "id": "bi27wJQitA_m",
        "outputId": "0e84ccb4-e8c5-46b6-c48e-2d3cff9dd736"
      },
      "source": [
        "print('Dataset: ', trainloader.dataset)\r\n",
        "print('samples per batch: ', trainloader.batch_size)"
      ],
      "execution_count": 191,
      "outputs": [
        {
          "output_type": "stream",
          "text": [
            "Dataset:  Dataset MNIST\n",
            "    Number of datapoints: 60000\n",
            "    Root location: /root/.pytorch/MNIST_data/\n",
            "    Split: Train\n",
            "    StandardTransform\n",
            "Transform: Compose(\n",
            "               ToTensor()\n",
            "               Normalize(mean=(0.5,), std=(0.5,))\n",
            "           )\n",
            "samples per batch:  64\n"
          ],
          "name": "stdout"
        }
      ]
    },
    {
      "cell_type": "code",
      "metadata": {
        "colab": {
          "base_uri": "https://localhost:8080/"
        },
        "id": "CroqW1JWr8or",
        "outputId": "e4690b29-d0e3-488f-da27-8a562604090b"
      },
      "source": [
        "# Here we are doing some initial analysis of what .next of dataloader returns\r\n",
        "train_iter = iter(trainloader)\r\n",
        "batches, labels = train_iter.next()\r\n",
        "\r\n",
        "# check the shape\r\n",
        "print('Tensor shape: ', batches.shape)\r\n",
        "# the datatype of the image\r\n",
        "print('Datatype of image: ', batches.type)\r\n",
        "# label tuple that you are getting\r\n",
        "print('Label tuple: ', labels)\r\n",
        "# Also, print the flattened shape of each image. (hint: use .flatten())\r\n",
        "print('Flattened shape of each image: ', batches[0].flatten().shape)"
      ],
      "execution_count": 192,
      "outputs": [
        {
          "output_type": "stream",
          "text": [
            "Tensor shape:  torch.Size([64, 1, 28, 28])\n",
            "Datatype of image:  <built-in method type of Tensor object at 0x7efd1b512288>\n",
            "Label tuple:  tensor([9, 5, 0, 7, 4, 9, 0, 8, 1, 8, 8, 2, 9, 0, 6, 1, 4, 7, 2, 2, 1, 8, 7, 6,\n",
            "        9, 4, 1, 2, 8, 3, 5, 0, 9, 1, 4, 0, 4, 2, 0, 0, 3, 5, 9, 4, 0, 8, 0, 4,\n",
            "        8, 4, 4, 6, 4, 4, 7, 1, 0, 4, 0, 7, 9, 3, 7, 0])\n",
            "Flattened shape of each image:  torch.Size([784])\n"
          ],
          "name": "stdout"
        }
      ]
    },
    {
      "cell_type": "code",
      "metadata": {
        "colab": {
          "base_uri": "https://localhost:8080/",
          "height": 454
        },
        "id": "KNZUQobdutI5",
        "outputId": "13bea43a-00a6-4637-f8dc-57ef4aa95a61"
      },
      "source": [
        "np.random.seed(0)     # We need to set the seed to help in reproducibility of data\r\n",
        "\r\n",
        "length_of_dict_class = 10 # This indicates we have 10 labels corresponding to Mnist dataset\r\n",
        "dict_class = {0:\"zero\", 1:\"one\", 2: \"two\", 3: \"three\", 4:\"four\", 5:\"five\", 6:\"six\", 7:\"seven\", 8:\"eight\", 9:\"nine\"}\r\n",
        "\r\n",
        "# Since we notice the dimension of image is 1 * 28 * 28, this means image is gray scale, \r\n",
        "# it has only one channel, we should squeeze the extra dimension\r\n",
        "\r\n",
        "\r\n",
        "def visualize_images(examples_per_class):\r\n",
        "    \r\n",
        "    for cls in range(length_of_dict_class):\r\n",
        "        idxs = np.where((labels == cls))[0] # Find index of the specific class\r\n",
        "        # If in this batch we do not get the required number of samples we want to show, skip\r\n",
        "        if len(idxs) >= examples_per_class:\r\n",
        "            idxs = np.random.choice(idxs, examples_per_class, replace=False) \r\n",
        "        \r\n",
        "        # Plot here\r\n",
        "        for enu_idx, img_idx in enumerate(idxs):\r\n",
        "            plt_index = enu_idx * length_of_dict_class + cls + 1\r\n",
        "            plt.subplot(examples_per_class, length_of_dict_class, plt_index)\r\n",
        "            plt.imshow(torch.squeeze(batches[img_idx]))\r\n",
        "            plt.axis('off')\r\n",
        "            if enu_idx == 0:\r\n",
        "                plt.title(dict_class[cls])\r\n",
        "    \r\n",
        "visualize_images(5)"
      ],
      "execution_count": 193,
      "outputs": [
        {
          "output_type": "display_data",
          "data": {
            "image/png": "[encoded data removed]",
            "text/plain": [
              "<Figure size 720x576 with 44 Axes>"
            ]
          },
          "metadata": {
            "tags": [],
            "needs_background": "light"
          }
        }
      ]
    },
    {
      "cell_type": "markdown",
      "metadata": {
        "id": "vkEIv5JZH02X"
      },
      "source": [
        "\n",
        "Q3. Build a multilayer neural network with 3 fully connected layers of shape (784, 128), (128, 64) and then (64, 10). Use ReLu activation in between each layer, and at the end of the output layer. \n",
        "The class should have a forward function that you will manually create. The forward will take image batch as an input (image_batch * flattened_image_784_size) and return (image_batch x 10) size vectors.\n",
        "\n",
        "**Hint**: Use torch.nn.Linear for linear layers. Follow this pytorch module to understand how to inherit the [pytorch module](https://pytorch.org/docs/stable/generated/torch.nn.Module.html#torch.nn.Module) class.\n"
      ]
    },
    {
      "cell_type": "code",
      "metadata": {
        "colab": {
          "base_uri": "https://localhost:8080/"
        },
        "id": "xIkPZ0nrCBSN",
        "outputId": "88eb5196-ae86-4fba-8833-c6929a8400ae"
      },
      "source": [
        "# Declare device which you will be working with\r\n",
        "device = torch.device('cuda:0') if torch.cuda.is_available() else torch.device('cpu')\r\n",
        "device"
      ],
      "execution_count": 194,
      "outputs": [
        {
          "output_type": "execute_result",
          "data": {
            "text/plain": [
              "device(type='cpu')"
            ]
          },
          "metadata": {
            "tags": []
          },
          "execution_count": 194
        }
      ]
    },
    {
      "cell_type": "code",
      "metadata": {
        "id": "pCBKM8B5H3s2"
      },
      "source": [
        "class Model(nn.Module):\n",
        "    \"\"\"\n",
        "    Multilayer neural network with 3 fully connected layers of shape \n",
        "    (784, 128) -> (128, 64) -> (64, 10)\n",
        "    \"\"\"\n",
        "\n",
        "    # Use ReLu activation in between each layer, and at the end of the output layer. \n",
        "    # The class should have a forward function that you will manually create. \n",
        "    # The forward will take image batch as an input (image_batch * flattened_image_784_size) and return (image_batch x 10) size vectors.\n",
        "    def __init__(self):\n",
        "        # Creates an instance of the base nn.Module class\n",
        "        super(Model, self).__init__() # Inheritance of the base class nn.Module\n",
        "        # Fully connected layers\n",
        "        self.fc1 = nn.Linear(784, 128) # 28 x 28 input pixels connecting to the first hidden layer (128 node)\n",
        "        self.fc2 = nn.Linear(128, 64) # 128 to 64 hidden layer\n",
        "        self.fc3 = nn.Linear(64, 10) # last hidden layer to the output layer (with 10 nodes).\n",
        "\n",
        "    def forward(self, x):\n",
        "        x = F.relu(self.fc1(x))\n",
        "        x = F.relu(self.fc2(x))\n",
        "        x = self.fc3(x)\n",
        "        return x\n",
        "\n",
        "# network = Model().to(device)\n",
        "# print(network)"
      ],
      "execution_count": 195,
      "outputs": []
    },
    {
      "cell_type": "markdown",
      "metadata": {
        "id": "EhhDVNdMH5GM"
      },
      "source": [
        "Q4. Create a cross-entropy loss. You can create it yourself (just like the last tutorial) or create it by using torch.nn.CrossEntropyLoss (pytorch cross-entropy loss uses logits, not softmax probabilities, so we had not applied softmax at the last layer). Initialize an SGD optimizer from torch.optim. \n",
        "\n",
        "**PyTorch Loss-Input Confusion (Cheatsheet)**\n",
        "\n",
        "*   torch.nn.functional.binary_cross_entropy takes logistic sigmoid values as inputs\n",
        "*   torch.nn.functional.binary_cross_entropy_with_logits takes logits as inputs\n",
        "*   torch.nn.functional.cross_entropy takes logits as inputs (performs log_softmax internally)\n",
        "*   torch.nn.functional.nll_loss is like cross_entropy but takes log-probabilities (log-softmax) values as inputs\n"
      ]
    },
    {
      "cell_type": "code",
      "metadata": {
        "id": "6Wn9KGV9H8OM"
      },
      "source": [
        "# used 0.1 learning rate\n",
        "learning_rate = 0.1\n",
        "momentum = 0\n",
        "# create a stochastic gradient descent optimizer\n",
        "optimizer = torch.optim.SGD(network.parameters(), lr=learning_rate, momentum=momentum) \n",
        "# create a loss function\n",
        "criterion = nn.CrossEntropyLoss()"
      ],
      "execution_count": 196,
      "outputs": []
    },
    {
      "cell_type": "markdown",
      "metadata": {
        "id": "2tuGd0H2H9GD"
      },
      "source": [
        "\n",
        "Q5. (1 pass of the data) Write a training loop which will \n",
        "1.\tGet data batches from dataloader, feed it into the network and get outputs.\n",
        "2.\tGet loss using outputs and ground truth labels.\n",
        "3.\tCall backward on the loss (remember to clear grads before calling gradients)\n",
        "4.\tCall optimizer.step to perform SGD update.\n",
        "5.\tPrint the accuracy, loss and amount of data used till now.\n",
        "\n",
        "\n",
        "**Note**: We have used only training split in this week tutorial for sake of simplicity of the tutorial. \n"
      ]
    },
    {
      "cell_type": "code",
      "metadata": {
        "colab": {
          "base_uri": "https://localhost:8080/"
        },
        "id": "89yBKAZyf98b",
        "outputId": "b9c5a5bc-6073-4905-9754-e607f75d8f2c"
      },
      "source": [
        "def cal_acc(outputs, labels):\r\n",
        "    # probs: probability that each image is labeled as 1\r\n",
        "    # target: ground truth label\r\n",
        "    correct = 0\r\n",
        "    total = 0\r\n",
        "    with torch.no_grad():\r\n",
        "        _, predicted = torch.max(outputs.data, 1)\r\n",
        "        total += labels.size(0)\r\n",
        "        correct += (predicted == labels).sum().item()\r\n",
        "    return 100 * correct / total\r\n",
        "\r\n",
        "def train_one_pass(p_network, criterion, p_optim, trainloader, epoch=1, log_interval=100):\r\n",
        "    p_network.train()\r\n",
        "    acc_one_pass, loss_one_pass = [], []\r\n",
        "    for idx, (images, labels) in enumerate(trainloader):\r\n",
        "        # Move tensors to the configured device\r\n",
        "        images = images.reshape(-1, 28*28).to(device) # resize data from (batch_size, 1, 28, 28) to (batch_size, 28*28)\r\n",
        "        labels = labels.to(device)\r\n",
        "        \r\n",
        "        # Forward pass\r\n",
        "        model_out = p_network(images)\r\n",
        "        loss = criterion(model_out, labels) # Get loss using outputs and ground truth labels.\r\n",
        "        \r\n",
        "        # Backprpagation and optimization\r\n",
        "        p_optim.zero_grad() # remember to clear grads before calling gradients\r\n",
        "        loss.backward() # Call backward on the loss ()\r\n",
        "        p_optim.step() # Call optimizer.step to perform SGD update.\r\n",
        "        \r\n",
        "        acc = cal_acc(model_out, labels) # Print the accuracy, loss and amount of data used till now.\r\n",
        "\r\n",
        "        # Print Information\r\n",
        "        if (idx + 1) % log_interval == 0:\r\n",
        "            print('Iter: [{}/{} ({:.2f}%)] \\t Train Loss: {:.4f} \\t Train Accuracy: {:.2f}%'.format(\r\n",
        "                (idx+1) * len(images), len(trainset), \r\n",
        "                100.*(idx+1) * len(images)/len(trainset), loss, acc))\r\n",
        "        acc_one_pass.append(acc)\r\n",
        "        loss_one_pass.append(loss)\r\n",
        "    \r\n",
        "    avg_acc = sum(acc_one_pass) / len(acc_one_pass)\r\n",
        "    avg_loss = sum(loss_one_pass) / len(loss_one_pass)\r\n",
        "    print('Train on Epoch: {} \\t Loss: {:.4f} \\t Accuracy: {:.2f}%'.format(\r\n",
        "        epoch, avg_loss, avg_acc).center(76, '='))\r\n",
        "\r\n",
        "\r\n",
        "def test_one_pass(p_network, testloader, epoch=1):\r\n",
        "    p_network.eval()\r\n",
        "    loss_lst, acc_lst = [], []\r\n",
        "    with torch.no_grad():\r\n",
        "        for images, labels in testloader:\r\n",
        "            images = images.reshape(-1, 28*28).to(device) # resize data from (batch_size, 1, 28, 28) to (batch_size, 28*28)\r\n",
        "            labels = labels.to(device)\r\n",
        "            model_out = p_network(images)\r\n",
        "            loss = criterion(model_out, labels)\r\n",
        "            acc = cal_acc(model_out, labels)\r\n",
        "            loss_lst.append(loss)\r\n",
        "            acc_lst.append(acc)\r\n",
        "    loss = sum(loss_lst) / len(loss_lst)\r\n",
        "    acc = sum(acc_lst) / len(acc_lst)\r\n",
        "    print('Test on Epoch: {} \\t Loss: {:.4f} \\t Accuracy: {:.2f}%'.format(\r\n",
        "        epoch, loss, acc).center(76, '='))\r\n",
        "\r\n",
        "network = Model().to(device)\r\n",
        "\r\n",
        "# Loss and optimizer\r\n",
        "optimizer = torch.optim.SGD(network.parameters(), lr=0.01, momentum=momentum) \r\n",
        "\r\n",
        "# Train the model\r\n",
        "train_one_pass(network, criterion, optimizer, trainloader)\r\n",
        "\r\n",
        "# Test the model\r\n",
        "test_one_pass(network, testloader)"
      ],
      "execution_count": 197,
      "outputs": [
        {
          "output_type": "stream",
          "text": [
            "Iter: [6400/60000 (10.67%)] \t Train Loss: 2.1583 \t Train Accuracy: 40.62%\n",
            "Iter: [12800/60000 (21.33%)] \t Train Loss: 1.6513 \t Train Accuracy: 60.94%\n",
            "Iter: [19200/60000 (32.00%)] \t Train Loss: 1.1374 \t Train Accuracy: 71.88%\n",
            "Iter: [25600/60000 (42.67%)] \t Train Loss: 0.9190 \t Train Accuracy: 75.00%\n",
            "Iter: [32000/60000 (53.33%)] \t Train Loss: 0.6841 \t Train Accuracy: 82.81%\n",
            "Iter: [38400/60000 (64.00%)] \t Train Loss: 0.6448 \t Train Accuracy: 87.50%\n",
            "Iter: [44800/60000 (74.67%)] \t Train Loss: 0.5599 \t Train Accuracy: 81.25%\n",
            "Iter: [51200/60000 (85.33%)] \t Train Loss: 0.4814 \t Train Accuracy: 85.94%\n",
            "Iter: [57600/60000 (96.00%)] \t Train Loss: 0.4426 \t Train Accuracy: 81.25%\n",
            "============Train on Epoch: 1 \t Loss: 1.0552 \t Accuracy: 72.00%=============\n",
            "=============Test on Epoch: 1 \t Loss: 0.4545 \t Accuracy: 86.37%=============\n"
          ],
          "name": "stdout"
        }
      ]
    },
    {
      "cell_type": "markdown",
      "metadata": {
        "id": "zBLLqaCWH_sY"
      },
      "source": [
        "\n",
        "Q6. (Multiple Passes of Data) Write a loop to perform the training pass for 50 training iterations (50 epochs, this is outer for loop of data loader). Print and save accuracy and loss after each epoch.\n"
      ]
    },
    {
      "cell_type": "code",
      "metadata": {
        "colab": {
          "base_uri": "https://localhost:8080/"
        },
        "id": "sy0JoCSziO5t",
        "outputId": "21ced675-e9b7-4955-8576-0c3c8e1e95b2"
      },
      "source": [
        "def multiple_pass(model, criterion, optimizer, train_loader, testloader, num_epochs=10, log_interval=300):\r\n",
        "    # Train the model\r\n",
        "    total_step = len(train_loader)\r\n",
        "    for epoch in range(1, num_epochs + 1):\r\n",
        "        train_one_pass(model, criterion, optimizer, train_loader, \r\n",
        "                       epoch=epoch, log_interval=log_interval)\r\n",
        "        test_one_pass(model, testloader, \r\n",
        "                      epoch=epoch)\r\n",
        "\r\n",
        "network = Model().to(device)\r\n",
        "\r\n",
        "# Loss and optimizer\r\n",
        "criterion = nn.CrossEntropyLoss()\r\n",
        "optimizer = torch.optim.SGD(network.parameters(), lr=0.01, momentum=momentum) \r\n",
        "\r\n",
        "# Train and Test\r\n",
        "multiple_pass(network, criterion, optimizer, trainloader, testloader,\r\n",
        "              num_epochs=10)"
      ],
      "execution_count": 198,
      "outputs": [
        {
          "output_type": "stream",
          "text": [
            "Iter: [19200/60000 (32.00%)] \t Train Loss: 1.1691 \t Train Accuracy: 78.12%\n",
            "Iter: [38400/60000 (64.00%)] \t Train Loss: 0.7226 \t Train Accuracy: 79.69%\n",
            "Iter: [57600/60000 (96.00%)] \t Train Loss: 0.3608 \t Train Accuracy: 93.75%\n",
            "============Train on Epoch: 1 \t Loss: 1.0104 \t Accuracy: 71.39%=============\n",
            "=============Test on Epoch: 1 \t Loss: 0.4279 \t Accuracy: 88.19%=============\n",
            "Iter: [19200/60000 (32.00%)] \t Train Loss: 0.2429 \t Train Accuracy: 95.31%\n",
            "Iter: [38400/60000 (64.00%)] \t Train Loss: 0.2030 \t Train Accuracy: 95.31%\n",
            "Iter: [57600/60000 (96.00%)] \t Train Loss: 0.4817 \t Train Accuracy: 84.38%\n",
            "============Train on Epoch: 2 \t Loss: 0.3835 \t Accuracy: 89.08%=============\n",
            "=============Test on Epoch: 2 \t Loss: 0.3331 \t Accuracy: 90.26%=============\n",
            "Iter: [19200/60000 (32.00%)] \t Train Loss: 0.2352 \t Train Accuracy: 93.75%\n",
            "Iter: [38400/60000 (64.00%)] \t Train Loss: 0.2316 \t Train Accuracy: 90.62%\n",
            "Iter: [57600/60000 (96.00%)] \t Train Loss: 0.1975 \t Train Accuracy: 95.31%\n",
            "============Train on Epoch: 3 \t Loss: 0.3235 \t Accuracy: 90.58%=============\n",
            "=============Test on Epoch: 3 \t Loss: 0.2924 \t Accuracy: 91.32%=============\n",
            "Iter: [19200/60000 (32.00%)] \t Train Loss: 0.1708 \t Train Accuracy: 96.88%\n",
            "Iter: [38400/60000 (64.00%)] \t Train Loss: 0.3865 \t Train Accuracy: 89.06%\n",
            "Iter: [57600/60000 (96.00%)] \t Train Loss: 0.1664 \t Train Accuracy: 93.75%\n",
            "============Train on Epoch: 4 \t Loss: 0.2917 \t Accuracy: 91.41%=============\n",
            "=============Test on Epoch: 4 \t Loss: 0.2853 \t Accuracy: 91.52%=============\n",
            "Iter: [19200/60000 (32.00%)] \t Train Loss: 0.3688 \t Train Accuracy: 85.94%\n",
            "Iter: [38400/60000 (64.00%)] \t Train Loss: 0.2553 \t Train Accuracy: 93.75%\n",
            "Iter: [57600/60000 (96.00%)] \t Train Loss: 0.1922 \t Train Accuracy: 95.31%\n",
            "============Train on Epoch: 5 \t Loss: 0.2676 \t Accuracy: 92.10%=============\n",
            "=============Test on Epoch: 5 \t Loss: 0.2554 \t Accuracy: 92.41%=============\n",
            "Iter: [19200/60000 (32.00%)] \t Train Loss: 0.2113 \t Train Accuracy: 92.19%\n",
            "Iter: [38400/60000 (64.00%)] \t Train Loss: 0.1692 \t Train Accuracy: 93.75%\n",
            "Iter: [57600/60000 (96.00%)] \t Train Loss: 0.2259 \t Train Accuracy: 95.31%\n",
            "============Train on Epoch: 6 \t Loss: 0.2459 \t Accuracy: 92.85%=============\n",
            "=============Test on Epoch: 6 \t Loss: 0.2266 \t Accuracy: 93.36%=============\n",
            "Iter: [19200/60000 (32.00%)] \t Train Loss: 0.2704 \t Train Accuracy: 90.62%\n",
            "Iter: [38400/60000 (64.00%)] \t Train Loss: 0.2356 \t Train Accuracy: 95.31%\n",
            "Iter: [57600/60000 (96.00%)] \t Train Loss: 0.1793 \t Train Accuracy: 93.75%\n",
            "============Train on Epoch: 7 \t Loss: 0.2265 \t Accuracy: 93.42%=============\n",
            "=============Test on Epoch: 7 \t Loss: 0.2198 \t Accuracy: 93.57%=============\n",
            "Iter: [19200/60000 (32.00%)] \t Train Loss: 0.2253 \t Train Accuracy: 92.19%\n",
            "Iter: [38400/60000 (64.00%)] \t Train Loss: 0.2269 \t Train Accuracy: 93.75%\n",
            "Iter: [57600/60000 (96.00%)] \t Train Loss: 0.2910 \t Train Accuracy: 93.75%\n",
            "============Train on Epoch: 8 \t Loss: 0.2087 \t Accuracy: 93.83%=============\n",
            "=============Test on Epoch: 8 \t Loss: 0.2004 \t Accuracy: 94.12%=============\n",
            "Iter: [19200/60000 (32.00%)] \t Train Loss: 0.1804 \t Train Accuracy: 90.62%\n",
            "Iter: [38400/60000 (64.00%)] \t Train Loss: 0.1907 \t Train Accuracy: 95.31%\n",
            "Iter: [57600/60000 (96.00%)] \t Train Loss: 0.1875 \t Train Accuracy: 98.44%\n",
            "============Train on Epoch: 9 \t Loss: 0.1929 \t Accuracy: 94.37%=============\n",
            "=============Test on Epoch: 9 \t Loss: 0.1861 \t Accuracy: 94.41%=============\n",
            "Iter: [19200/60000 (32.00%)] \t Train Loss: 0.2438 \t Train Accuracy: 93.75%\n",
            "Iter: [38400/60000 (64.00%)] \t Train Loss: 0.1676 \t Train Accuracy: 95.31%\n",
            "Iter: [57600/60000 (96.00%)] \t Train Loss: 0.3164 \t Train Accuracy: 92.19%\n",
            "============Train on Epoch: 10 \t Loss: 0.1792 \t Accuracy: 94.75%============\n",
            "============Test on Epoch: 10 \t Loss: 0.1738 \t Accuracy: 94.70%=============\n"
          ],
          "name": "stdout"
        }
      ]
    },
    {
      "cell_type": "markdown",
      "metadata": {
        "id": "nhIF4yegIBxb"
      },
      "source": [
        "\n",
        "Q7. Play around with the momentum of the SGD optimizer and then replace the SGD optimizer with Adam and RMSProp and analyze the loss trajectory (save the value of loss in an array after each update) of 50 training iterations for each of these types of optimizers. \n"
      ]
    },
    {
      "cell_type": "code",
      "metadata": {
        "id": "Pke4C-BpIDKc",
        "colab": {
          "base_uri": "https://localhost:8080/"
        },
        "outputId": "0b0f2e44-cb52-4ad8-ecdd-61dc37e02249"
      },
      "source": [
        "network = Model().to(device)\n",
        "\n",
        "# Loss and optimizer\n",
        "criterion = nn.CrossEntropyLoss()\n",
        "adam_optim = torch.optim.Adam(network.parameters(), lr=0.01) \n",
        "\n",
        "# Train and Test\n",
        "multiple_pass(network, criterion, adam_optim, trainloader, testloader,\n",
        "              num_epochs=10)"
      ],
      "execution_count": 199,
      "outputs": [
        {
          "output_type": "stream",
          "text": [
            "Iter: [19200/60000 (32.00%)] \t Train Loss: 0.1747 \t Train Accuracy: 92.19%\n",
            "Iter: [38400/60000 (64.00%)] \t Train Loss: 0.2565 \t Train Accuracy: 92.19%\n",
            "Iter: [57600/60000 (96.00%)] \t Train Loss: 0.2517 \t Train Accuracy: 92.19%\n",
            "============Train on Epoch: 1 \t Loss: 0.3899 \t Accuracy: 88.04%=============\n",
            "=============Test on Epoch: 1 \t Loss: 0.2676 \t Accuracy: 92.34%=============\n",
            "Iter: [19200/60000 (32.00%)] \t Train Loss: 0.1213 \t Train Accuracy: 95.31%\n",
            "Iter: [38400/60000 (64.00%)] \t Train Loss: 0.1626 \t Train Accuracy: 93.75%\n",
            "Iter: [57600/60000 (96.00%)] \t Train Loss: 0.2421 \t Train Accuracy: 92.19%\n",
            "============Train on Epoch: 2 \t Loss: 0.2500 \t Accuracy: 92.62%=============\n",
            "=============Test on Epoch: 2 \t Loss: 0.2099 \t Accuracy: 93.80%=============\n",
            "Iter: [19200/60000 (32.00%)] \t Train Loss: 0.3708 \t Train Accuracy: 92.19%\n",
            "Iter: [38400/60000 (64.00%)] \t Train Loss: 0.4265 \t Train Accuracy: 87.50%\n",
            "Iter: [57600/60000 (96.00%)] \t Train Loss: 0.0350 \t Train Accuracy: 100.00%\n",
            "============Train on Epoch: 3 \t Loss: 0.2356 \t Accuracy: 93.32%=============\n",
            "=============Test on Epoch: 3 \t Loss: 0.2451 \t Accuracy: 93.01%=============\n",
            "Iter: [19200/60000 (32.00%)] \t Train Loss: 0.3152 \t Train Accuracy: 89.06%\n",
            "Iter: [38400/60000 (64.00%)] \t Train Loss: 0.1811 \t Train Accuracy: 96.88%\n",
            "Iter: [57600/60000 (96.00%)] \t Train Loss: 0.1233 \t Train Accuracy: 93.75%\n",
            "============Train on Epoch: 4 \t Loss: 0.2252 \t Accuracy: 93.65%=============\n",
            "=============Test on Epoch: 4 \t Loss: 0.2181 \t Accuracy: 93.90%=============\n",
            "Iter: [19200/60000 (32.00%)] \t Train Loss: 0.1230 \t Train Accuracy: 93.75%\n",
            "Iter: [38400/60000 (64.00%)] \t Train Loss: 0.1097 \t Train Accuracy: 96.88%\n",
            "Iter: [57600/60000 (96.00%)] \t Train Loss: 0.1838 \t Train Accuracy: 92.19%\n",
            "============Train on Epoch: 5 \t Loss: 0.2052 \t Accuracy: 94.25%=============\n",
            "=============Test on Epoch: 5 \t Loss: 0.3009 \t Accuracy: 92.20%=============\n",
            "Iter: [19200/60000 (32.00%)] \t Train Loss: 0.1215 \t Train Accuracy: 96.88%\n",
            "Iter: [38400/60000 (64.00%)] \t Train Loss: 0.0803 \t Train Accuracy: 98.44%\n",
            "Iter: [57600/60000 (96.00%)] \t Train Loss: 0.1595 \t Train Accuracy: 95.31%\n",
            "============Train on Epoch: 6 \t Loss: 0.2029 \t Accuracy: 94.39%=============\n",
            "=============Test on Epoch: 6 \t Loss: 0.2128 \t Accuracy: 94.43%=============\n",
            "Iter: [19200/60000 (32.00%)] \t Train Loss: 0.2966 \t Train Accuracy: 95.31%\n",
            "Iter: [38400/60000 (64.00%)] \t Train Loss: 0.1493 \t Train Accuracy: 96.88%\n",
            "Iter: [57600/60000 (96.00%)] \t Train Loss: 0.1593 \t Train Accuracy: 93.75%\n",
            "============Train on Epoch: 7 \t Loss: 0.2007 \t Accuracy: 94.62%=============\n",
            "=============Test on Epoch: 7 \t Loss: 0.1752 \t Accuracy: 95.19%=============\n",
            "Iter: [19200/60000 (32.00%)] \t Train Loss: 0.2948 \t Train Accuracy: 93.75%\n",
            "Iter: [38400/60000 (64.00%)] \t Train Loss: 0.1303 \t Train Accuracy: 95.31%\n",
            "Iter: [57600/60000 (96.00%)] \t Train Loss: 0.2188 \t Train Accuracy: 92.19%\n",
            "============Train on Epoch: 8 \t Loss: 0.1912 \t Accuracy: 94.86%=============\n",
            "=============Test on Epoch: 8 \t Loss: 0.2203 \t Accuracy: 94.70%=============\n",
            "Iter: [19200/60000 (32.00%)] \t Train Loss: 0.0614 \t Train Accuracy: 98.44%\n",
            "Iter: [38400/60000 (64.00%)] \t Train Loss: 0.2051 \t Train Accuracy: 92.19%\n",
            "Iter: [57600/60000 (96.00%)] \t Train Loss: 0.0677 \t Train Accuracy: 96.88%\n",
            "============Train on Epoch: 9 \t Loss: 0.1879 \t Accuracy: 94.96%=============\n",
            "=============Test on Epoch: 9 \t Loss: 0.2130 \t Accuracy: 94.36%=============\n",
            "Iter: [19200/60000 (32.00%)] \t Train Loss: 0.1538 \t Train Accuracy: 95.31%\n",
            "Iter: [38400/60000 (64.00%)] \t Train Loss: 0.1069 \t Train Accuracy: 98.44%\n",
            "Iter: [57600/60000 (96.00%)] \t Train Loss: 0.0553 \t Train Accuracy: 98.44%\n",
            "============Train on Epoch: 10 \t Loss: 0.1849 \t Accuracy: 95.16%============\n",
            "============Test on Epoch: 10 \t Loss: 0.2010 \t Accuracy: 95.16%=============\n"
          ],
          "name": "stdout"
        }
      ]
    },
    {
      "cell_type": "markdown",
      "metadata": {
        "id": "HGKzJ3b3ID6h"
      },
      "source": [
        "\n",
        "Q8. Play around with the initialization function like uniform and gaussian learnt in the lecture slides.\n"
      ]
    },
    {
      "cell_type": "code",
      "metadata": {
        "colab": {
          "base_uri": "https://localhost:8080/"
        },
        "id": "_xoeVDWqZolb",
        "outputId": "f8670ad5-53c7-4503-a610-e646d1e23c49"
      },
      "source": [
        "def init_weights_uniform(m):\n",
        "    classname = m.__class__.__name__\n",
        "    if classname.find('Linear') != -1:\n",
        "        m.weight.data.uniform_(0.0, 1.0) # uniform distribution(bias=0)\n",
        "        m.bias.data.fill_(0)\n",
        "\n",
        "# Initialize Weight\n",
        "network_initialized = Model().to(device)\n",
        "network_initialized.apply(init_weights_uniform)\n",
        "\n",
        "# Loss and optimizer\n",
        "criterion = nn.CrossEntropyLoss()\n",
        "adam_optim = torch.optim.Adam(network_initialized.parameters(), lr=0.01) \n",
        "\n",
        "# Train and Test\n",
        "print(\"Now running the uniformed initialized model with Adam Optimizer\")\n",
        "multiple_pass(network_initialized, criterion, adam_optim, trainloader, testloader,\n",
        "              num_epochs=10)"
      ],
      "execution_count": 200,
      "outputs": [
        {
          "output_type": "stream",
          "text": [
            "Now running the uniformed initialized model with Adam Optimizer\n",
            "Iter: [19200/60000 (32.00%)] \t Train Loss: 2.2964 \t Train Accuracy: 7.81%\n",
            "Iter: [38400/60000 (64.00%)] \t Train Loss: 2.2987 \t Train Accuracy: 12.50%\n",
            "Iter: [57600/60000 (96.00%)] \t Train Loss: 2.3042 \t Train Accuracy: 7.81%\n",
            "============Train on Epoch: 1 \t Loss: 2.3021 \t Accuracy: 10.97%=============\n",
            "=============Test on Epoch: 1 \t Loss: 2.3014 \t Accuracy: 11.36%=============\n",
            "Iter: [19200/60000 (32.00%)] \t Train Loss: 2.3021 \t Train Accuracy: 10.94%\n",
            "Iter: [38400/60000 (64.00%)] \t Train Loss: 2.2904 \t Train Accuracy: 17.19%\n",
            "Iter: [57600/60000 (96.00%)] \t Train Loss: 2.2963 \t Train Accuracy: 18.75%\n",
            "============Train on Epoch: 2 \t Loss: 2.3021 \t Accuracy: 10.92%=============\n",
            "=============Test on Epoch: 2 \t Loss: 2.3020 \t Accuracy: 11.45%=============\n",
            "Iter: [19200/60000 (32.00%)] \t Train Loss: 2.3152 \t Train Accuracy: 9.38%\n",
            "Iter: [38400/60000 (64.00%)] \t Train Loss: 2.3031 \t Train Accuracy: 10.94%\n",
            "Iter: [57600/60000 (96.00%)] \t Train Loss: 2.3098 \t Train Accuracy: 7.81%\n",
            "============Train on Epoch: 3 \t Loss: 2.3021 \t Accuracy: 11.04%=============\n",
            "=============Test on Epoch: 3 \t Loss: 2.3014 \t Accuracy: 11.36%=============\n",
            "Iter: [19200/60000 (32.00%)] \t Train Loss: 2.2888 \t Train Accuracy: 14.06%\n",
            "Iter: [38400/60000 (64.00%)] \t Train Loss: 2.2856 \t Train Accuracy: 14.06%\n",
            "Iter: [57600/60000 (96.00%)] \t Train Loss: 2.3103 \t Train Accuracy: 10.94%\n",
            "============Train on Epoch: 4 \t Loss: 2.3022 \t Accuracy: 11.05%=============\n",
            "=============Test on Epoch: 4 \t Loss: 2.3011 \t Accuracy: 11.47%=============\n",
            "Iter: [19200/60000 (32.00%)] \t Train Loss: 2.3122 \t Train Accuracy: 3.12%\n",
            "Iter: [38400/60000 (64.00%)] \t Train Loss: 2.3028 \t Train Accuracy: 9.38%\n",
            "Iter: [57600/60000 (96.00%)] \t Train Loss: 2.2924 \t Train Accuracy: 15.62%\n",
            "============Train on Epoch: 5 \t Loss: 2.3021 \t Accuracy: 11.00%=============\n",
            "=============Test on Epoch: 5 \t Loss: 2.3017 \t Accuracy: 11.30%=============\n",
            "Iter: [19200/60000 (32.00%)] \t Train Loss: 2.2835 \t Train Accuracy: 21.88%\n",
            "Iter: [38400/60000 (64.00%)] \t Train Loss: 2.3303 \t Train Accuracy: 3.12%\n",
            "Iter: [57600/60000 (96.00%)] \t Train Loss: 2.3008 \t Train Accuracy: 7.81%\n",
            "============Train on Epoch: 6 \t Loss: 2.3021 \t Accuracy: 10.95%=============\n",
            "=============Test on Epoch: 6 \t Loss: 2.3032 \t Accuracy: 10.08%=============\n",
            "Iter: [19200/60000 (32.00%)] \t Train Loss: 2.3045 \t Train Accuracy: 4.69%\n",
            "Iter: [38400/60000 (64.00%)] \t Train Loss: 2.2912 \t Train Accuracy: 15.62%\n",
            "Iter: [57600/60000 (96.00%)] \t Train Loss: 2.2981 \t Train Accuracy: 12.50%\n",
            "============Train on Epoch: 7 \t Loss: 2.3022 \t Accuracy: 11.03%=============\n",
            "=============Test on Epoch: 7 \t Loss: 2.3020 \t Accuracy: 11.30%=============\n",
            "Iter: [19200/60000 (32.00%)] \t Train Loss: 2.3095 \t Train Accuracy: 10.94%\n",
            "Iter: [38400/60000 (64.00%)] \t Train Loss: 2.3161 \t Train Accuracy: 6.25%\n",
            "Iter: [57600/60000 (96.00%)] \t Train Loss: 2.3005 \t Train Accuracy: 17.19%\n",
            "============Train on Epoch: 8 \t Loss: 2.3022 \t Accuracy: 11.05%=============\n",
            "=============Test on Epoch: 8 \t Loss: 2.3013 \t Accuracy: 11.39%=============\n",
            "Iter: [19200/60000 (32.00%)] \t Train Loss: 2.3033 \t Train Accuracy: 10.94%\n",
            "Iter: [38400/60000 (64.00%)] \t Train Loss: 2.2939 \t Train Accuracy: 15.62%\n",
            "Iter: [57600/60000 (96.00%)] \t Train Loss: 2.2934 \t Train Accuracy: 10.94%\n",
            "============Train on Epoch: 9 \t Loss: 2.3022 \t Accuracy: 10.99%=============\n",
            "=============Test on Epoch: 9 \t Loss: 2.3020 \t Accuracy: 11.30%=============\n",
            "Iter: [19200/60000 (32.00%)] \t Train Loss: 2.3082 \t Train Accuracy: 6.25%\n",
            "Iter: [38400/60000 (64.00%)] \t Train Loss: 2.2999 \t Train Accuracy: 6.25%\n",
            "Iter: [57600/60000 (96.00%)] \t Train Loss: 2.3029 \t Train Accuracy: 4.69%\n",
            "============Train on Epoch: 10 \t Loss: 2.3022 \t Accuracy: 11.11%============\n",
            "============Test on Epoch: 10 \t Loss: 2.3017 \t Accuracy: 11.33%=============\n"
          ],
          "name": "stdout"
        }
      ]
    },
    {
      "cell_type": "code",
      "metadata": {
        "colab": {
          "base_uri": "https://localhost:8080/"
        },
        "id": "ntNK9TIooIy7",
        "outputId": "3009acc1-333f-4f7c-e8ba-7357c7930ba6"
      },
      "source": [
        "def weights_init_normal(m):\r\n",
        "        classname = m.__class__.__name__\r\n",
        "        if classname.find('Linear') != -1:\r\n",
        "            y = m.in_features\r\n",
        "            m.weight.data.normal_(0.0,1/np.sqrt(y))\r\n",
        "            m.bias.data.fill_(0)\r\n",
        "\r\n",
        "# Initialize Weight\r\n",
        "network_initialized = Model().to(device)\r\n",
        "network_initialized.apply(weights_init_normal)\r\n",
        "\r\n",
        "# Loss and optimizer\r\n",
        "criterion = nn.CrossEntropyLoss()\r\n",
        "adam_optim = torch.optim.Adam(network_initialized.parameters(), lr=0.01) \r\n",
        "\r\n",
        "# Train and Test\r\n",
        "print(\"Now running the normal distribution initialized model with Adam Optimizer\")\r\n",
        "multiple_pass(network_initialized, criterion, adam_optim, trainloader, testloader,\r\n",
        "              num_epochs=10)"
      ],
      "execution_count": 202,
      "outputs": [
        {
          "output_type": "stream",
          "text": [
            "Now running the normal distribution initialized model with Adam Optimizer\n",
            "Iter: [19200/60000 (32.00%)] \t Train Loss: 0.6961 \t Train Accuracy: 89.06%\n",
            "Iter: [38400/60000 (64.00%)] \t Train Loss: 0.4315 \t Train Accuracy: 82.81%\n",
            "Iter: [57600/60000 (96.00%)] \t Train Loss: 0.2836 \t Train Accuracy: 90.62%\n",
            "============Train on Epoch: 1 \t Loss: 0.4067 \t Accuracy: 87.76%=============\n",
            "=============Test on Epoch: 1 \t Loss: 0.2372 \t Accuracy: 92.87%=============\n",
            "Iter: [19200/60000 (32.00%)] \t Train Loss: 0.2362 \t Train Accuracy: 93.75%\n",
            "Iter: [38400/60000 (64.00%)] \t Train Loss: 0.1793 \t Train Accuracy: 95.31%\n",
            "Iter: [57600/60000 (96.00%)] \t Train Loss: 0.2599 \t Train Accuracy: 92.19%\n",
            "============Train on Epoch: 2 \t Loss: 0.2424 \t Accuracy: 92.77%=============\n",
            "=============Test on Epoch: 2 \t Loss: 0.2320 \t Accuracy: 93.07%=============\n",
            "Iter: [19200/60000 (32.00%)] \t Train Loss: 0.1367 \t Train Accuracy: 96.88%\n",
            "Iter: [38400/60000 (64.00%)] \t Train Loss: 0.1626 \t Train Accuracy: 93.75%\n",
            "Iter: [57600/60000 (96.00%)] \t Train Loss: 0.2533 \t Train Accuracy: 92.19%\n",
            "============Train on Epoch: 3 \t Loss: 0.2253 \t Accuracy: 93.51%=============\n",
            "=============Test on Epoch: 3 \t Loss: 0.2372 \t Accuracy: 93.04%=============\n",
            "Iter: [19200/60000 (32.00%)] \t Train Loss: 0.0903 \t Train Accuracy: 96.88%\n",
            "Iter: [38400/60000 (64.00%)] \t Train Loss: 0.2571 \t Train Accuracy: 92.19%\n",
            "Iter: [57600/60000 (96.00%)] \t Train Loss: 0.1338 \t Train Accuracy: 96.88%\n",
            "============Train on Epoch: 4 \t Loss: 0.2192 \t Accuracy: 93.81%=============\n",
            "=============Test on Epoch: 4 \t Loss: 0.2567 \t Accuracy: 92.96%=============\n",
            "Iter: [19200/60000 (32.00%)] \t Train Loss: 0.1887 \t Train Accuracy: 95.31%\n",
            "Iter: [38400/60000 (64.00%)] \t Train Loss: 0.3286 \t Train Accuracy: 92.19%\n",
            "Iter: [57600/60000 (96.00%)] \t Train Loss: 0.3443 \t Train Accuracy: 90.62%\n",
            "============Train on Epoch: 5 \t Loss: 0.2126 \t Accuracy: 94.14%=============\n",
            "=============Test on Epoch: 5 \t Loss: 0.2059 \t Accuracy: 94.36%=============\n",
            "Iter: [19200/60000 (32.00%)] \t Train Loss: 0.1531 \t Train Accuracy: 92.19%\n",
            "Iter: [38400/60000 (64.00%)] \t Train Loss: 0.1648 \t Train Accuracy: 92.19%\n",
            "Iter: [57600/60000 (96.00%)] \t Train Loss: 0.2104 \t Train Accuracy: 96.88%\n",
            "============Train on Epoch: 6 \t Loss: 0.2135 \t Accuracy: 94.03%=============\n",
            "=============Test on Epoch: 6 \t Loss: 0.2102 \t Accuracy: 94.44%=============\n",
            "Iter: [19200/60000 (32.00%)] \t Train Loss: 0.0516 \t Train Accuracy: 98.44%\n",
            "Iter: [38400/60000 (64.00%)] \t Train Loss: 0.3304 \t Train Accuracy: 90.62%\n",
            "Iter: [57600/60000 (96.00%)] \t Train Loss: 0.3508 \t Train Accuracy: 90.62%\n",
            "============Train on Epoch: 7 \t Loss: 0.2009 \t Accuracy: 94.59%=============\n",
            "=============Test on Epoch: 7 \t Loss: 0.2074 \t Accuracy: 94.61%=============\n",
            "Iter: [19200/60000 (32.00%)] \t Train Loss: 0.4351 \t Train Accuracy: 93.75%\n",
            "Iter: [38400/60000 (64.00%)] \t Train Loss: 0.1330 \t Train Accuracy: 96.88%\n",
            "Iter: [57600/60000 (96.00%)] \t Train Loss: 0.1117 \t Train Accuracy: 95.31%\n",
            "============Train on Epoch: 8 \t Loss: 0.2001 \t Accuracy: 94.55%=============\n",
            "=============Test on Epoch: 8 \t Loss: 0.1967 \t Accuracy: 94.69%=============\n",
            "Iter: [19200/60000 (32.00%)] \t Train Loss: 0.2645 \t Train Accuracy: 95.31%\n",
            "Iter: [38400/60000 (64.00%)] \t Train Loss: 0.1656 \t Train Accuracy: 95.31%\n",
            "Iter: [57600/60000 (96.00%)] \t Train Loss: 0.2406 \t Train Accuracy: 96.88%\n",
            "============Train on Epoch: 9 \t Loss: 0.1940 \t Accuracy: 94.82%=============\n",
            "=============Test on Epoch: 9 \t Loss: 0.2475 \t Accuracy: 93.47%=============\n",
            "Iter: [19200/60000 (32.00%)] \t Train Loss: 0.2195 \t Train Accuracy: 92.19%\n",
            "Iter: [38400/60000 (64.00%)] \t Train Loss: 0.3055 \t Train Accuracy: 89.06%\n",
            "Iter: [57600/60000 (96.00%)] \t Train Loss: 0.1667 \t Train Accuracy: 92.19%\n",
            "============Train on Epoch: 10 \t Loss: 0.2009 \t Accuracy: 94.70%============\n",
            "============Test on Epoch: 10 \t Loss: 0.2300 \t Accuracy: 93.91%=============\n"
          ],
          "name": "stdout"
        }
      ]
    },
    {
      "cell_type": "markdown",
      "metadata": {
        "id": "GSNwcQwcIGEG"
      },
      "source": [
        "\n",
        "Q9. Add batch normalization to each of the layers before ReLu activation function. Check how your results or iterations vary."
      ]
    },
    {
      "cell_type": "code",
      "metadata": {
        "id": "1znPChEaWyob",
        "colab": {
          "base_uri": "https://localhost:8080/"
        },
        "outputId": "f6d608f0-fed0-41cd-eedf-77a2c67ef277"
      },
      "source": [
        "class Model_Normalization(nn.Module):\n",
        "    def __init__(self):\n",
        "        super(Model_Normalization, self).__init__()\n",
        "        self.fc1 = nn.Linear(784, 128)\n",
        "        self.bn1 = nn.BatchNorm1d(num_features=128)\n",
        "        self.fc2 = nn.Linear(128, 64)\n",
        "        self.bn2 = nn.BatchNorm1d(num_features=64)\n",
        "        self.fc3 = nn.Linear(64, 10)\n",
        "\n",
        "    def forward(self, x):\n",
        "        x = F.relu(self.bn1(self.fc1(x)))\n",
        "        x = F.relu(self.bn2(self.fc2(x)))\n",
        "        x = self.fc3(x)\n",
        "        return x\n",
        "\n",
        "\n",
        "# Initialize Weight\n",
        "network_initialized = Model_Normalization().to(device)\n",
        "network_initialized.apply(weights_init_normal)\n",
        "\n",
        "# Loss and optimizer\n",
        "criterion = nn.CrossEntropyLoss()\n",
        "adam_optim = torch.optim.Adam(network_initialized.parameters(), lr=0.01) \n",
        "\n",
        "# Train and Test\n",
        "print(\"Now running the normal distribution initialized model with Adam Optimizer\")\n",
        "multiple_pass(network_initialized, criterion, adam_optim, trainloader, testloader,\n",
        "              num_epochs=10)"
      ],
      "execution_count": 203,
      "outputs": [
        {
          "output_type": "stream",
          "text": [
            "Now running the normal distribution initialized model with Adam Optimizer\n",
            "Iter: [19200/60000 (32.00%)] \t Train Loss: 0.0947 \t Train Accuracy: 98.44%\n",
            "Iter: [38400/60000 (64.00%)] \t Train Loss: 0.2248 \t Train Accuracy: 98.44%\n",
            "Iter: [57600/60000 (96.00%)] \t Train Loss: 0.2623 \t Train Accuracy: 93.75%\n",
            "============Train on Epoch: 1 \t Loss: 0.2025 \t Accuracy: 93.72%=============\n",
            "=============Test on Epoch: 1 \t Loss: 0.1104 \t Accuracy: 96.37%=============\n",
            "Iter: [19200/60000 (32.00%)] \t Train Loss: 0.0677 \t Train Accuracy: 96.88%\n",
            "Iter: [38400/60000 (64.00%)] \t Train Loss: 0.1773 \t Train Accuracy: 96.88%\n",
            "Iter: [57600/60000 (96.00%)] \t Train Loss: 0.1185 \t Train Accuracy: 95.31%\n",
            "============Train on Epoch: 2 \t Loss: 0.1032 \t Accuracy: 96.80%=============\n",
            "=============Test on Epoch: 2 \t Loss: 0.0914 \t Accuracy: 97.18%=============\n",
            "Iter: [19200/60000 (32.00%)] \t Train Loss: 0.0449 \t Train Accuracy: 98.44%\n",
            "Iter: [38400/60000 (64.00%)] \t Train Loss: 0.0558 \t Train Accuracy: 98.44%\n",
            "Iter: [57600/60000 (96.00%)] \t Train Loss: 0.0578 \t Train Accuracy: 98.44%\n",
            "============Train on Epoch: 3 \t Loss: 0.0798 \t Accuracy: 97.48%=============\n",
            "=============Test on Epoch: 3 \t Loss: 0.0878 \t Accuracy: 97.25%=============\n",
            "Iter: [19200/60000 (32.00%)] \t Train Loss: 0.0745 \t Train Accuracy: 98.44%\n",
            "Iter: [38400/60000 (64.00%)] \t Train Loss: 0.1422 \t Train Accuracy: 95.31%\n",
            "Iter: [57600/60000 (96.00%)] \t Train Loss: 0.1234 \t Train Accuracy: 96.88%\n",
            "============Train on Epoch: 4 \t Loss: 0.0675 \t Accuracy: 97.83%=============\n",
            "=============Test on Epoch: 4 \t Loss: 0.0865 \t Accuracy: 97.48%=============\n",
            "Iter: [19200/60000 (32.00%)] \t Train Loss: 0.0354 \t Train Accuracy: 98.44%\n",
            "Iter: [38400/60000 (64.00%)] \t Train Loss: 0.0214 \t Train Accuracy: 100.00%\n",
            "Iter: [57600/60000 (96.00%)] \t Train Loss: 0.0955 \t Train Accuracy: 96.88%\n",
            "============Train on Epoch: 5 \t Loss: 0.0581 \t Accuracy: 98.07%=============\n",
            "=============Test on Epoch: 5 \t Loss: 0.0750 \t Accuracy: 97.77%=============\n",
            "Iter: [19200/60000 (32.00%)] \t Train Loss: 0.0337 \t Train Accuracy: 98.44%\n",
            "Iter: [38400/60000 (64.00%)] \t Train Loss: 0.1508 \t Train Accuracy: 95.31%\n",
            "Iter: [57600/60000 (96.00%)] \t Train Loss: 0.0979 \t Train Accuracy: 93.75%\n",
            "============Train on Epoch: 6 \t Loss: 0.0507 \t Accuracy: 98.35%=============\n",
            "=============Test on Epoch: 6 \t Loss: 0.0866 \t Accuracy: 97.54%=============\n",
            "Iter: [19200/60000 (32.00%)] \t Train Loss: 0.0560 \t Train Accuracy: 96.88%\n",
            "Iter: [38400/60000 (64.00%)] \t Train Loss: 0.0275 \t Train Accuracy: 98.44%\n",
            "Iter: [57600/60000 (96.00%)] \t Train Loss: 0.0662 \t Train Accuracy: 96.88%\n",
            "============Train on Epoch: 7 \t Loss: 0.0448 \t Accuracy: 98.58%=============\n",
            "=============Test on Epoch: 7 \t Loss: 0.0956 \t Accuracy: 97.40%=============\n",
            "Iter: [19200/60000 (32.00%)] \t Train Loss: 0.0176 \t Train Accuracy: 100.00%\n",
            "Iter: [38400/60000 (64.00%)] \t Train Loss: 0.1897 \t Train Accuracy: 93.75%\n",
            "Iter: [57600/60000 (96.00%)] \t Train Loss: 0.0462 \t Train Accuracy: 96.88%\n",
            "============Train on Epoch: 8 \t Loss: 0.0425 \t Accuracy: 98.66%=============\n",
            "=============Test on Epoch: 8 \t Loss: 0.0814 \t Accuracy: 97.68%=============\n",
            "Iter: [19200/60000 (32.00%)] \t Train Loss: 0.0081 \t Train Accuracy: 100.00%\n",
            "Iter: [38400/60000 (64.00%)] \t Train Loss: 0.0164 \t Train Accuracy: 100.00%\n",
            "Iter: [57600/60000 (96.00%)] \t Train Loss: 0.0257 \t Train Accuracy: 98.44%\n",
            "============Train on Epoch: 9 \t Loss: 0.0380 \t Accuracy: 98.68%=============\n",
            "=============Test on Epoch: 9 \t Loss: 0.0772 \t Accuracy: 97.78%=============\n",
            "Iter: [19200/60000 (32.00%)] \t Train Loss: 0.0626 \t Train Accuracy: 96.88%\n",
            "Iter: [38400/60000 (64.00%)] \t Train Loss: 0.0260 \t Train Accuracy: 100.00%\n",
            "Iter: [57600/60000 (96.00%)] \t Train Loss: 0.0122 \t Train Accuracy: 100.00%\n",
            "============Train on Epoch: 10 \t Loss: 0.0361 \t Accuracy: 98.80%============\n",
            "============Test on Epoch: 10 \t Loss: 0.0786 \t Accuracy: 97.85%=============\n"
          ],
          "name": "stdout"
        }
      ]
    }
  ]
}