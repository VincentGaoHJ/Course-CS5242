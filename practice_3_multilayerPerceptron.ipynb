{
  "nbformat": 4,
  "nbformat_minor": 0,
  "metadata": {
    "colab": {
      "name": "practice_3_multilayerPerceptron.ipynb",
      "provenance": [],
      "collapsed_sections": [],
      "include_colab_link": true
    },
    "kernelspec": {
      "name": "python3",
      "display_name": "Python 3"
    }
  },
  "cells": [
    {
      "cell_type": "markdown",
      "metadata": {
        "id": "view-in-github",
        "colab_type": "text"
      },
      "source": [
        "<a href=\"https://colab.research.google.com/github/VincentGaoHJ/Course-CS5242/blob/master/practice_3_multilayerPerceptron.ipynb\" target=\"_parent\"><img src=\"https://colab.research.google.com/assets/colab-badge.svg\" alt=\"Open In Colab\"/></a>"
      ]
    },
    {
      "cell_type": "markdown",
      "metadata": {
        "id": "t--wDFP1sEdg"
      },
      "source": [
        "## Practice 3: Multilayer Networks\n"
      ]
    },
    {
      "cell_type": "code",
      "metadata": {
        "id": "DW7c6fznGFyZ",
        "colab": {
          "base_uri": "https://localhost:8080/"
        },
        "outputId": "aa076836-a4e4-4b32-e1bb-f7ce4efae679"
      },
      "source": [
        "import random\n",
        "import numpy as np\n",
        "import matplotlib.pyplot as plt\n",
        "import torch\n",
        "import torch.nn as nn\n",
        "import torch.nn.functional as F\n",
        "\n",
        "%matplotlib inline\n",
        "plt.rcParams['figure.figsize'] = (10.0, 8.0) # set default size of plots\n",
        "plt.rcParams['image.interpolation'] = 'nearest'\n",
        "plt.rcParams['image.cmap'] = 'gray'\n",
        "\n",
        "# for auto-reloading extenrnal modules\n",
        "# see http://stackoverflow.com/questions/1907993/autoreload-of-modules-in-ipython\n",
        "%load_ext autoreload\n",
        "%autoreload 2"
      ],
      "execution_count": 30,
      "outputs": [
        {
          "output_type": "stream",
          "text": [
            "The autoreload extension is already loaded. To reload it, use:\n",
            "  %reload_ext autoreload\n"
          ],
          "name": "stdout"
        }
      ]
    },
    {
      "cell_type": "markdown",
      "metadata": {
        "id": "6gYBM8VgFgwp"
      },
      "source": [
        "**Pytorch has a wide variety of datasets that one can leverage. In this tutorial, we will\n",
        "use one such dataset and build a multilayer neural network to fit the data. We will \n",
        "use PyTorch optimizers to perform the optimization process.**\n"
      ]
    },
    {
      "cell_type": "markdown",
      "metadata": {
        "id": "5oH7W65sq_Z9"
      },
      "source": [
        "Q1. Use the following snippet to get a dataloader from the already available Mnist dataset from \n",
        "PyTorch. Mnist dataset has 60,000 digit images with its corresponding labels.\n",
        "This snippet will download the dataset if not downloaded already and transform each \n",
        "image before returning it. Dataloaders are iterable over a dataset. For further reading follow [pytorch dataloader](https://pytorch.org/docs/stable/data.html)\n",
        "\n",
        "```python\n",
        "from torchvision import datasets, transforms\n",
        "\n",
        "transform = transforms.Compose([transforms.ToTensor(), transforms.Normalize((0.5,), (0.5,))])\n",
        "trainset = datasets.MNIST('~/.pytorch/MNIST_data/', download=True, train=True, transform=transform)\n",
        "traintloader = torch.utils.data.DataLoader(trainset, batch_size=64, shuffle=True)\n",
        "```"
      ]
    },
    {
      "cell_type": "code",
      "metadata": {
        "id": "6ZA4o635FW8M",
        "colab": {
          "base_uri": "https://localhost:8080/"
        },
        "outputId": "d8630952-0c75-4dd4-d5e2-271cdea1210a"
      },
      "source": [
        "from torchvision import datasets, transforms\n",
        "\n",
        "transform = transforms.Compose([transforms.ToTensor(), transforms.Normalize((0.5,), (0.5,))]) \n",
        "trainset = datasets.MNIST('~/.pytorch/MNIST_data/', download=True, train=True, transform=transform)\n",
        "traintloader = torch.utils.data.DataLoader(trainset, batch_size=64, shuffle=True)\n",
        "\n",
        "# Code for the test dataset and data loader\n",
        "testset = datasets.MNIST('~/.pytorch/MNIST_data/', download=True, train=False, transform=transform)\n",
        "testloader = torch.utils.data.DataLoader(testset, batch_size=64, shuffle=True)\n",
        "\n",
        "# Use the help command to see the dictionary elements, attributes and method of any object\n",
        "help(traintloader)"
      ],
      "execution_count": 8,
      "outputs": [
        {
          "output_type": "stream",
          "text": [
            "Help on DataLoader in module torch.utils.data.dataloader object:\n",
            "\n",
            "class DataLoader(typing.Generic)\n",
            " |  Data loader. Combines a dataset and a sampler, and provides an iterable over\n",
            " |  the given dataset.\n",
            " |  \n",
            " |  The :class:`~torch.utils.data.DataLoader` supports both map-style and\n",
            " |  iterable-style datasets with single- or multi-process loading, customizing\n",
            " |  loading order and optional automatic batching (collation) and memory pinning.\n",
            " |  \n",
            " |  See :py:mod:`torch.utils.data` documentation page for more details.\n",
            " |  \n",
            " |  Arguments:\n",
            " |      dataset (Dataset): dataset from which to load the data.\n",
            " |      batch_size (int, optional): how many samples per batch to load\n",
            " |          (default: ``1``).\n",
            " |      shuffle (bool, optional): set to ``True`` to have the data reshuffled\n",
            " |          at every epoch (default: ``False``).\n",
            " |      sampler (Sampler or Iterable, optional): defines the strategy to draw\n",
            " |          samples from the dataset. Can be any ``Iterable`` with ``__len__``\n",
            " |          implemented. If specified, :attr:`shuffle` must not be specified.\n",
            " |      batch_sampler (Sampler or Iterable, optional): like :attr:`sampler`, but\n",
            " |          returns a batch of indices at a time. Mutually exclusive with\n",
            " |          :attr:`batch_size`, :attr:`shuffle`, :attr:`sampler`,\n",
            " |          and :attr:`drop_last`.\n",
            " |      num_workers (int, optional): how many subprocesses to use for data\n",
            " |          loading. ``0`` means that the data will be loaded in the main process.\n",
            " |          (default: ``0``)\n",
            " |      collate_fn (callable, optional): merges a list of samples to form a\n",
            " |          mini-batch of Tensor(s).  Used when using batched loading from a\n",
            " |          map-style dataset.\n",
            " |      pin_memory (bool, optional): If ``True``, the data loader will copy Tensors\n",
            " |          into CUDA pinned memory before returning them.  If your data elements\n",
            " |          are a custom type, or your :attr:`collate_fn` returns a batch that is a custom type,\n",
            " |          see the example below.\n",
            " |      drop_last (bool, optional): set to ``True`` to drop the last incomplete batch,\n",
            " |          if the dataset size is not divisible by the batch size. If ``False`` and\n",
            " |          the size of dataset is not divisible by the batch size, then the last batch\n",
            " |          will be smaller. (default: ``False``)\n",
            " |      timeout (numeric, optional): if positive, the timeout value for collecting a batch\n",
            " |          from workers. Should always be non-negative. (default: ``0``)\n",
            " |      worker_init_fn (callable, optional): If not ``None``, this will be called on each\n",
            " |          worker subprocess with the worker id (an int in ``[0, num_workers - 1]``) as\n",
            " |          input, after seeding and before data loading. (default: ``None``)\n",
            " |      prefetch_factor (int, optional, keyword-only arg): Number of sample loaded\n",
            " |          in advance by each worker. ``2`` means there will be a total of\n",
            " |          2 * num_workers samples prefetched across all workers. (default: ``2``)\n",
            " |      persistent_workers (bool, optional): If ``True``, the data loader will not shutdown\n",
            " |          the worker processes after a dataset has been consumed once. This allows to \n",
            " |          maintain the workers `Dataset` instances alive. (default: ``False``)\n",
            " |  \n",
            " |  \n",
            " |  .. warning:: If the ``spawn`` start method is used, :attr:`worker_init_fn`\n",
            " |               cannot be an unpicklable object, e.g., a lambda function. See\n",
            " |               :ref:`multiprocessing-best-practices` on more details related\n",
            " |               to multiprocessing in PyTorch.\n",
            " |  \n",
            " |  .. warning:: ``len(dataloader)`` heuristic is based on the length of the sampler used.\n",
            " |               When :attr:`dataset` is an :class:`~torch.utils.data.IterableDataset`,\n",
            " |               it instead returns an estimate based on ``len(dataset) / batch_size``, with proper\n",
            " |               rounding depending on :attr:`drop_last`, regardless of multi-process loading\n",
            " |               configurations. This represents the best guess PyTorch can make because PyTorch\n",
            " |               trusts user :attr:`dataset` code in correctly handling multi-process\n",
            " |               loading to avoid duplicate data.\n",
            " |  \n",
            " |               However, if sharding results in multiple workers having incomplete last batches,\n",
            " |               this estimate can still be inaccurate, because (1) an otherwise complete batch can\n",
            " |               be broken into multiple ones and (2) more than one batch worth of samples can be\n",
            " |               dropped when :attr:`drop_last` is set. Unfortunately, PyTorch can not detect such\n",
            " |               cases in general.\n",
            " |  \n",
            " |               See `Dataset Types`_ for more details on these two types of datasets and how\n",
            " |               :class:`~torch.utils.data.IterableDataset` interacts with\n",
            " |               `Multi-process data loading`_.\n",
            " |  \n",
            " |  Method resolution order:\n",
            " |      DataLoader\n",
            " |      typing.Generic\n",
            " |      builtins.object\n",
            " |  \n",
            " |  Methods defined here:\n",
            " |  \n",
            " |  __init__(self, dataset:torch.utils.data.dataset.Dataset, batch_size:Union[int, NoneType]=1, shuffle:bool=False, sampler:Union[torch.utils.data.sampler.Sampler[int], NoneType]=None, batch_sampler:Union[torch.utils.data.sampler.Sampler[Sequence[int]], NoneType]=None, num_workers:int=0, collate_fn:Callable[[List[~T]], Any]=None, pin_memory:bool=False, drop_last:bool=False, timeout:float=0, worker_init_fn:Callable[[int], NoneType]=None, multiprocessing_context=None, generator=None, *, prefetch_factor:int=2, persistent_workers:bool=False)\n",
            " |      Initialize self.  See help(type(self)) for accurate signature.\n",
            " |  \n",
            " |  __iter__(self) -> '_BaseDataLoaderIter'\n",
            " |      # We quote '_BaseDataLoaderIter' since it isn't defined yet and the definition can't be moved up\n",
            " |      # since '_BaseDataLoaderIter' references 'DataLoader'.\n",
            " |  \n",
            " |  __len__(self) -> int\n",
            " |  \n",
            " |  __setattr__(self, attr, val)\n",
            " |      Implement setattr(self, name, value).\n",
            " |  \n",
            " |  ----------------------------------------------------------------------\n",
            " |  Data descriptors defined here:\n",
            " |  \n",
            " |  __dict__\n",
            " |      dictionary for instance variables (if defined)\n",
            " |  \n",
            " |  __weakref__\n",
            " |      list of weak references to the object (if defined)\n",
            " |  \n",
            " |  multiprocessing_context\n",
            " |  \n",
            " |  ----------------------------------------------------------------------\n",
            " |  Data and other attributes defined here:\n",
            " |  \n",
            " |  __abstractmethods__ = frozenset()\n",
            " |  \n",
            " |  __annotations__ = {'_iterator': typing.Union[_ForwardRef('_BaseDataLoa...\n",
            " |  \n",
            " |  __args__ = None\n",
            " |  \n",
            " |  __extra__ = None\n",
            " |  \n",
            " |  __next_in_mro__ = <class 'object'>\n",
            " |      The most base type\n",
            " |  \n",
            " |  __orig_bases__ = (typing.Generic[+T_co],)\n",
            " |  \n",
            " |  __origin__ = None\n",
            " |  \n",
            " |  __parameters__ = (+T_co,)\n",
            " |  \n",
            " |  __tree_hash__ = -9223372036849223167\n",
            " |  \n",
            " |  ----------------------------------------------------------------------\n",
            " |  Static methods inherited from typing.Generic:\n",
            " |  \n",
            " |  __new__(cls, *args, **kwds)\n",
            " |      Create and return a new object.  See help(type) for accurate signature.\n",
            "\n"
          ],
          "name": "stdout"
        }
      ]
    },
    {
      "cell_type": "markdown",
      "metadata": {
        "id": "TmvPROOEHwGY"
      },
      "source": [
        "Q2. Wrap the dataloader with python “iter” class which will give you an iterable object from which you can get new images and labels using .next(). After applying iter, iterate through a few samples, check the shape, the datatype of the image, label tuple that you are getting. Plot some of the images. Also, print the flattened shape of each image. (hint: use .flatten())\n"
      ]
    },
    {
      "cell_type": "code",
      "metadata": {
        "colab": {
          "base_uri": "https://localhost:8080/"
        },
        "id": "bi27wJQitA_m",
        "outputId": "1426871e-6d59-4acc-b93f-15a35760627a"
      },
      "source": [
        "print('Dataset: ', traintloader.dataset)\r\n",
        "print('samples per batch: ', traintloader.batch_size)"
      ],
      "execution_count": 14,
      "outputs": [
        {
          "output_type": "stream",
          "text": [
            "Dataset:  Dataset MNIST\n",
            "    Number of datapoints: 60000\n",
            "    Root location: /root/.pytorch/MNIST_data/\n",
            "    Split: Train\n",
            "    StandardTransform\n",
            "Transform: Compose(\n",
            "               ToTensor()\n",
            "               Normalize(mean=(0.5,), std=(0.5,))\n",
            "           )\n",
            "samples per batch:  64\n"
          ],
          "name": "stdout"
        }
      ]
    },
    {
      "cell_type": "code",
      "metadata": {
        "colab": {
          "base_uri": "https://localhost:8080/"
        },
        "id": "CroqW1JWr8or",
        "outputId": "513e7728-c7f1-4e72-e26f-b5a32ed127b8"
      },
      "source": [
        "# Here we are doing some initial analysis of what .next of dataloader returns\r\n",
        "train_iter = iter(traintloader)\r\n",
        "batches, labels = train_iter.next()\r\n",
        "\r\n",
        "# check the shape\r\n",
        "print('Tensor shape: ', batches.shape)\r\n",
        "# the datatype of the image\r\n",
        "print('Datatype of image: ', batches.type)\r\n",
        "# label tuple that you are getting\r\n",
        "print('Label tuple: ', labels)\r\n",
        "# Also, print the flattened shape of each image. (hint: use .flatten())\r\n",
        "print('Flattened shape of each image: ', batches[0].flatten().shape)"
      ],
      "execution_count": 20,
      "outputs": [
        {
          "output_type": "stream",
          "text": [
            "Tensor shape:  torch.Size([64, 1, 28, 28])\n",
            "Datatype of image:  <built-in method type of Tensor object at 0x7f3df881a990>\n",
            "Label tuple:  tensor([5, 9, 4, 9, 9, 7, 7, 3, 0, 5, 8, 8, 2, 1, 0, 9, 7, 6, 5, 8, 6, 9, 4, 2,\n",
            "        9, 7, 2, 1, 7, 6, 0, 7, 2, 9, 8, 6, 1, 0, 8, 9, 6, 1, 3, 7, 1, 4, 7, 0,\n",
            "        9, 9, 1, 9, 4, 2, 4, 8, 7, 5, 2, 7, 0, 0, 2, 3])\n",
            "Flattened shape of each image:  torch.Size([784])\n"
          ],
          "name": "stdout"
        }
      ]
    },
    {
      "cell_type": "code",
      "metadata": {
        "colab": {
          "base_uri": "https://localhost:8080/",
          "height": 454
        },
        "id": "KNZUQobdutI5",
        "outputId": "db167d91-337c-436f-b599-265c0c582519"
      },
      "source": [
        "np.random.seed(0)     # We need to set the seed to help in reproducibility of data\r\n",
        "\r\n",
        "length_of_dict_class = 10 # This indicates we have 10 labels corresponding to Mnist dataset\r\n",
        "dict_class = {0:\"zero\", 1:\"one\", 2: \"two\", 3: \"three\", 4:\"four\", 5:\"five\", 6:\"six\", 7:\"seven\", 8:\"eight\", 9:\"nine\"}\r\n",
        "\r\n",
        "# Since we notice the dimension of image is 1 * 28 * 28, this means image is gray scale, \r\n",
        "# it has only one channel, we should squeeze the extra dimension\r\n",
        "\r\n",
        "\r\n",
        "def visualize_images(examples_per_class):\r\n",
        "    \r\n",
        "    for cls in range(length_of_dict_class):\r\n",
        "        idxs = np.where((labels == cls))[0] # Find index of the specific class\r\n",
        "        # If in this batch we do not get the required number of samples we want to show, skip\r\n",
        "        if len(idxs) >= examples_per_class:\r\n",
        "            idxs = np.random.choice(idxs, examples_per_class, replace=False) \r\n",
        "        \r\n",
        "        # Plot here\r\n",
        "        for enu_idx, img_idx in enumerate(idxs):\r\n",
        "            plt_index = enu_idx * length_of_dict_class + cls + 1\r\n",
        "            plt.subplot(examples_per_class, length_of_dict_class, plt_index)\r\n",
        "            plt.imshow(torch.squeeze(batches[img_idx]))\r\n",
        "            plt.axis('off')\r\n",
        "            if enu_idx == 0:\r\n",
        "                plt.title(dict_class[cls])\r\n",
        "    \r\n",
        "visualize_images(5)"
      ],
      "execution_count": 31,
      "outputs": [
        {
          "output_type": "display_data",
          "data": {
            "image/png": "[encoded data removed]",
            "text/plain": [
              "<Figure size 720x576 with 47 Axes>"
            ]
          },
          "metadata": {
            "tags": [],
            "needs_background": "light"
          }
        }
      ]
    },
    {
      "cell_type": "markdown",
      "metadata": {
        "id": "vkEIv5JZH02X"
      },
      "source": [
        "\n",
        "Q3. Build a multilayer neural network with 3 fully connected layers of shape (784, 128), (128, 64) and then (64, 10). Use ReLu activation in between each layer, and at the end of the output layer. \n",
        "The class should have a forward function that you will manually create. The forward will take image batch as an input (image_batch * flattened_image_784_size) and return (image_batch x 10) size vectors.\n",
        "\n",
        "**Hint**: Use torch.nn.Linear for linear layers. Follow this pytorch module to understand how to inherit the [pytorch module](https://pytorch.org/docs/stable/generated/torch.nn.Module.html#torch.nn.Module) class.\n"
      ]
    },
    {
      "cell_type": "code",
      "metadata": {
        "colab": {
          "base_uri": "https://localhost:8080/"
        },
        "id": "xIkPZ0nrCBSN",
        "outputId": "27c3dd8c-3e5f-4e85-addf-ae7cb7eb32df"
      },
      "source": [
        "# Declare device which you will be working with\r\n",
        "device = torch.device('cuda:0') if torch.cuda.is_available() else torch.device('cpu')\r\n",
        "device"
      ],
      "execution_count": 33,
      "outputs": [
        {
          "output_type": "execute_result",
          "data": {
            "text/plain": [
              "device(type='cpu')"
            ]
          },
          "metadata": {
            "tags": []
          },
          "execution_count": 33
        }
      ]
    },
    {
      "cell_type": "code",
      "metadata": {
        "id": "pCBKM8B5H3s2",
        "colab": {
          "base_uri": "https://localhost:8080/"
        },
        "outputId": "433960f4-2b2b-4ad2-98d5-190647111813"
      },
      "source": [
        "class Model(nn.Module):\n",
        "    \"\"\"\n",
        "    Multilayer neural network with 3 fully connected layers of shape \n",
        "    (784, 128) -> (128, 64) -> (64, 10)\n",
        "    \"\"\"\n",
        "\n",
        "    # Use ReLu activation in between each layer, and at the end of the output layer. \n",
        "    # The class should have a forward function that you will manually create. \n",
        "    # The forward will take image batch as an input (image_batch * flattened_image_784_size) and return (image_batch x 10) size vectors.\n",
        "    def __init__(self):\n",
        "        # Creates an instance of the base nn.Module class\n",
        "        super(Model, self).__init__() # Inheritance of the base class nn.Module\n",
        "        # Fully connected layers\n",
        "        self.fc1 = nn.Linear(784, 128) # 28 x 28 input pixels connecting to the first hidden layer (128 node)\n",
        "        self.fc2 = nn.Linear(128, 64) # 128 to 64 hidden layer\n",
        "        self.fc3 = nn.Linear(64, 10) # last hidden layer to the output layer (with 10 nodes).\n",
        "\n",
        "    def forward(self, x):\n",
        "        x = F.relu(self.fc1(x))\n",
        "        x = F.relu(self.fc2(x))\n",
        "        x = F.relu(self.fc3(x))\n",
        "        return x\n",
        "\n",
        "network = Model().to(device)\n",
        "print(network)"
      ],
      "execution_count": 36,
      "outputs": [
        {
          "output_type": "stream",
          "text": [
            "Model(\n",
            "  (fc1): Linear(in_features=784, out_features=128, bias=True)\n",
            "  (fc2): Linear(in_features=128, out_features=64, bias=True)\n",
            "  (fc3): Linear(in_features=64, out_features=10, bias=True)\n",
            ")\n"
          ],
          "name": "stdout"
        }
      ]
    },
    {
      "cell_type": "markdown",
      "metadata": {
        "id": "EhhDVNdMH5GM"
      },
      "source": [
        "Q4. Create a cross-entropy loss. You can create it yourself (just like the last tutorial) or create it by using torch.nn.CrossEntropyLoss (pytorch cross-entropy loss uses logits, not softmax probabilities, so we had not applied softmax at the last layer). Initialize an SGD optimizer from torch.optim. \n",
        "\n",
        "**PyTorch Loss-Input Confusion (Cheatsheet)**\n",
        "\n",
        "*   torch.nn.functional.binary_cross_entropy takes logistic sigmoid values as inputs\n",
        "*   torch.nn.functional.binary_cross_entropy_with_logits takes logits as inputs\n",
        "*   torch.nn.functional.cross_entropy takes logits as inputs (performs log_softmax internally)\n",
        "*   torch.nn.functional.nll_loss is like cross_entropy but takes log-probabilities (log-softmax) values as inputs\n"
      ]
    },
    {
      "cell_type": "code",
      "metadata": {
        "id": "6Wn9KGV9H8OM"
      },
      "source": [
        "# used 0.1 learning rate\n",
        "learning_rate = 0.1\n",
        "momentum = 0.9\n",
        "# create a stochastic gradient descent optimizer\n",
        "optimizer = torch.optim.SGD(network.parameters(), lr=learning_rate, momentum=momentum) \n",
        "# create a loss function\n",
        "criterion = nn.NLLLoss()"
      ],
      "execution_count": 40,
      "outputs": []
    },
    {
      "cell_type": "markdown",
      "metadata": {
        "id": "2tuGd0H2H9GD"
      },
      "source": [
        "\n",
        "Q5. (1 pass of the data) Write a training loop which will \n",
        "1.\tGet data batches from dataloader, feed it into the network and get outputs.\n",
        "2.\tGet loss using outputs and ground truth labels.\n",
        "3.\tCall backward on the loss (remember to clear grads before calling gradients)\n",
        "4.\tCall optimizer.step to perform SGD update.\n",
        "5.\tPrint the accuracy, loss and amount of data used till now.\n",
        "\n",
        "\n",
        "**Note**: We have used only training split in this week tutorial for sake of simplicity of the tutorial. \n"
      ]
    },
    {
      "cell_type": "code",
      "metadata": {
        "id": "pkp6llvxH_Ik",
        "colab": {
          "base_uri": "https://localhost:8080/",
          "height": 238
        },
        "outputId": "03b3175f-ed1a-4825-8aec-8c15e44afbc7"
      },
      "source": [
        "def cal_acc(probs, target):\n",
        "    # probs: probability that each image is labeled as 1\n",
        "    # target: ground truth label\n",
        "    with torch.no_grad():\n",
        "    # ...\n",
        "\n",
        "    \n",
        "    return acc\n",
        "\n",
        "def train_one_pass(p_network, p_optim):\n",
        "  # Input: Network and Optimizer\n",
        "  # Output: Averge accuracy , Avergae loss in the pass\n",
        "  p_network.train()\n",
        "  acc_one_pass = []\n",
        "  loss_one_pass = []\n",
        "  \n",
        "  # Fill out here\n",
        "  # ...\n",
        "    \n",
        "\n",
        "    \n",
        "\n",
        "\n",
        "    \n",
        "  \n",
        "  return avg_acc, avg_loss\n",
        "\n",
        "avg_acc, avg_loss = train_one_pass(network, optimizer)\n"
      ],
      "execution_count": null,
      "outputs": [
        {
          "output_type": "stream",
          "text": [
            "/usr/local/lib/python3.6/dist-packages/ipykernel_launcher.py:18: UserWarning: To copy construct from a tensor, it is recommended to use sourceTensor.clone().detach() or sourceTensor.clone().detach().requires_grad_(True), rather than torch.tensor(sourceTensor).\n",
            "/usr/local/lib/python3.6/dist-packages/ipykernel_launcher.py:19: UserWarning: To copy construct from a tensor, it is recommended to use sourceTensor.clone().detach() or sourceTensor.clone().detach().requires_grad_(True), rather than torch.tensor(sourceTensor).\n"
          ],
          "name": "stderr"
        },
        {
          "output_type": "stream",
          "text": [
            "Iter: 0.00.  Train Total Loss: 2.28.  Train Accuracy: 21.88% \n",
            "Iter: 0.11.  Train Total Loss: 0.66.  Train Accuracy: 73.44% \n",
            "Iter: 0.21.  Train Total Loss: 0.52.  Train Accuracy: 85.94% \n",
            "Iter: 0.32.  Train Total Loss: 0.49.  Train Accuracy: 82.81% \n",
            "Iter: 0.43.  Train Total Loss: 0.27.  Train Accuracy: 89.06% \n",
            "Iter: 0.53.  Train Total Loss: 0.45.  Train Accuracy: 84.38% \n",
            "Iter: 0.64.  Train Total Loss: 0.55.  Train Accuracy: 82.81% \n",
            "Iter: 0.75.  Train Total Loss: 0.27.  Train Accuracy: 89.06% \n",
            "Iter: 0.85.  Train Total Loss: 0.28.  Train Accuracy: 92.19% \n",
            "Iter: 0.96.  Train Total Loss: 0.23.  Train Accuracy: 93.75% \n"
          ],
          "name": "stdout"
        }
      ]
    },
    {
      "cell_type": "markdown",
      "metadata": {
        "id": "zBLLqaCWH_sY"
      },
      "source": [
        "\n",
        "Q6. (Multiple Passes of Data) Write a loop to perform the training pass for 50 training iterations (50 epochs, this is outer for loop of data loader). Print and save accuracy and loss after each epoch.\n"
      ]
    },
    {
      "cell_type": "code",
      "metadata": {
        "id": "nofWiGj1IuDQ"
      },
      "source": [
        "def test_one_pass(p_network):\n",
        "  # Input: Network and Optimizer\n",
        "  # Output: Averge accuracy , Avergae loss in the pass\n",
        "  p_network.eval()\n",
        "  acc_one_pass = []\n",
        "  loss_one_pass = []\n",
        "  \n",
        "  # Fill out here\n",
        "  # ...\n",
        "\n",
        "\n",
        "\n",
        "\n",
        "\n",
        "  \n",
        "\n",
        "\n",
        "\n",
        "\n",
        "\n",
        "  return avg_acc, avg_loss"
      ],
      "execution_count": null,
      "outputs": []
    },
    {
      "cell_type": "code",
      "metadata": {
        "id": "ZyF6gB7jIA_4",
        "colab": {
          "base_uri": "https://localhost:8080/",
          "height": 1000
        },
        "outputId": "3725ee2a-352f-4955-8a02-8fde0c8e34a9"
      },
      "source": [
        "def multiple_pass(p_network, p_optim):\n",
        "  # Input: p_network, p_optim\n",
        "  # Output: Output a chart accuracy \n",
        "  all_epochs_acc = []\n",
        "  all_epochs_loss = []\n",
        "  \n",
        "  for epoch in range(10): # I have used 10, please increase it to 50 epochs to train\n",
        "    # Fill out here\n",
        "    # ...\n",
        "\n",
        "\n",
        "\n",
        "\n",
        "\n",
        "\n",
        "\n",
        "  # Plotting the accuracy and loss graphs\n",
        "  # ...\n",
        "\n",
        "\n",
        "\n",
        "\n",
        "\n",
        "\n",
        "\n",
        "print(\"Running the network with SGD optimizer with learning rate = 0.1\")\n",
        "multiple_pass(network, optimizer)"
      ],
      "execution_count": null,
      "outputs": [
        {
          "output_type": "stream",
          "text": [
            "Running the network with SGD optimizer with learning rate = 0.1\n",
            "Iter: 0.00.  Train Total Loss: 0.09.  Train Accuracy: 96.88% \n"
          ],
          "name": "stdout"
        },
        {
          "output_type": "stream",
          "text": [
            "/usr/local/lib/python3.6/dist-packages/ipykernel_launcher.py:18: UserWarning: To copy construct from a tensor, it is recommended to use sourceTensor.clone().detach() or sourceTensor.clone().detach().requires_grad_(True), rather than torch.tensor(sourceTensor).\n",
            "/usr/local/lib/python3.6/dist-packages/ipykernel_launcher.py:19: UserWarning: To copy construct from a tensor, it is recommended to use sourceTensor.clone().detach() or sourceTensor.clone().detach().requires_grad_(True), rather than torch.tensor(sourceTensor).\n"
          ],
          "name": "stderr"
        },
        {
          "output_type": "stream",
          "text": [
            "Iter: 0.11.  Train Total Loss: 0.00.  Train Accuracy: 100.00% \n",
            "Iter: 0.21.  Train Total Loss: 0.05.  Train Accuracy: 98.44% \n",
            "Iter: 0.32.  Train Total Loss: 0.01.  Train Accuracy: 100.00% \n",
            "Iter: 0.43.  Train Total Loss: 0.01.  Train Accuracy: 100.00% \n",
            "Iter: 0.53.  Train Total Loss: 0.03.  Train Accuracy: 98.44% \n",
            "Iter: 0.64.  Train Total Loss: 0.01.  Train Accuracy: 100.00% \n",
            "Iter: 0.75.  Train Total Loss: 0.01.  Train Accuracy: 100.00% \n",
            "Iter: 0.85.  Train Total Loss: 0.01.  Train Accuracy: 100.00% \n",
            "Iter: 0.96.  Train Total Loss: 0.05.  Train Accuracy: 98.44% \n",
            "\u001b[92m Epoch: 0.  Training Total Loss: 0.02.  Training Accuracy: 99.21%  \u001b[0m\n"
          ],
          "name": "stdout"
        },
        {
          "output_type": "stream",
          "text": [
            "/usr/local/lib/python3.6/dist-packages/ipykernel_launcher.py:10: UserWarning: To copy construct from a tensor, it is recommended to use sourceTensor.clone().detach() or sourceTensor.clone().detach().requires_grad_(True), rather than torch.tensor(sourceTensor).\n",
            "  # Remove the CWD from sys.path while we load stuff.\n",
            "/usr/local/lib/python3.6/dist-packages/ipykernel_launcher.py:11: UserWarning: To copy construct from a tensor, it is recommended to use sourceTensor.clone().detach() or sourceTensor.clone().detach().requires_grad_(True), rather than torch.tensor(sourceTensor).\n",
            "  # This is added back by InteractiveShellApp.init_path()\n"
          ],
          "name": "stderr"
        },
        {
          "output_type": "stream",
          "text": [
            "\u001b[92m Epoch: 0.  Test Total Loss: 0.08.  Test Accuracy: 97.81%  \u001b[0m\n",
            "Iter: 0.00.  Train Total Loss: 0.01.  Train Accuracy: 100.00% \n",
            "Iter: 0.11.  Train Total Loss: 0.04.  Train Accuracy: 98.44% \n",
            "Iter: 0.21.  Train Total Loss: 0.02.  Train Accuracy: 100.00% \n",
            "Iter: 0.32.  Train Total Loss: 0.09.  Train Accuracy: 98.44% \n",
            "Iter: 0.43.  Train Total Loss: 0.01.  Train Accuracy: 100.00% \n",
            "Iter: 0.53.  Train Total Loss: 0.01.  Train Accuracy: 100.00% \n",
            "Iter: 0.64.  Train Total Loss: 0.00.  Train Accuracy: 100.00% \n",
            "Iter: 0.75.  Train Total Loss: 0.01.  Train Accuracy: 100.00% \n",
            "Iter: 0.85.  Train Total Loss: 0.01.  Train Accuracy: 100.00% \n",
            "Iter: 0.96.  Train Total Loss: 0.02.  Train Accuracy: 100.00% \n",
            "\u001b[92m Epoch: 1.  Training Total Loss: 0.02.  Training Accuracy: 99.29%  \u001b[0m\n",
            "\u001b[92m Epoch: 1.  Test Total Loss: 0.11.  Test Accuracy: 97.04%  \u001b[0m\n",
            "Iter: 0.00.  Train Total Loss: 0.04.  Train Accuracy: 98.44% \n",
            "Iter: 0.11.  Train Total Loss: 0.04.  Train Accuracy: 98.44% \n",
            "Iter: 0.21.  Train Total Loss: 0.00.  Train Accuracy: 100.00% \n",
            "Iter: 0.32.  Train Total Loss: 0.01.  Train Accuracy: 100.00% \n",
            "Iter: 0.43.  Train Total Loss: 0.00.  Train Accuracy: 100.00% \n",
            "Iter: 0.53.  Train Total Loss: 0.00.  Train Accuracy: 100.00% \n",
            "Iter: 0.64.  Train Total Loss: 0.00.  Train Accuracy: 100.00% \n",
            "Iter: 0.75.  Train Total Loss: 0.01.  Train Accuracy: 100.00% \n",
            "Iter: 0.85.  Train Total Loss: 0.01.  Train Accuracy: 100.00% \n",
            "Iter: 0.96.  Train Total Loss: 0.09.  Train Accuracy: 98.44% \n",
            "\u001b[92m Epoch: 2.  Training Total Loss: 0.02.  Training Accuracy: 99.38%  \u001b[0m\n",
            "\u001b[92m Epoch: 2.  Test Total Loss: 0.08.  Test Accuracy: 97.76%  \u001b[0m\n",
            "Iter: 0.00.  Train Total Loss: 0.02.  Train Accuracy: 100.00% \n",
            "Iter: 0.11.  Train Total Loss: 0.02.  Train Accuracy: 98.44% \n",
            "Iter: 0.21.  Train Total Loss: 0.01.  Train Accuracy: 100.00% \n",
            "Iter: 0.32.  Train Total Loss: 0.01.  Train Accuracy: 100.00% \n",
            "Iter: 0.43.  Train Total Loss: 0.00.  Train Accuracy: 100.00% \n",
            "Iter: 0.53.  Train Total Loss: 0.03.  Train Accuracy: 98.44% \n",
            "Iter: 0.64.  Train Total Loss: 0.05.  Train Accuracy: 98.44% \n",
            "Iter: 0.75.  Train Total Loss: 0.02.  Train Accuracy: 98.44% \n",
            "Iter: 0.85.  Train Total Loss: 0.02.  Train Accuracy: 100.00% \n",
            "Iter: 0.96.  Train Total Loss: 0.01.  Train Accuracy: 100.00% \n",
            "\u001b[92m Epoch: 3.  Training Total Loss: 0.02.  Training Accuracy: 99.38%  \u001b[0m\n",
            "\u001b[92m Epoch: 3.  Test Total Loss: 0.08.  Test Accuracy: 97.77%  \u001b[0m\n",
            "Iter: 0.00.  Train Total Loss: 0.01.  Train Accuracy: 98.44% \n",
            "Iter: 0.11.  Train Total Loss: 0.00.  Train Accuracy: 100.00% \n",
            "Iter: 0.21.  Train Total Loss: 0.00.  Train Accuracy: 100.00% \n",
            "Iter: 0.32.  Train Total Loss: 0.00.  Train Accuracy: 100.00% \n",
            "Iter: 0.43.  Train Total Loss: 0.01.  Train Accuracy: 100.00% \n",
            "Iter: 0.53.  Train Total Loss: 0.02.  Train Accuracy: 98.44% \n",
            "Iter: 0.64.  Train Total Loss: 0.03.  Train Accuracy: 98.44% \n",
            "Iter: 0.75.  Train Total Loss: 0.05.  Train Accuracy: 98.44% \n",
            "Iter: 0.85.  Train Total Loss: 0.01.  Train Accuracy: 100.00% \n",
            "Iter: 0.96.  Train Total Loss: 0.00.  Train Accuracy: 100.00% \n",
            "\u001b[92m Epoch: 4.  Training Total Loss: 0.02.  Training Accuracy: 99.40%  \u001b[0m\n",
            "\u001b[92m Epoch: 4.  Test Total Loss: 0.08.  Test Accuracy: 97.91%  \u001b[0m\n",
            "Iter: 0.00.  Train Total Loss: 0.00.  Train Accuracy: 100.00% \n",
            "Iter: 0.11.  Train Total Loss: 0.00.  Train Accuracy: 100.00% \n",
            "Iter: 0.21.  Train Total Loss: 0.00.  Train Accuracy: 100.00% \n",
            "Iter: 0.32.  Train Total Loss: 0.00.  Train Accuracy: 100.00% \n",
            "Iter: 0.43.  Train Total Loss: 0.01.  Train Accuracy: 100.00% \n",
            "Iter: 0.53.  Train Total Loss: 0.01.  Train Accuracy: 98.44% \n",
            "Iter: 0.64.  Train Total Loss: 0.01.  Train Accuracy: 100.00% \n",
            "Iter: 0.75.  Train Total Loss: 0.03.  Train Accuracy: 98.44% \n",
            "Iter: 0.85.  Train Total Loss: 0.00.  Train Accuracy: 100.00% \n",
            "Iter: 0.96.  Train Total Loss: 0.00.  Train Accuracy: 100.00% \n",
            "\u001b[92m Epoch: 5.  Training Total Loss: 0.01.  Training Accuracy: 99.56%  \u001b[0m\n",
            "\u001b[92m Epoch: 5.  Test Total Loss: 0.08.  Test Accuracy: 97.76%  \u001b[0m\n",
            "Iter: 0.00.  Train Total Loss: 0.01.  Train Accuracy: 100.00% \n",
            "Iter: 0.11.  Train Total Loss: 0.02.  Train Accuracy: 98.44% \n",
            "Iter: 0.21.  Train Total Loss: 0.00.  Train Accuracy: 100.00% \n",
            "Iter: 0.32.  Train Total Loss: 0.02.  Train Accuracy: 100.00% \n",
            "Iter: 0.43.  Train Total Loss: 0.02.  Train Accuracy: 100.00% \n",
            "Iter: 0.53.  Train Total Loss: 0.00.  Train Accuracy: 100.00% \n",
            "Iter: 0.64.  Train Total Loss: 0.00.  Train Accuracy: 100.00% \n",
            "Iter: 0.75.  Train Total Loss: 0.01.  Train Accuracy: 100.00% \n",
            "Iter: 0.85.  Train Total Loss: 0.00.  Train Accuracy: 100.00% \n",
            "Iter: 0.96.  Train Total Loss: 0.02.  Train Accuracy: 100.00% \n",
            "\u001b[92m Epoch: 6.  Training Total Loss: 0.01.  Training Accuracy: 99.62%  \u001b[0m\n",
            "\u001b[92m Epoch: 6.  Test Total Loss: 0.08.  Test Accuracy: 97.78%  \u001b[0m\n",
            "Iter: 0.00.  Train Total Loss: 0.00.  Train Accuracy: 100.00% \n",
            "Iter: 0.11.  Train Total Loss: 0.01.  Train Accuracy: 100.00% \n",
            "Iter: 0.21.  Train Total Loss: 0.00.  Train Accuracy: 100.00% \n",
            "Iter: 0.32.  Train Total Loss: 0.06.  Train Accuracy: 98.44% \n",
            "Iter: 0.43.  Train Total Loss: 0.00.  Train Accuracy: 100.00% \n",
            "Iter: 0.53.  Train Total Loss: 0.05.  Train Accuracy: 98.44% \n",
            "Iter: 0.64.  Train Total Loss: 0.00.  Train Accuracy: 100.00% \n",
            "Iter: 0.75.  Train Total Loss: 0.03.  Train Accuracy: 98.44% \n",
            "Iter: 0.85.  Train Total Loss: 0.00.  Train Accuracy: 100.00% \n",
            "Iter: 0.96.  Train Total Loss: 0.00.  Train Accuracy: 100.00% \n",
            "\u001b[92m Epoch: 7.  Training Total Loss: 0.01.  Training Accuracy: 99.61%  \u001b[0m\n",
            "\u001b[92m Epoch: 7.  Test Total Loss: 0.09.  Test Accuracy: 97.88%  \u001b[0m\n",
            "Iter: 0.00.  Train Total Loss: 0.02.  Train Accuracy: 100.00% \n",
            "Iter: 0.11.  Train Total Loss: 0.00.  Train Accuracy: 100.00% \n",
            "Iter: 0.21.  Train Total Loss: 0.00.  Train Accuracy: 100.00% \n",
            "Iter: 0.32.  Train Total Loss: 0.01.  Train Accuracy: 100.00% \n",
            "Iter: 0.43.  Train Total Loss: 0.01.  Train Accuracy: 100.00% \n",
            "Iter: 0.53.  Train Total Loss: 0.02.  Train Accuracy: 98.44% \n",
            "Iter: 0.64.  Train Total Loss: 0.01.  Train Accuracy: 100.00% \n",
            "Iter: 0.75.  Train Total Loss: 0.00.  Train Accuracy: 100.00% \n",
            "Iter: 0.85.  Train Total Loss: 0.02.  Train Accuracy: 98.44% \n",
            "Iter: 0.96.  Train Total Loss: 0.01.  Train Accuracy: 100.00% \n",
            "\u001b[92m Epoch: 8.  Training Total Loss: 0.01.  Training Accuracy: 99.70%  \u001b[0m\n",
            "\u001b[92m Epoch: 8.  Test Total Loss: 0.08.  Test Accuracy: 97.99%  \u001b[0m\n",
            "Iter: 0.00.  Train Total Loss: 0.01.  Train Accuracy: 100.00% \n",
            "Iter: 0.11.  Train Total Loss: 0.00.  Train Accuracy: 100.00% \n",
            "Iter: 0.21.  Train Total Loss: 0.03.  Train Accuracy: 98.44% \n",
            "Iter: 0.32.  Train Total Loss: 0.00.  Train Accuracy: 100.00% \n",
            "Iter: 0.43.  Train Total Loss: 0.00.  Train Accuracy: 100.00% \n",
            "Iter: 0.53.  Train Total Loss: 0.00.  Train Accuracy: 100.00% \n",
            "Iter: 0.64.  Train Total Loss: 0.00.  Train Accuracy: 100.00% \n",
            "Iter: 0.75.  Train Total Loss: 0.02.  Train Accuracy: 98.44% \n",
            "Iter: 0.85.  Train Total Loss: 0.00.  Train Accuracy: 100.00% \n",
            "Iter: 0.96.  Train Total Loss: 0.00.  Train Accuracy: 100.00% \n",
            "\u001b[92m Epoch: 9.  Training Total Loss: 0.01.  Training Accuracy: 99.74%  \u001b[0m\n",
            "\u001b[92m Epoch: 9.  Test Total Loss: 0.09.  Test Accuracy: 97.84%  \u001b[0m\n"
          ],
          "name": "stdout"
        },
        {
          "output_type": "display_data",
          "data": {
            "image/png": "[encoded data removed]",
            "text/plain": [
              "<Figure size 720x576 with 2 Axes>"
            ]
          },
          "metadata": {
            "tags": []
          }
        }
      ]
    },
    {
      "cell_type": "markdown",
      "metadata": {
        "id": "nhIF4yegIBxb"
      },
      "source": [
        "\n",
        "Q7. Play around with the momentum of the SGD optimizer and then replace the SGD optimizer with Adam and RMSProp and analyze the loss trajectory (save the value of loss in an array after each update) of 50 training iterations for each of these types of optimizers. \n"
      ]
    },
    {
      "cell_type": "code",
      "metadata": {
        "id": "Pke4C-BpIDKc",
        "colab": {
          "base_uri": "https://localhost:8080/",
          "height": 1000
        },
        "outputId": "6996166c-dd4c-482f-80be-3896475a29d1"
      },
      "source": [
        "# Declare a new model to train with Adam optimizer. Here I show Adam optimzier, try it with other optimizers as well\n",
        "\n",
        "\n",
        "\n",
        "\n",
        "\n"
      ],
      "execution_count": null,
      "outputs": [
        {
          "output_type": "stream",
          "text": [
            "Base model defined\n",
            "Now running the same network with Adam Optimizer\n",
            "Iter: 0.00.  Train Total Loss: 2.31.  Train Accuracy: 14.06% \n"
          ],
          "name": "stdout"
        },
        {
          "output_type": "stream",
          "text": [
            "/usr/local/lib/python3.6/dist-packages/ipykernel_launcher.py:18: UserWarning: To copy construct from a tensor, it is recommended to use sourceTensor.clone().detach() or sourceTensor.clone().detach().requires_grad_(True), rather than torch.tensor(sourceTensor).\n",
            "/usr/local/lib/python3.6/dist-packages/ipykernel_launcher.py:19: UserWarning: To copy construct from a tensor, it is recommended to use sourceTensor.clone().detach() or sourceTensor.clone().detach().requires_grad_(True), rather than torch.tensor(sourceTensor).\n"
          ],
          "name": "stderr"
        },
        {
          "output_type": "stream",
          "text": [
            "Iter: 0.11.  Train Total Loss: 0.58.  Train Accuracy: 78.12% \n",
            "Iter: 0.21.  Train Total Loss: 0.24.  Train Accuracy: 90.62% \n",
            "Iter: 0.32.  Train Total Loss: 0.33.  Train Accuracy: 87.50% \n",
            "Iter: 0.43.  Train Total Loss: 0.44.  Train Accuracy: 87.50% \n",
            "Iter: 0.53.  Train Total Loss: 0.31.  Train Accuracy: 87.50% \n",
            "Iter: 0.64.  Train Total Loss: 0.27.  Train Accuracy: 92.19% \n",
            "Iter: 0.75.  Train Total Loss: 0.23.  Train Accuracy: 90.62% \n",
            "Iter: 0.85.  Train Total Loss: 0.25.  Train Accuracy: 90.62% \n",
            "Iter: 0.96.  Train Total Loss: 0.14.  Train Accuracy: 95.31% \n",
            "\u001b[92m Epoch: 0.  Training Total Loss: 0.36.  Training Accuracy: 88.80%  \u001b[0m\n"
          ],
          "name": "stdout"
        },
        {
          "output_type": "stream",
          "text": [
            "/usr/local/lib/python3.6/dist-packages/ipykernel_launcher.py:10: UserWarning: To copy construct from a tensor, it is recommended to use sourceTensor.clone().detach() or sourceTensor.clone().detach().requires_grad_(True), rather than torch.tensor(sourceTensor).\n",
            "  # Remove the CWD from sys.path while we load stuff.\n",
            "/usr/local/lib/python3.6/dist-packages/ipykernel_launcher.py:11: UserWarning: To copy construct from a tensor, it is recommended to use sourceTensor.clone().detach() or sourceTensor.clone().detach().requires_grad_(True), rather than torch.tensor(sourceTensor).\n",
            "  # This is added back by InteractiveShellApp.init_path()\n"
          ],
          "name": "stderr"
        },
        {
          "output_type": "stream",
          "text": [
            "\u001b[92m Epoch: 0.  Test Total Loss: 0.23.  Test Accuracy: 92.98%  \u001b[0m\n",
            "Iter: 0.00.  Train Total Loss: 0.26.  Train Accuracy: 92.19% \n",
            "Iter: 0.11.  Train Total Loss: 0.17.  Train Accuracy: 92.19% \n",
            "Iter: 0.21.  Train Total Loss: 0.20.  Train Accuracy: 89.06% \n",
            "Iter: 0.32.  Train Total Loss: 0.29.  Train Accuracy: 89.06% \n",
            "Iter: 0.43.  Train Total Loss: 0.37.  Train Accuracy: 89.06% \n",
            "Iter: 0.53.  Train Total Loss: 0.11.  Train Accuracy: 96.88% \n",
            "Iter: 0.64.  Train Total Loss: 0.13.  Train Accuracy: 95.31% \n",
            "Iter: 0.75.  Train Total Loss: 0.23.  Train Accuracy: 96.88% \n",
            "Iter: 0.85.  Train Total Loss: 0.46.  Train Accuracy: 84.38% \n",
            "Iter: 0.96.  Train Total Loss: 0.34.  Train Accuracy: 89.06% \n",
            "\u001b[92m Epoch: 1.  Training Total Loss: 0.23.  Training Accuracy: 93.04%  \u001b[0m\n",
            "\u001b[92m Epoch: 1.  Test Total Loss: 0.19.  Test Accuracy: 94.53%  \u001b[0m\n",
            "Iter: 0.00.  Train Total Loss: 0.10.  Train Accuracy: 95.31% \n",
            "Iter: 0.11.  Train Total Loss: 0.58.  Train Accuracy: 81.25% \n",
            "Iter: 0.21.  Train Total Loss: 0.20.  Train Accuracy: 95.31% \n",
            "Iter: 0.32.  Train Total Loss: 0.32.  Train Accuracy: 92.19% \n",
            "Iter: 0.43.  Train Total Loss: 0.08.  Train Accuracy: 95.31% \n",
            "Iter: 0.53.  Train Total Loss: 0.19.  Train Accuracy: 93.75% \n",
            "Iter: 0.64.  Train Total Loss: 0.26.  Train Accuracy: 93.75% \n",
            "Iter: 0.75.  Train Total Loss: 0.14.  Train Accuracy: 92.19% \n",
            "Iter: 0.85.  Train Total Loss: 0.35.  Train Accuracy: 93.75% \n",
            "Iter: 0.96.  Train Total Loss: 0.20.  Train Accuracy: 95.31% \n",
            "\u001b[92m Epoch: 2.  Training Total Loss: 0.22.  Training Accuracy: 93.79%  \u001b[0m\n",
            "\u001b[92m Epoch: 2.  Test Total Loss: 0.19.  Test Accuracy: 94.33%  \u001b[0m\n",
            "Iter: 0.00.  Train Total Loss: 0.11.  Train Accuracy: 96.88% \n",
            "Iter: 0.11.  Train Total Loss: 0.14.  Train Accuracy: 93.75% \n",
            "Iter: 0.21.  Train Total Loss: 0.09.  Train Accuracy: 98.44% \n",
            "Iter: 0.32.  Train Total Loss: 0.15.  Train Accuracy: 95.31% \n",
            "Iter: 0.43.  Train Total Loss: 0.08.  Train Accuracy: 98.44% \n",
            "Iter: 0.53.  Train Total Loss: 0.05.  Train Accuracy: 100.00% \n",
            "Iter: 0.64.  Train Total Loss: 0.23.  Train Accuracy: 90.62% \n",
            "Iter: 0.75.  Train Total Loss: 0.25.  Train Accuracy: 89.06% \n",
            "Iter: 0.85.  Train Total Loss: 0.45.  Train Accuracy: 90.62% \n",
            "Iter: 0.96.  Train Total Loss: 0.21.  Train Accuracy: 93.75% \n",
            "\u001b[92m Epoch: 3.  Training Total Loss: 0.20.  Training Accuracy: 94.17%  \u001b[0m\n",
            "\u001b[92m Epoch: 3.  Test Total Loss: 0.21.  Test Accuracy: 93.90%  \u001b[0m\n",
            "Iter: 0.00.  Train Total Loss: 0.16.  Train Accuracy: 95.31% \n",
            "Iter: 0.11.  Train Total Loss: 0.23.  Train Accuracy: 93.75% \n",
            "Iter: 0.21.  Train Total Loss: 0.18.  Train Accuracy: 96.88% \n",
            "Iter: 0.32.  Train Total Loss: 0.30.  Train Accuracy: 95.31% \n",
            "Iter: 0.43.  Train Total Loss: 0.20.  Train Accuracy: 95.31% \n",
            "Iter: 0.53.  Train Total Loss: 0.66.  Train Accuracy: 89.06% \n",
            "Iter: 0.64.  Train Total Loss: 0.27.  Train Accuracy: 92.19% \n",
            "Iter: 0.75.  Train Total Loss: 0.12.  Train Accuracy: 95.31% \n",
            "Iter: 0.85.  Train Total Loss: 0.10.  Train Accuracy: 96.88% \n",
            "Iter: 0.96.  Train Total Loss: 0.06.  Train Accuracy: 98.44% \n",
            "\u001b[92m Epoch: 4.  Training Total Loss: 0.20.  Training Accuracy: 94.43%  \u001b[0m\n",
            "\u001b[92m Epoch: 4.  Test Total Loss: 0.24.  Test Accuracy: 93.51%  \u001b[0m\n",
            "Iter: 0.00.  Train Total Loss: 0.31.  Train Accuracy: 87.50% \n",
            "Iter: 0.11.  Train Total Loss: 0.10.  Train Accuracy: 95.31% \n",
            "Iter: 0.21.  Train Total Loss: 0.23.  Train Accuracy: 95.31% \n",
            "Iter: 0.32.  Train Total Loss: 0.22.  Train Accuracy: 93.75% \n",
            "Iter: 0.43.  Train Total Loss: 0.15.  Train Accuracy: 92.19% \n",
            "Iter: 0.53.  Train Total Loss: 0.21.  Train Accuracy: 92.19% \n",
            "Iter: 0.64.  Train Total Loss: 0.18.  Train Accuracy: 96.88% \n",
            "Iter: 0.75.  Train Total Loss: 0.29.  Train Accuracy: 92.19% \n",
            "Iter: 0.85.  Train Total Loss: 0.11.  Train Accuracy: 98.44% \n",
            "Iter: 0.96.  Train Total Loss: 0.24.  Train Accuracy: 90.62% \n",
            "\u001b[92m Epoch: 5.  Training Total Loss: 0.19.  Training Accuracy: 94.89%  \u001b[0m\n",
            "\u001b[92m Epoch: 5.  Test Total Loss: 0.21.  Test Accuracy: 94.52%  \u001b[0m\n",
            "Iter: 0.00.  Train Total Loss: 0.22.  Train Accuracy: 96.88% \n",
            "Iter: 0.11.  Train Total Loss: 0.15.  Train Accuracy: 92.19% \n",
            "Iter: 0.21.  Train Total Loss: 0.20.  Train Accuracy: 93.75% \n",
            "Iter: 0.32.  Train Total Loss: 0.22.  Train Accuracy: 96.88% \n",
            "Iter: 0.43.  Train Total Loss: 0.32.  Train Accuracy: 90.62% \n",
            "Iter: 0.53.  Train Total Loss: 0.20.  Train Accuracy: 93.75% \n",
            "Iter: 0.64.  Train Total Loss: 0.10.  Train Accuracy: 95.31% \n",
            "Iter: 0.75.  Train Total Loss: 0.22.  Train Accuracy: 95.31% \n",
            "Iter: 0.85.  Train Total Loss: 0.34.  Train Accuracy: 93.75% \n",
            "Iter: 0.96.  Train Total Loss: 0.25.  Train Accuracy: 95.31% \n",
            "\u001b[92m Epoch: 6.  Training Total Loss: 0.19.  Training Accuracy: 94.79%  \u001b[0m\n",
            "\u001b[92m Epoch: 6.  Test Total Loss: 0.22.  Test Accuracy: 94.63%  \u001b[0m\n",
            "Iter: 0.00.  Train Total Loss: 0.34.  Train Accuracy: 95.31% \n",
            "Iter: 0.11.  Train Total Loss: 0.13.  Train Accuracy: 96.88% \n",
            "Iter: 0.21.  Train Total Loss: 0.13.  Train Accuracy: 96.88% \n",
            "Iter: 0.32.  Train Total Loss: 0.23.  Train Accuracy: 92.19% \n",
            "Iter: 0.43.  Train Total Loss: 0.15.  Train Accuracy: 95.31% \n",
            "Iter: 0.53.  Train Total Loss: 0.43.  Train Accuracy: 89.06% \n",
            "Iter: 0.64.  Train Total Loss: 0.42.  Train Accuracy: 89.06% \n",
            "Iter: 0.75.  Train Total Loss: 0.13.  Train Accuracy: 96.88% \n",
            "Iter: 0.85.  Train Total Loss: 0.08.  Train Accuracy: 96.88% \n",
            "Iter: 0.96.  Train Total Loss: 0.23.  Train Accuracy: 90.62% \n",
            "\u001b[92m Epoch: 7.  Training Total Loss: 0.18.  Training Accuracy: 95.26%  \u001b[0m\n",
            "\u001b[92m Epoch: 7.  Test Total Loss: 0.17.  Test Accuracy: 95.48%  \u001b[0m\n",
            "Iter: 0.00.  Train Total Loss: 0.12.  Train Accuracy: 98.44% \n",
            "Iter: 0.11.  Train Total Loss: 0.11.  Train Accuracy: 96.88% \n",
            "Iter: 0.21.  Train Total Loss: 0.21.  Train Accuracy: 93.75% \n",
            "Iter: 0.32.  Train Total Loss: 0.19.  Train Accuracy: 95.31% \n",
            "Iter: 0.43.  Train Total Loss: 0.18.  Train Accuracy: 93.75% \n",
            "Iter: 0.53.  Train Total Loss: 0.18.  Train Accuracy: 93.75% \n",
            "Iter: 0.64.  Train Total Loss: 0.02.  Train Accuracy: 100.00% \n",
            "Iter: 0.75.  Train Total Loss: 0.11.  Train Accuracy: 95.31% \n",
            "Iter: 0.85.  Train Total Loss: 0.35.  Train Accuracy: 95.31% \n",
            "Iter: 0.96.  Train Total Loss: 0.22.  Train Accuracy: 92.19% \n",
            "\u001b[92m Epoch: 8.  Training Total Loss: 0.18.  Training Accuracy: 95.17%  \u001b[0m\n",
            "\u001b[92m Epoch: 8.  Test Total Loss: 0.21.  Test Accuracy: 94.78%  \u001b[0m\n",
            "Iter: 0.00.  Train Total Loss: 0.16.  Train Accuracy: 96.88% \n",
            "Iter: 0.11.  Train Total Loss: 0.20.  Train Accuracy: 93.75% \n",
            "Iter: 0.21.  Train Total Loss: 0.18.  Train Accuracy: 93.75% \n",
            "Iter: 0.32.  Train Total Loss: 0.23.  Train Accuracy: 95.31% \n",
            "Iter: 0.43.  Train Total Loss: 0.09.  Train Accuracy: 96.88% \n",
            "Iter: 0.53.  Train Total Loss: 0.20.  Train Accuracy: 95.31% \n",
            "Iter: 0.64.  Train Total Loss: 0.07.  Train Accuracy: 98.44% \n",
            "Iter: 0.75.  Train Total Loss: 0.07.  Train Accuracy: 98.44% \n",
            "Iter: 0.85.  Train Total Loss: 0.23.  Train Accuracy: 95.31% \n",
            "Iter: 0.96.  Train Total Loss: 0.18.  Train Accuracy: 96.88% \n",
            "\u001b[92m Epoch: 9.  Training Total Loss: 0.17.  Training Accuracy: 95.34%  \u001b[0m\n",
            "\u001b[92m Epoch: 9.  Test Total Loss: 0.17.  Test Accuracy: 95.51%  \u001b[0m\n"
          ],
          "name": "stdout"
        },
        {
          "output_type": "display_data",
          "data": {
            "image/png": "[encoded data removed]",
            "text/plain": [
              "<Figure size 720x576 with 2 Axes>"
            ]
          },
          "metadata": {
            "tags": []
          }
        }
      ]
    },
    {
      "cell_type": "markdown",
      "metadata": {
        "id": "HGKzJ3b3ID6h"
      },
      "source": [
        "\n",
        "Q8. Play around with the initialization function like uniform and gaussian learnt in the lecture slides.\n"
      ]
    },
    {
      "cell_type": "code",
      "metadata": {
        "colab": {
          "base_uri": "https://localhost:8080/",
          "height": 1000
        },
        "id": "_xoeVDWqZolb",
        "outputId": "d83257d7-5e5d-43fd-fd55-a1dec7dd6c1d"
      },
      "source": [
        "def init_weights(m):\n",
        "    # Fill out here\n",
        "    # ...\n",
        "\n",
        "\n",
        "\n",
        "    \n",
        "    \n",
        "network_initialized = Model().to(device)\n",
        "network_initialized.apply(init_weights)\n",
        "\n",
        "print(\"Now running the differently initialized model with Adam Optimizer\")\n",
        "multiple_pass(network_initialized, adam_optim)"
      ],
      "execution_count": null,
      "outputs": [
        {
          "output_type": "stream",
          "text": [
            "Base model defined\n",
            "Linear(in_features=784, out_features=128, bias=True)\n",
            "Parameter containing:\n",
            "tensor([[-0.0089,  0.0131, -0.0676,  ...,  0.0476, -0.1256, -0.0151],\n",
            "        [-0.0871,  0.0094,  0.0318,  ..., -0.0089,  0.0543,  0.0788],\n",
            "        [-0.0464,  0.0333, -0.0021,  ...,  0.0360, -0.0193, -0.0468],\n",
            "        ...,\n",
            "        [ 0.0951, -0.0448,  0.1098,  ..., -0.0568, -0.0095, -0.0995],\n",
            "        [-0.0506, -0.0195, -0.0073,  ...,  0.0838,  0.0383, -0.0127],\n",
            "        [ 0.0451, -0.0079,  0.0246,  ..., -0.0320,  0.0199,  0.0726]],\n",
            "       requires_grad=True)\n",
            "Linear(in_features=128, out_features=64, bias=True)\n",
            "Parameter containing:\n",
            "tensor([[ 0.0171, -0.1715,  0.0793,  ...,  0.1808,  0.0473, -0.0487],\n",
            "        [ 0.0315, -0.1056,  0.1555,  ...,  0.1407, -0.1301,  0.1960],\n",
            "        [ 0.1086, -0.0534,  0.0449,  ...,  0.0753, -0.0454,  0.1165],\n",
            "        ...,\n",
            "        [-0.0661, -0.1695, -0.1412,  ...,  0.1218, -0.1086,  0.0313],\n",
            "        [ 0.0352,  0.1493, -0.1309,  ..., -0.1047,  0.1893, -0.0473],\n",
            "        [-0.0920,  0.1713,  0.0158,  ..., -0.1629,  0.0448, -0.0420]],\n",
            "       requires_grad=True)\n",
            "Linear(in_features=64, out_features=10, bias=True)\n",
            "Parameter containing:\n",
            "tensor([[ 0.1338, -0.1561,  0.0247, -0.1102, -0.0059, -0.1459,  0.0398,  0.1055,\n",
            "         -0.3914, -0.1215, -0.2217,  0.0132, -0.1340, -0.2814,  0.0739,  0.1090,\n",
            "         -0.2844, -0.0006, -0.1556,  0.1861,  0.0832,  0.0973,  0.0079, -0.0732,\n",
            "         -0.1290,  0.0317, -0.0802,  0.1157,  0.0285,  0.3522,  0.0274, -0.1845,\n",
            "          0.0346,  0.0510,  0.0851,  0.0265, -0.0517, -0.0517,  0.0091,  0.1269,\n",
            "         -0.2365, -0.0257, -0.0823, -0.0383, -0.0467,  0.1680,  0.0544,  0.0191,\n",
            "          0.3468, -0.0474,  0.0665,  0.1830, -0.0869, -0.1299,  0.2781, -0.0544,\n",
            "         -0.0901, -0.0977,  0.0564, -0.1194, -0.0230, -0.2096, -0.0484, -0.2671],\n",
            "        [ 0.0855, -0.1477,  0.3609,  0.0300, -0.0506, -0.0549, -0.3430, -0.0863,\n",
            "          0.1837,  0.0984,  0.3364, -0.1491, -0.1513,  0.1462,  0.1978, -0.0769,\n",
            "         -0.0091,  0.1311, -0.3826, -0.0987, -0.1459, -0.0336,  0.0212,  0.1603,\n",
            "          0.0846, -0.0158, -0.0727, -0.1172, -0.0485, -0.2241,  0.0577, -0.1734,\n",
            "          0.1205,  0.1054,  0.0781,  0.0570, -0.0024, -0.2544, -0.0391,  0.0244,\n",
            "          0.0984,  0.1210,  0.2368,  0.1563, -0.1135,  0.0541,  0.0096,  0.1765,\n",
            "         -0.0238, -0.1191, -0.1513,  0.1945, -0.0376,  0.4013,  0.1228,  0.0767,\n",
            "          0.2330,  0.0595, -0.2000, -0.0496, -0.1936, -0.0866,  0.0819, -0.0615],\n",
            "        [ 0.0399,  0.0766,  0.0369,  0.2052,  0.2831, -0.1651,  0.0813, -0.0042,\n",
            "          0.0340,  0.1140,  0.0676,  0.1488, -0.0461,  0.0986, -0.0713, -0.0990,\n",
            "         -0.0252,  0.0553,  0.0715, -0.1842, -0.0527, -0.0845, -0.2588,  0.1878,\n",
            "         -0.0348,  0.1229,  0.3584,  0.0206,  0.3722, -0.2058,  0.1813,  0.1732,\n",
            "          0.1753, -0.0169,  0.1467,  0.0710, -0.0521, -0.1420, -0.0926, -0.2303,\n",
            "         -0.1236, -0.2135, -0.0873, -0.1932, -0.2113,  0.1106,  0.0428,  0.1462,\n",
            "         -0.0548,  0.0182, -0.0674,  0.1326,  0.2338,  0.1965,  0.0862,  0.3407,\n",
            "          0.0952,  0.0499, -0.0487, -0.0216,  0.1138,  0.3385, -0.3201,  0.0293],\n",
            "        [ 0.1280,  0.1495, -0.0398,  0.2322, -0.2162,  0.0539, -0.0130,  0.0172,\n",
            "         -0.0980,  0.0972, -0.1167,  0.0408, -0.1172, -0.1694,  0.1440, -0.1432,\n",
            "         -0.1383, -0.1207, -0.0347, -0.1225,  0.1944,  0.0180,  0.1456,  0.1840,\n",
            "          0.1701, -0.4277,  0.1332,  0.1631,  0.0128, -0.0307,  0.1599,  0.2307,\n",
            "          0.0253, -0.0720, -0.0389,  0.1417,  0.1725,  0.2002, -0.1100, -0.3330,\n",
            "         -0.1226, -0.0937, -0.0313, -0.0079, -0.0180, -0.1620, -0.0452, -0.1055,\n",
            "         -0.2112,  0.2767,  0.1196, -0.0511, -0.1847,  0.2034,  0.1748, -0.0831,\n",
            "          0.0079, -0.0141, -0.0746, -0.0127,  0.0594,  0.2329,  0.0695, -0.0011],\n",
            "        [-0.1835,  0.0717,  0.2043,  0.1025,  0.0780, -0.1325, -0.0622,  0.0029,\n",
            "         -0.2643, -0.0819,  0.0345, -0.1668,  0.0887,  0.3016, -0.2897,  0.0821,\n",
            "          0.0228, -0.0927, -0.0864,  0.0720,  0.0444, -0.0834,  0.0274,  0.2212,\n",
            "          0.2573,  0.1334,  0.1008, -0.2940,  0.0452,  0.1079,  0.0420, -0.1704,\n",
            "          0.0094, -0.3453, -0.0628,  0.0827, -0.0601, -0.1198,  0.2482, -0.0333,\n",
            "         -0.1366, -0.0407,  0.1395, -0.2474,  0.0071, -0.1014,  0.0260,  0.0789,\n",
            "          0.2669, -0.1885, -0.0243,  0.0743, -0.1168, -0.2260, -0.1031,  0.0228,\n",
            "          0.1442,  0.0223, -0.3042, -0.0781, -0.1683, -0.2330, -0.1000, -0.2976],\n",
            "        [-0.0524, -0.1775,  0.2135, -0.1327, -0.1174,  0.0543,  0.0197,  0.0411,\n",
            "          0.3054, -0.1896, -0.1665, -0.0845, -0.1606,  0.1048,  0.2742, -0.0134,\n",
            "          0.0025, -0.2004, -0.2097,  0.2422, -0.1577,  0.2163, -0.0849,  0.0457,\n",
            "         -0.0755,  0.1394, -0.0281,  0.0466,  0.0309,  0.0810, -0.1859, -0.0745,\n",
            "         -0.1878,  0.0843,  0.0466, -0.0939,  0.0487,  0.0414, -0.1067, -0.0283,\n",
            "         -0.0726, -0.0955, -0.0916,  0.1753, -0.1916,  0.1700,  0.2330, -0.0682,\n",
            "          0.1998,  0.1411,  0.0227,  0.0812, -0.0641, -0.1058, -0.1851,  0.1358,\n",
            "         -0.0883,  0.0358, -0.0150, -0.1789,  0.1798, -0.0290, -0.1580,  0.3892],\n",
            "        [ 0.1263,  0.0171,  0.3299, -0.0777, -0.2156, -0.0247, -0.0018, -0.0638,\n",
            "         -0.4432, -0.1518, -0.1403, -0.2148, -0.2503, -0.1325,  0.1096,  0.2033,\n",
            "         -0.0890, -0.0116,  0.1823, -0.2501, -0.1384,  0.0500, -0.1413,  0.2720,\n",
            "         -0.1933, -0.0114,  0.0160,  0.1360, -0.1074,  0.2420, -0.0963, -0.1112,\n",
            "         -0.0105,  0.0683,  0.0745, -0.0406,  0.1311,  0.0136, -0.0017,  0.0738,\n",
            "          0.1573,  0.1477, -0.1214,  0.1088, -0.1325, -0.0052,  0.0281,  0.0037,\n",
            "          0.2046,  0.1540, -0.1004, -0.0060,  0.5314, -0.0439, -0.3330,  0.0748,\n",
            "         -0.1655,  0.2025,  0.0419, -0.1442, -0.1123,  0.1698, -0.2504,  0.0639],\n",
            "        [ 0.1061, -0.0355, -0.0310,  0.0562,  0.0062, -0.0234, -0.1538,  0.0665,\n",
            "         -0.0932,  0.2311, -0.0494,  0.1043, -0.1193,  0.2149, -0.0864,  0.1254,\n",
            "         -0.1103, -0.0401,  0.0090, -0.0219,  0.1948,  0.0335, -0.1265,  0.3498,\n",
            "         -0.2870,  0.2230,  0.1193,  0.2589,  0.5196,  0.0383, -0.1318, -0.2440,\n",
            "         -0.2749, -0.2523,  0.1145,  0.0571,  0.1052, -0.2043,  0.1357,  0.1019,\n",
            "         -0.1946, -0.0745,  0.0251, -0.2799, -0.0794,  0.1663, -0.2882, -0.0664,\n",
            "         -0.0847, -0.0419, -0.0225,  0.0453,  0.1780, -0.0447, -0.0014, -0.2017,\n",
            "         -0.0805, -0.2144,  0.2351,  0.1158,  0.2709, -0.0666,  0.0869, -0.0376],\n",
            "        [-0.0464, -0.0354, -0.0869, -0.0238, -0.0840, -0.0543,  0.1196, -0.2046,\n",
            "         -0.1476, -0.0648, -0.0168, -0.0768, -0.0224,  0.0711, -0.1382,  0.1936,\n",
            "         -0.0182,  0.0949,  0.2531,  0.1404, -0.1285, -0.2730, -0.0370,  0.2040,\n",
            "         -0.0909, -0.0917,  0.0740,  0.2516,  0.0885,  0.0386,  0.1783, -0.1376,\n",
            "         -0.2005,  0.1566,  0.1480, -0.0719, -0.2149, -0.0756,  0.0024, -0.0037,\n",
            "          0.1536,  0.1607,  0.0028, -0.0458, -0.2843,  0.0027, -0.1826,  0.0404,\n",
            "         -0.0180,  0.2018, -0.2197,  0.1534, -0.1636, -0.1332, -0.0413, -0.1941,\n",
            "         -0.1358, -0.0500, -0.2161,  0.0519, -0.0216,  0.1390, -0.1436, -0.2540],\n",
            "        [ 0.2275, -0.0231, -0.0579, -0.0459, -0.0039,  0.0116,  0.0533,  0.0416,\n",
            "          0.5755,  0.1802, -0.2202, -0.0008, -0.0403,  0.0668,  0.2656, -0.2233,\n",
            "          0.1561, -0.2860,  0.1247,  0.0659, -0.1954, -0.2609, -0.0180,  0.3935,\n",
            "         -0.1223, -0.2167, -0.0887, -0.1057,  0.0120, -0.0373,  0.0682,  0.1328,\n",
            "         -0.1338,  0.0881, -0.1327,  0.0111,  0.2563, -0.1196,  0.1626,  0.1996,\n",
            "         -0.0043, -0.0089, -0.0347, -0.1744, -0.0796,  0.2222, -0.0127,  0.0363,\n",
            "         -0.2235,  0.2389,  0.0508,  0.1170, -0.3577,  0.0371,  0.0421,  0.1321,\n",
            "         -0.0493,  0.2178, -0.0301,  0.2486,  0.2085, -0.1536,  0.3820, -0.3093]],\n",
            "       requires_grad=True)\n",
            "Model(\n",
            "  (linear_layer_one): Linear(in_features=784, out_features=128, bias=True)\n",
            "  (linear_layer_two): Linear(in_features=128, out_features=64, bias=True)\n",
            "  (linear_layer_three): Linear(in_features=64, out_features=10, bias=True)\n",
            ")\n",
            "Now running the differently initialized model with Adam Optimizer\n",
            "Iter: 0.00.  Train Total Loss: 2.36.  Train Accuracy: 17.19% \n"
          ],
          "name": "stdout"
        },
        {
          "output_type": "stream",
          "text": [
            "/usr/local/lib/python3.6/dist-packages/ipykernel_launcher.py:18: UserWarning: To copy construct from a tensor, it is recommended to use sourceTensor.clone().detach() or sourceTensor.clone().detach().requires_grad_(True), rather than torch.tensor(sourceTensor).\n",
            "/usr/local/lib/python3.6/dist-packages/ipykernel_launcher.py:19: UserWarning: To copy construct from a tensor, it is recommended to use sourceTensor.clone().detach() or sourceTensor.clone().detach().requires_grad_(True), rather than torch.tensor(sourceTensor).\n"
          ],
          "name": "stderr"
        },
        {
          "output_type": "stream",
          "text": [
            "Iter: 0.11.  Train Total Loss: 0.36.  Train Accuracy: 87.50% \n",
            "Iter: 0.21.  Train Total Loss: 0.60.  Train Accuracy: 78.12% \n",
            "Iter: 0.32.  Train Total Loss: 0.32.  Train Accuracy: 85.94% \n",
            "Iter: 0.43.  Train Total Loss: 0.26.  Train Accuracy: 90.62% \n",
            "Iter: 0.53.  Train Total Loss: 0.12.  Train Accuracy: 96.88% \n",
            "Iter: 0.64.  Train Total Loss: 0.27.  Train Accuracy: 89.06% \n",
            "Iter: 0.75.  Train Total Loss: 0.27.  Train Accuracy: 92.19% \n",
            "Iter: 0.85.  Train Total Loss: 0.48.  Train Accuracy: 82.81% \n",
            "Iter: 0.96.  Train Total Loss: 0.45.  Train Accuracy: 87.50% \n",
            "\u001b[92m Epoch: 0.  Training Total Loss: 0.40.  Training Accuracy: 87.97%  \u001b[0m\n"
          ],
          "name": "stdout"
        },
        {
          "output_type": "stream",
          "text": [
            "/usr/local/lib/python3.6/dist-packages/ipykernel_launcher.py:10: UserWarning: To copy construct from a tensor, it is recommended to use sourceTensor.clone().detach() or sourceTensor.clone().detach().requires_grad_(True), rather than torch.tensor(sourceTensor).\n",
            "  # Remove the CWD from sys.path while we load stuff.\n",
            "/usr/local/lib/python3.6/dist-packages/ipykernel_launcher.py:11: UserWarning: To copy construct from a tensor, it is recommended to use sourceTensor.clone().detach() or sourceTensor.clone().detach().requires_grad_(True), rather than torch.tensor(sourceTensor).\n",
            "  # This is added back by InteractiveShellApp.init_path()\n"
          ],
          "name": "stderr"
        },
        {
          "output_type": "stream",
          "text": [
            "\u001b[92m Epoch: 0.  Test Total Loss: 0.25.  Test Accuracy: 92.29%  \u001b[0m\n",
            "Iter: 0.00.  Train Total Loss: 0.29.  Train Accuracy: 89.06% \n",
            "Iter: 0.11.  Train Total Loss: 0.13.  Train Accuracy: 95.31% \n",
            "Iter: 0.21.  Train Total Loss: 0.28.  Train Accuracy: 92.19% \n",
            "Iter: 0.32.  Train Total Loss: 0.28.  Train Accuracy: 92.19% \n",
            "Iter: 0.43.  Train Total Loss: 0.12.  Train Accuracy: 95.31% \n",
            "Iter: 0.53.  Train Total Loss: 0.39.  Train Accuracy: 89.06% \n",
            "Iter: 0.64.  Train Total Loss: 0.45.  Train Accuracy: 93.75% \n",
            "Iter: 0.75.  Train Total Loss: 0.17.  Train Accuracy: 93.75% \n",
            "Iter: 0.85.  Train Total Loss: 0.24.  Train Accuracy: 95.31% \n",
            "Iter: 0.96.  Train Total Loss: 0.06.  Train Accuracy: 98.44% \n",
            "\u001b[92m Epoch: 1.  Training Total Loss: 0.25.  Training Accuracy: 92.54%  \u001b[0m\n",
            "\u001b[92m Epoch: 1.  Test Total Loss: 0.24.  Test Accuracy: 92.75%  \u001b[0m\n",
            "Iter: 0.00.  Train Total Loss: 0.22.  Train Accuracy: 89.06% \n",
            "Iter: 0.11.  Train Total Loss: 0.11.  Train Accuracy: 95.31% \n",
            "Iter: 0.21.  Train Total Loss: 0.69.  Train Accuracy: 92.19% \n",
            "Iter: 0.32.  Train Total Loss: 0.24.  Train Accuracy: 93.75% \n",
            "Iter: 0.43.  Train Total Loss: 0.11.  Train Accuracy: 95.31% \n",
            "Iter: 0.53.  Train Total Loss: 0.28.  Train Accuracy: 92.19% \n",
            "Iter: 0.64.  Train Total Loss: 0.32.  Train Accuracy: 93.75% \n",
            "Iter: 0.75.  Train Total Loss: 0.15.  Train Accuracy: 98.44% \n",
            "Iter: 0.85.  Train Total Loss: 0.28.  Train Accuracy: 90.62% \n",
            "Iter: 0.96.  Train Total Loss: 0.10.  Train Accuracy: 96.88% \n",
            "\u001b[92m Epoch: 2.  Training Total Loss: 0.23.  Training Accuracy: 93.46%  \u001b[0m\n",
            "\u001b[92m Epoch: 2.  Test Total Loss: 0.23.  Test Accuracy: 92.96%  \u001b[0m\n",
            "Iter: 0.00.  Train Total Loss: 0.18.  Train Accuracy: 90.62% \n",
            "Iter: 0.11.  Train Total Loss: 0.10.  Train Accuracy: 96.88% \n",
            "Iter: 0.21.  Train Total Loss: 0.26.  Train Accuracy: 93.75% \n",
            "Iter: 0.32.  Train Total Loss: 0.20.  Train Accuracy: 93.75% \n",
            "Iter: 0.43.  Train Total Loss: 0.10.  Train Accuracy: 95.31% \n",
            "Iter: 0.53.  Train Total Loss: 0.18.  Train Accuracy: 96.88% \n",
            "Iter: 0.64.  Train Total Loss: 0.28.  Train Accuracy: 92.19% \n",
            "Iter: 0.75.  Train Total Loss: 0.26.  Train Accuracy: 95.31% \n",
            "Iter: 0.85.  Train Total Loss: 0.01.  Train Accuracy: 100.00% \n",
            "Iter: 0.96.  Train Total Loss: 0.31.  Train Accuracy: 92.19% \n",
            "\u001b[92m Epoch: 3.  Training Total Loss: 0.21.  Training Accuracy: 93.89%  \u001b[0m\n",
            "\u001b[92m Epoch: 3.  Test Total Loss: 0.23.  Test Accuracy: 93.64%  \u001b[0m\n",
            "Iter: 0.00.  Train Total Loss: 0.14.  Train Accuracy: 92.19% \n",
            "Iter: 0.11.  Train Total Loss: 0.09.  Train Accuracy: 98.44% \n",
            "Iter: 0.21.  Train Total Loss: 0.07.  Train Accuracy: 98.44% \n",
            "Iter: 0.32.  Train Total Loss: 0.26.  Train Accuracy: 92.19% \n",
            "Iter: 0.43.  Train Total Loss: 0.05.  Train Accuracy: 100.00% \n",
            "Iter: 0.53.  Train Total Loss: 0.11.  Train Accuracy: 96.88% \n",
            "Iter: 0.64.  Train Total Loss: 0.20.  Train Accuracy: 92.19% \n",
            "Iter: 0.75.  Train Total Loss: 0.10.  Train Accuracy: 96.88% \n",
            "Iter: 0.85.  Train Total Loss: 0.17.  Train Accuracy: 95.31% \n",
            "Iter: 0.96.  Train Total Loss: 0.43.  Train Accuracy: 87.50% \n",
            "\u001b[92m Epoch: 4.  Training Total Loss: 0.22.  Training Accuracy: 93.94%  \u001b[0m\n",
            "\u001b[92m Epoch: 4.  Test Total Loss: 0.25.  Test Accuracy: 93.14%  \u001b[0m\n",
            "Iter: 0.00.  Train Total Loss: 0.34.  Train Accuracy: 90.62% \n",
            "Iter: 0.11.  Train Total Loss: 0.18.  Train Accuracy: 93.75% \n",
            "Iter: 0.21.  Train Total Loss: 0.05.  Train Accuracy: 100.00% \n",
            "Iter: 0.32.  Train Total Loss: 0.38.  Train Accuracy: 92.19% \n",
            "Iter: 0.43.  Train Total Loss: 0.09.  Train Accuracy: 95.31% \n",
            "Iter: 0.53.  Train Total Loss: 0.17.  Train Accuracy: 92.19% \n",
            "Iter: 0.64.  Train Total Loss: 0.19.  Train Accuracy: 93.75% \n",
            "Iter: 0.75.  Train Total Loss: 0.21.  Train Accuracy: 92.19% \n",
            "Iter: 0.85.  Train Total Loss: 0.11.  Train Accuracy: 96.88% \n",
            "Iter: 0.96.  Train Total Loss: 0.36.  Train Accuracy: 89.06% \n",
            "\u001b[92m Epoch: 5.  Training Total Loss: 0.21.  Training Accuracy: 94.12%  \u001b[0m\n",
            "\u001b[92m Epoch: 5.  Test Total Loss: 0.23.  Test Accuracy: 93.40%  \u001b[0m\n",
            "Iter: 0.00.  Train Total Loss: 0.11.  Train Accuracy: 96.88% \n",
            "Iter: 0.11.  Train Total Loss: 0.30.  Train Accuracy: 90.62% \n",
            "Iter: 0.21.  Train Total Loss: 0.06.  Train Accuracy: 98.44% \n",
            "Iter: 0.32.  Train Total Loss: 0.08.  Train Accuracy: 98.44% \n",
            "Iter: 0.43.  Train Total Loss: 0.25.  Train Accuracy: 90.62% \n",
            "Iter: 0.53.  Train Total Loss: 0.13.  Train Accuracy: 95.31% \n",
            "Iter: 0.64.  Train Total Loss: 0.22.  Train Accuracy: 95.31% \n",
            "Iter: 0.75.  Train Total Loss: 0.07.  Train Accuracy: 96.88% \n",
            "Iter: 0.85.  Train Total Loss: 0.24.  Train Accuracy: 92.19% \n",
            "Iter: 0.96.  Train Total Loss: 0.26.  Train Accuracy: 93.75% \n",
            "\u001b[92m Epoch: 6.  Training Total Loss: 0.21.  Training Accuracy: 94.35%  \u001b[0m\n",
            "\u001b[92m Epoch: 6.  Test Total Loss: 0.21.  Test Accuracy: 94.89%  \u001b[0m\n",
            "Iter: 0.00.  Train Total Loss: 0.18.  Train Accuracy: 95.31% \n",
            "Iter: 0.11.  Train Total Loss: 0.03.  Train Accuracy: 100.00% \n",
            "Iter: 0.21.  Train Total Loss: 0.32.  Train Accuracy: 90.62% \n",
            "Iter: 0.32.  Train Total Loss: 0.14.  Train Accuracy: 95.31% \n",
            "Iter: 0.43.  Train Total Loss: 0.13.  Train Accuracy: 95.31% \n",
            "Iter: 0.53.  Train Total Loss: 0.08.  Train Accuracy: 96.88% \n",
            "Iter: 0.64.  Train Total Loss: 0.30.  Train Accuracy: 95.31% \n",
            "Iter: 0.75.  Train Total Loss: 0.16.  Train Accuracy: 92.19% \n",
            "Iter: 0.85.  Train Total Loss: 0.12.  Train Accuracy: 95.31% \n",
            "Iter: 0.96.  Train Total Loss: 0.10.  Train Accuracy: 98.44% \n",
            "\u001b[92m Epoch: 7.  Training Total Loss: 0.20.  Training Accuracy: 94.40%  \u001b[0m\n",
            "\u001b[92m Epoch: 7.  Test Total Loss: 0.23.  Test Accuracy: 93.91%  \u001b[0m\n",
            "Iter: 0.00.  Train Total Loss: 0.09.  Train Accuracy: 96.88% \n",
            "Iter: 0.11.  Train Total Loss: 0.21.  Train Accuracy: 96.88% \n",
            "Iter: 0.21.  Train Total Loss: 0.25.  Train Accuracy: 92.19% \n",
            "Iter: 0.32.  Train Total Loss: 0.08.  Train Accuracy: 96.88% \n",
            "Iter: 0.43.  Train Total Loss: 0.30.  Train Accuracy: 95.31% \n",
            "Iter: 0.53.  Train Total Loss: 0.11.  Train Accuracy: 96.88% \n",
            "Iter: 0.64.  Train Total Loss: 0.19.  Train Accuracy: 95.31% \n",
            "Iter: 0.75.  Train Total Loss: 0.04.  Train Accuracy: 100.00% \n",
            "Iter: 0.85.  Train Total Loss: 0.11.  Train Accuracy: 95.31% \n",
            "Iter: 0.96.  Train Total Loss: 0.12.  Train Accuracy: 95.31% \n",
            "\u001b[92m Epoch: 8.  Training Total Loss: 0.20.  Training Accuracy: 94.69%  \u001b[0m\n",
            "\u001b[92m Epoch: 8.  Test Total Loss: 0.23.  Test Accuracy: 93.88%  \u001b[0m\n",
            "Iter: 0.00.  Train Total Loss: 0.48.  Train Accuracy: 85.94% \n",
            "Iter: 0.11.  Train Total Loss: 0.08.  Train Accuracy: 96.88% \n",
            "Iter: 0.21.  Train Total Loss: 0.35.  Train Accuracy: 95.31% \n",
            "Iter: 0.32.  Train Total Loss: 0.12.  Train Accuracy: 96.88% \n",
            "Iter: 0.43.  Train Total Loss: 0.22.  Train Accuracy: 93.75% \n",
            "Iter: 0.53.  Train Total Loss: 0.03.  Train Accuracy: 100.00% \n",
            "Iter: 0.64.  Train Total Loss: 0.26.  Train Accuracy: 96.88% \n",
            "Iter: 0.75.  Train Total Loss: 0.44.  Train Accuracy: 85.94% \n",
            "Iter: 0.85.  Train Total Loss: 0.20.  Train Accuracy: 95.31% \n",
            "Iter: 0.96.  Train Total Loss: 0.26.  Train Accuracy: 93.75% \n",
            "\u001b[92m Epoch: 9.  Training Total Loss: 0.19.  Training Accuracy: 94.81%  \u001b[0m\n",
            "\u001b[92m Epoch: 9.  Test Total Loss: 0.21.  Test Accuracy: 94.42%  \u001b[0m\n"
          ],
          "name": "stdout"
        },
        {
          "output_type": "display_data",
          "data": {
            "image/png": "[encoded data removed]",
            "text/plain": [
              "<Figure size 432x288 with 2 Axes>"
            ]
          },
          "metadata": {
            "tags": [],
            "needs_background": "light"
          }
        }
      ]
    },
    {
      "cell_type": "markdown",
      "metadata": {
        "id": "GSNwcQwcIGEG"
      },
      "source": [
        "\n",
        "Q9. Add batch normalization to each of the layers before ReLu activation function. Check how your results or iterations vary."
      ]
    },
    {
      "cell_type": "code",
      "metadata": {
        "id": "1znPChEaWyob",
        "colab": {
          "base_uri": "https://localhost:8080/",
          "height": 1000
        },
        "outputId": "d4215d24-3705-4e97-bf56-56497bcf5cc7"
      },
      "source": [
        "\n",
        "class Model_Normalization(nn.Module):\n",
        "    # Fill out here\n",
        "    # ...\n",
        "\n",
        "\n",
        "\n",
        "\n",
        "\n",
        "\n",
        "\n",
        "\n",
        "\n",
        "\n",
        "\n",
        "\n",
        "\n",
        "\n",
        "\n",
        "\n",
        "print(\"Now running the differently initialized model with Adam Optimizer\")\n",
        "multiple_pass(network_batch_norm, adam_optim)"
      ],
      "execution_count": null,
      "outputs": [
        {
          "output_type": "stream",
          "text": [
            "Base model defined\n",
            "Model_Normalization(\n",
            "  (linear_layer_one): Linear(in_features=784, out_features=128, bias=True)\n",
            "  (bn1): BatchNorm1d(128, eps=1e-05, momentum=0.1, affine=True, track_running_stats=True)\n",
            "  (linear_layer_two): Linear(in_features=128, out_features=64, bias=True)\n",
            "  (bn2): BatchNorm1d(64, eps=1e-05, momentum=0.1, affine=True, track_running_stats=True)\n",
            "  (linear_layer_three): Linear(in_features=64, out_features=10, bias=True)\n",
            "  (bn3): BatchNorm1d(10, eps=1e-05, momentum=0.1, affine=True, track_running_stats=True)\n",
            ")\n",
            "Now running the differently initialized model with Adam Optimizer\n",
            "Iter: 0.00.  Train Total Loss: 2.76.  Train Accuracy: 10.94% \n"
          ],
          "name": "stdout"
        },
        {
          "output_type": "stream",
          "text": [
            "/usr/local/lib/python3.6/dist-packages/ipykernel_launcher.py:18: UserWarning: To copy construct from a tensor, it is recommended to use sourceTensor.clone().detach() or sourceTensor.clone().detach().requires_grad_(True), rather than torch.tensor(sourceTensor).\n",
            "/usr/local/lib/python3.6/dist-packages/ipykernel_launcher.py:19: UserWarning: To copy construct from a tensor, it is recommended to use sourceTensor.clone().detach() or sourceTensor.clone().detach().requires_grad_(True), rather than torch.tensor(sourceTensor).\n"
          ],
          "name": "stderr"
        },
        {
          "output_type": "stream",
          "text": [
            "Iter: 0.11.  Train Total Loss: 0.45.  Train Accuracy: 92.19% \n",
            "Iter: 0.21.  Train Total Loss: 0.22.  Train Accuracy: 90.62% \n",
            "Iter: 0.32.  Train Total Loss: 0.21.  Train Accuracy: 92.19% \n",
            "Iter: 0.43.  Train Total Loss: 0.28.  Train Accuracy: 90.62% \n",
            "Iter: 0.53.  Train Total Loss: 0.23.  Train Accuracy: 93.75% \n",
            "Iter: 0.64.  Train Total Loss: 0.19.  Train Accuracy: 95.31% \n",
            "Iter: 0.75.  Train Total Loss: 0.16.  Train Accuracy: 96.88% \n",
            "Iter: 0.85.  Train Total Loss: 0.17.  Train Accuracy: 93.75% \n",
            "Iter: 0.96.  Train Total Loss: 0.10.  Train Accuracy: 95.31% \n",
            "\u001b[92m Epoch: 0.  Training Total Loss: 0.25.  Training Accuracy: 93.34%  \u001b[0m\n"
          ],
          "name": "stdout"
        },
        {
          "output_type": "stream",
          "text": [
            "/usr/local/lib/python3.6/dist-packages/ipykernel_launcher.py:10: UserWarning: To copy construct from a tensor, it is recommended to use sourceTensor.clone().detach() or sourceTensor.clone().detach().requires_grad_(True), rather than torch.tensor(sourceTensor).\n",
            "  # Remove the CWD from sys.path while we load stuff.\n",
            "/usr/local/lib/python3.6/dist-packages/ipykernel_launcher.py:11: UserWarning: To copy construct from a tensor, it is recommended to use sourceTensor.clone().detach() or sourceTensor.clone().detach().requires_grad_(True), rather than torch.tensor(sourceTensor).\n",
            "  # This is added back by InteractiveShellApp.init_path()\n"
          ],
          "name": "stderr"
        },
        {
          "output_type": "stream",
          "text": [
            "\u001b[92m Epoch: 0.  Test Total Loss: 0.11.  Test Accuracy: 96.69%  \u001b[0m\n",
            "Iter: 0.00.  Train Total Loss: 0.07.  Train Accuracy: 98.44% \n",
            "Iter: 0.11.  Train Total Loss: 0.09.  Train Accuracy: 96.88% \n",
            "Iter: 0.21.  Train Total Loss: 0.09.  Train Accuracy: 98.44% \n",
            "Iter: 0.32.  Train Total Loss: 0.14.  Train Accuracy: 95.31% \n",
            "Iter: 0.43.  Train Total Loss: 0.08.  Train Accuracy: 96.88% \n",
            "Iter: 0.53.  Train Total Loss: 0.10.  Train Accuracy: 95.31% \n",
            "Iter: 0.64.  Train Total Loss: 0.25.  Train Accuracy: 92.19% \n",
            "Iter: 0.75.  Train Total Loss: 0.10.  Train Accuracy: 96.88% \n",
            "Iter: 0.85.  Train Total Loss: 0.06.  Train Accuracy: 98.44% \n",
            "Iter: 0.96.  Train Total Loss: 0.09.  Train Accuracy: 95.31% \n",
            "\u001b[92m Epoch: 1.  Training Total Loss: 0.12.  Training Accuracy: 96.53%  \u001b[0m\n",
            "\u001b[92m Epoch: 1.  Test Total Loss: 0.10.  Test Accuracy: 97.00%  \u001b[0m\n",
            "Iter: 0.00.  Train Total Loss: 0.06.  Train Accuracy: 98.44% \n",
            "Iter: 0.11.  Train Total Loss: 0.07.  Train Accuracy: 98.44% \n",
            "Iter: 0.21.  Train Total Loss: 0.07.  Train Accuracy: 96.88% \n",
            "Iter: 0.32.  Train Total Loss: 0.10.  Train Accuracy: 98.44% \n",
            "Iter: 0.43.  Train Total Loss: 0.09.  Train Accuracy: 96.88% \n",
            "Iter: 0.53.  Train Total Loss: 0.08.  Train Accuracy: 96.88% \n",
            "Iter: 0.64.  Train Total Loss: 0.14.  Train Accuracy: 95.31% \n",
            "Iter: 0.75.  Train Total Loss: 0.04.  Train Accuracy: 100.00% \n",
            "Iter: 0.85.  Train Total Loss: 0.18.  Train Accuracy: 89.06% \n",
            "Iter: 0.96.  Train Total Loss: 0.03.  Train Accuracy: 98.44% \n",
            "\u001b[92m Epoch: 2.  Training Total Loss: 0.09.  Training Accuracy: 97.37%  \u001b[0m\n",
            "\u001b[92m Epoch: 2.  Test Total Loss: 0.08.  Test Accuracy: 97.64%  \u001b[0m\n",
            "Iter: 0.00.  Train Total Loss: 0.14.  Train Accuracy: 95.31% \n",
            "Iter: 0.11.  Train Total Loss: 0.23.  Train Accuracy: 93.75% \n",
            "Iter: 0.21.  Train Total Loss: 0.05.  Train Accuracy: 98.44% \n",
            "Iter: 0.32.  Train Total Loss: 0.04.  Train Accuracy: 98.44% \n",
            "Iter: 0.43.  Train Total Loss: 0.10.  Train Accuracy: 96.88% \n",
            "Iter: 0.53.  Train Total Loss: 0.20.  Train Accuracy: 95.31% \n",
            "Iter: 0.64.  Train Total Loss: 0.04.  Train Accuracy: 98.44% \n",
            "Iter: 0.75.  Train Total Loss: 0.08.  Train Accuracy: 95.31% \n",
            "Iter: 0.85.  Train Total Loss: 0.03.  Train Accuracy: 98.44% \n",
            "Iter: 0.96.  Train Total Loss: 0.09.  Train Accuracy: 96.88% \n",
            "\u001b[92m Epoch: 3.  Training Total Loss: 0.07.  Training Accuracy: 97.66%  \u001b[0m\n",
            "\u001b[92m Epoch: 3.  Test Total Loss: 0.08.  Test Accuracy: 97.53%  \u001b[0m\n",
            "Iter: 0.00.  Train Total Loss: 0.03.  Train Accuracy: 100.00% \n",
            "Iter: 0.11.  Train Total Loss: 0.10.  Train Accuracy: 96.88% \n",
            "Iter: 0.21.  Train Total Loss: 0.02.  Train Accuracy: 100.00% \n",
            "Iter: 0.32.  Train Total Loss: 0.03.  Train Accuracy: 100.00% \n",
            "Iter: 0.43.  Train Total Loss: 0.11.  Train Accuracy: 98.44% \n",
            "Iter: 0.53.  Train Total Loss: 0.05.  Train Accuracy: 96.88% \n",
            "Iter: 0.64.  Train Total Loss: 0.01.  Train Accuracy: 100.00% \n",
            "Iter: 0.75.  Train Total Loss: 0.11.  Train Accuracy: 96.88% \n",
            "Iter: 0.85.  Train Total Loss: 0.05.  Train Accuracy: 98.44% \n",
            "Iter: 0.96.  Train Total Loss: 0.03.  Train Accuracy: 98.44% \n",
            "\u001b[92m Epoch: 4.  Training Total Loss: 0.06.  Training Accuracy: 98.10%  \u001b[0m\n",
            "\u001b[92m Epoch: 4.  Test Total Loss: 0.08.  Test Accuracy: 97.70%  \u001b[0m\n",
            "Iter: 0.00.  Train Total Loss: 0.10.  Train Accuracy: 98.44% \n",
            "Iter: 0.11.  Train Total Loss: 0.16.  Train Accuracy: 90.62% \n"
          ],
          "name": "stdout"
        }
      ]
    }
  ]
}