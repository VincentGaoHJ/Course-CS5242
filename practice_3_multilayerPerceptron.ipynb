{
  "nbformat": 4,
  "nbformat_minor": 0,
  "metadata": {
    "colab": {
      "name": "practice_3_multilayerPerceptron.ipynb",
      "provenance": [],
      "collapsed_sections": [],
      "toc_visible": true,
      "include_colab_link": true
    },
    "kernelspec": {
      "name": "python3",
      "display_name": "Python 3"
    }
  },
  "cells": [
    {
      "cell_type": "markdown",
      "metadata": {
        "id": "view-in-github",
        "colab_type": "text"
      },
      "source": [
        "<a href=\"https://colab.research.google.com/github/VincentGaoHJ/Course-CS5242/blob/master/practice_3_multilayerPerceptron.ipynb\" target=\"_parent\"><img src=\"https://colab.research.google.com/assets/colab-badge.svg\" alt=\"Open In Colab\"/></a>"
      ]
    },
    {
      "cell_type": "markdown",
      "metadata": {
        "id": "t--wDFP1sEdg"
      },
      "source": [
        "## Practice 3: Multilayer Networks\n"
      ]
    },
    {
      "cell_type": "code",
      "metadata": {
        "id": "DW7c6fznGFyZ",
        "colab": {
          "base_uri": "https://localhost:8080/"
        },
        "outputId": "a7fb7347-6698-49fa-ad57-e2265e047b79"
      },
      "source": [
        "import random\n",
        "import numpy as np\n",
        "import matplotlib.pyplot as plt\n",
        "import torch\n",
        "import torch.nn as nn\n",
        "import torch.nn.functional as F\n",
        "\n",
        "%matplotlib inline\n",
        "plt.rcParams['figure.figsize'] = (10.0, 8.0) # set default size of plots\n",
        "plt.rcParams['image.interpolation'] = 'nearest'\n",
        "plt.rcParams['image.cmap'] = 'gray'\n",
        "\n",
        "# for auto-reloading extenrnal modules\n",
        "# see http://stackoverflow.com/questions/1907993/autoreload-of-modules-in-ipython\n",
        "%load_ext autoreload\n",
        "%autoreload 2"
      ],
      "execution_count": 3,
      "outputs": [
        {
          "output_type": "stream",
          "text": [
            "The autoreload extension is already loaded. To reload it, use:\n",
            "  %reload_ext autoreload\n"
          ],
          "name": "stdout"
        }
      ]
    },
    {
      "cell_type": "markdown",
      "metadata": {
        "id": "6gYBM8VgFgwp"
      },
      "source": [
        "**Pytorch has a wide variety of datasets that one can leverage. In this tutorial, we will\n",
        "use one such dataset and build a multilayer neural network to fit the data. We will \n",
        "use PyTorch optimizers to perform the optimization process.**\n"
      ]
    },
    {
      "cell_type": "markdown",
      "metadata": {
        "id": "5oH7W65sq_Z9"
      },
      "source": [
        "Q1. Use the following snippet to get a dataloader from the already available Mnist dataset from \n",
        "PyTorch. Mnist dataset has 60,000 digit images with its corresponding labels.\n",
        "This snippet will download the dataset if not downloaded already and transform each \n",
        "image before returning it. Dataloaders are iterable over a dataset. For further reading follow [pytorch dataloader](https://pytorch.org/docs/stable/data.html)\n",
        "\n",
        "```python\n",
        "from torchvision import datasets, transforms\n",
        "\n",
        "transform = transforms.Compose([transforms.ToTensor(), transforms.Normalize((0.5,), (0.5,))])\n",
        "trainset = datasets.MNIST('~/.pytorch/MNIST_data/', download=True, train=True, transform=transform)\n",
        "traintloader = torch.utils.data.DataLoader(trainset, batch_size=64, shuffle=True)\n",
        "```"
      ]
    },
    {
      "cell_type": "code",
      "metadata": {
        "id": "6ZA4o635FW8M"
      },
      "source": [
        "from torchvision import datasets, transforms\n",
        "\n",
        "transform = transforms.Compose([transforms.ToTensor(), transforms.Normalize((0.5,), (0.5,))]) \n",
        "trainset = datasets.MNIST('~/.pytorch/MNIST_data/', download=True, train=True, transform=transform)\n",
        "trainloader = torch.utils.data.DataLoader(trainset, batch_size=64, shuffle=True)\n",
        "\n",
        "# Code for the test dataset and data loader\n",
        "testset = datasets.MNIST('~/.pytorch/MNIST_data/', download=True, train=False, transform=transform)\n",
        "testloader = torch.utils.data.DataLoader(testset, batch_size=64, shuffle=True)\n",
        "\n",
        "# Use the help command to see the dictionary elements, attributes and method of any object\n",
        "# help(trainloader)"
      ],
      "execution_count": 4,
      "outputs": []
    },
    {
      "cell_type": "markdown",
      "metadata": {
        "id": "TmvPROOEHwGY"
      },
      "source": [
        "Q2. Wrap the dataloader with python “iter” class which will give you an iterable object from which you can get new images and labels using .next(). After applying iter, iterate through a few samples, check the shape, the datatype of the image, label tuple that you are getting. Plot some of the images. Also, print the flattened shape of each image. (hint: use .flatten())\n"
      ]
    },
    {
      "cell_type": "code",
      "metadata": {
        "colab": {
          "base_uri": "https://localhost:8080/"
        },
        "id": "bi27wJQitA_m",
        "outputId": "5489ec72-7ea9-4d61-a233-d861228ebb94"
      },
      "source": [
        "print('Dataset: ', trainloader.dataset)\r\n",
        "print('samples per batch: ', trainloader.batch_size)"
      ],
      "execution_count": 5,
      "outputs": [
        {
          "output_type": "stream",
          "text": [
            "Dataset:  Dataset MNIST\n",
            "    Number of datapoints: 60000\n",
            "    Root location: /root/.pytorch/MNIST_data/\n",
            "    Split: Train\n",
            "    StandardTransform\n",
            "Transform: Compose(\n",
            "               ToTensor()\n",
            "               Normalize(mean=(0.5,), std=(0.5,))\n",
            "           )\n",
            "samples per batch:  64\n"
          ],
          "name": "stdout"
        }
      ]
    },
    {
      "cell_type": "code",
      "metadata": {
        "colab": {
          "base_uri": "https://localhost:8080/"
        },
        "id": "CroqW1JWr8or",
        "outputId": "0df0217d-9b8f-4fd5-874d-7533c460419a"
      },
      "source": [
        "# Here we are doing some initial analysis of what .next of dataloader returns\r\n",
        "train_iter = iter(trainloader)\r\n",
        "batches, labels = train_iter.next()\r\n",
        "\r\n",
        "# check the shape\r\n",
        "print('Tensor shape: ', batches.shape)\r\n",
        "# the datatype of the image\r\n",
        "print('Datatype of image: ', batches.type)\r\n",
        "# label tuple that you are getting\r\n",
        "print('Label tuple: ', labels)\r\n",
        "# Also, print the flattened shape of each image. (hint: use .flatten())\r\n",
        "print('Flattened shape of each image: ', batches[0].flatten().shape)"
      ],
      "execution_count": 6,
      "outputs": [
        {
          "output_type": "stream",
          "text": [
            "Tensor shape:  torch.Size([64, 1, 28, 28])\n",
            "Datatype of image:  <built-in method type of Tensor object at 0x7f58147f49d8>\n",
            "Label tuple:  tensor([1, 6, 0, 1, 4, 0, 5, 1, 3, 0, 3, 3, 3, 1, 7, 4, 6, 6, 5, 6, 7, 3, 9, 1,\n",
            "        9, 8, 2, 5, 1, 3, 8, 6, 6, 5, 3, 6, 3, 5, 3, 1, 5, 2, 1, 9, 7, 3, 4, 4,\n",
            "        7, 1, 7, 6, 2, 7, 0, 3, 7, 3, 9, 5, 9, 7, 6, 7])\n",
            "Flattened shape of each image:  torch.Size([784])\n"
          ],
          "name": "stdout"
        }
      ]
    },
    {
      "cell_type": "code",
      "metadata": {
        "colab": {
          "base_uri": "https://localhost:8080/",
          "height": 454
        },
        "id": "KNZUQobdutI5",
        "outputId": "250e8055-b028-47f1-9e6e-b163167cb722"
      },
      "source": [
        "np.random.seed(0)     # We need to set the seed to help in reproducibility of data\r\n",
        "\r\n",
        "length_of_dict_class = 10 # This indicates we have 10 labels corresponding to Mnist dataset\r\n",
        "dict_class = {0:\"zero\", 1:\"one\", 2: \"two\", 3: \"three\", 4:\"four\", 5:\"five\", 6:\"six\", 7:\"seven\", 8:\"eight\", 9:\"nine\"}\r\n",
        "\r\n",
        "# Since we notice the dimension of image is 1 * 28 * 28, this means image is gray scale, \r\n",
        "# it has only one channel, we should squeeze the extra dimension\r\n",
        "\r\n",
        "\r\n",
        "def visualize_images(examples_per_class):\r\n",
        "    \r\n",
        "    for cls in range(length_of_dict_class):\r\n",
        "        idxs = np.where((labels == cls))[0] # Find index of the specific class\r\n",
        "        # If in this batch we do not get the required number of samples we want to show, skip\r\n",
        "        if len(idxs) >= examples_per_class:\r\n",
        "            idxs = np.random.choice(idxs, examples_per_class, replace=False) \r\n",
        "        \r\n",
        "        # Plot here\r\n",
        "        for enu_idx, img_idx in enumerate(idxs):\r\n",
        "            plt_index = enu_idx * length_of_dict_class + cls + 1\r\n",
        "            plt.subplot(examples_per_class, length_of_dict_class, plt_index)\r\n",
        "            plt.imshow(torch.squeeze(batches[img_idx]))\r\n",
        "            plt.axis('off')\r\n",
        "            if enu_idx == 0:\r\n",
        "                plt.title(dict_class[cls])\r\n",
        "    \r\n",
        "visualize_images(5)"
      ],
      "execution_count": 7,
      "outputs": [
        {
          "output_type": "display_data",
          "data": {
            "image/png": "[encoded data removed]",
            "text/plain": [
              "<Figure size 720x576 with 43 Axes>"
            ]
          },
          "metadata": {
            "tags": [],
            "needs_background": "light"
          }
        }
      ]
    },
    {
      "cell_type": "markdown",
      "metadata": {
        "id": "vkEIv5JZH02X"
      },
      "source": [
        "\n",
        "Q3. Build a multilayer neural network with 3 fully connected layers of shape (784, 128), (128, 64) and then (64, 10). Use ReLu activation in between each layer, and at the end of the output layer. \n",
        "The class should have a forward function that you will manually create. The forward will take image batch as an input (image_batch * flattened_image_784_size) and return (image_batch x 10) size vectors.\n",
        "\n",
        "**Hint**: Use torch.nn.Linear for linear layers. Follow this pytorch module to understand how to inherit the [pytorch module](https://pytorch.org/docs/stable/generated/torch.nn.Module.html#torch.nn.Module) class.\n"
      ]
    },
    {
      "cell_type": "code",
      "metadata": {
        "colab": {
          "base_uri": "https://localhost:8080/"
        },
        "id": "xIkPZ0nrCBSN",
        "outputId": "0064f3c0-1915-4360-992f-7e926bde3afb"
      },
      "source": [
        "# Declare device which you will be working with\r\n",
        "device = torch.device('cuda:0') if torch.cuda.is_available() else torch.device('cpu')\r\n",
        "device"
      ],
      "execution_count": 8,
      "outputs": [
        {
          "output_type": "execute_result",
          "data": {
            "text/plain": [
              "device(type='cpu')"
            ]
          },
          "metadata": {
            "tags": []
          },
          "execution_count": 8
        }
      ]
    },
    {
      "cell_type": "code",
      "metadata": {
        "id": "pCBKM8B5H3s2"
      },
      "source": [
        "class Model(nn.Module):\n",
        "    \"\"\"\n",
        "    Multilayer neural network with 3 fully connected layers of shape \n",
        "    (784, 128) -> (128, 64) -> (64, 10)\n",
        "    \"\"\"\n",
        "\n",
        "    # Use ReLu activation in between each layer, and at the end of the output layer. \n",
        "    # The class should have a forward function that you will manually create. \n",
        "    # The forward will take image batch as an input (image_batch * flattened_image_784_size) and return (image_batch x 10) size vectors.\n",
        "    def __init__(self):\n",
        "        # Creates an instance of the base nn.Module class\n",
        "        super(Model, self).__init__() # Inheritance of the base class nn.Module\n",
        "        # Fully connected layers\n",
        "        self.fc1 = nn.Linear(784, 128) # 28 x 28 input pixels connecting to the first hidden layer (128 node)\n",
        "        self.fc2 = nn.Linear(128, 64) # 128 to 64 hidden layer\n",
        "        self.fc3 = nn.Linear(64, 10) # last hidden layer to the output layer (with 10 nodes).\n",
        "\n",
        "    def forward(self, x):\n",
        "        x = F.relu(self.fc1(x))\n",
        "        x = F.relu(self.fc2(x))\n",
        "        x = self.fc3(x)\n",
        "        return x"
      ],
      "execution_count": 9,
      "outputs": []
    },
    {
      "cell_type": "markdown",
      "metadata": {
        "id": "EhhDVNdMH5GM"
      },
      "source": [
        "Q4. Create a cross-entropy loss. You can create it yourself (just like the last tutorial) or create it by using torch.nn.CrossEntropyLoss (pytorch cross-entropy loss uses logits, not softmax probabilities, so we had not applied softmax at the last layer). Initialize an SGD optimizer from torch.optim. \n",
        "\n",
        "**PyTorch Loss-Input Confusion (Cheatsheet)**\n",
        "\n",
        "*   torch.nn.functional.binary_cross_entropy takes logistic sigmoid values as inputs\n",
        "*   torch.nn.functional.binary_cross_entropy_with_logits takes logits as inputs\n",
        "*   torch.nn.functional.cross_entropy takes logits as inputs (performs log_softmax internally)\n",
        "*   torch.nn.functional.nll_loss is like cross_entropy but takes log-probabilities (log-softmax) values as inputs\n"
      ]
    },
    {
      "cell_type": "code",
      "metadata": {
        "id": "6Wn9KGV9H8OM",
        "outputId": "d09ec346-742b-4808-829e-b14c7ae75a5c",
        "colab": {
          "base_uri": "https://localhost:8080/"
        }
      },
      "source": [
        "network = Model().to(device)\n",
        "print(network)\n",
        "\n",
        "# used 0.1 learning rate\n",
        "learning_rate = 0.1\n",
        "momentum = 0\n",
        "# create a stochastic gradient descent optimizer\n",
        "optimizer = torch.optim.SGD(network.parameters(), lr=learning_rate, momentum=momentum) \n",
        "# create a loss function\n",
        "criterion = nn.CrossEntropyLoss()"
      ],
      "execution_count": 12,
      "outputs": [
        {
          "output_type": "stream",
          "text": [
            "Model(\n",
            "  (fc1): Linear(in_features=784, out_features=128, bias=True)\n",
            "  (fc2): Linear(in_features=128, out_features=64, bias=True)\n",
            "  (fc3): Linear(in_features=64, out_features=10, bias=True)\n",
            ")\n"
          ],
          "name": "stdout"
        }
      ]
    },
    {
      "cell_type": "markdown",
      "metadata": {
        "id": "2tuGd0H2H9GD"
      },
      "source": [
        "\n",
        "Q5. (1 pass of the data) Write a training loop which will \n",
        "1.\tGet data batches from dataloader, feed it into the network and get outputs.\n",
        "2.\tGet loss using outputs and ground truth labels.\n",
        "3.\tCall backward on the loss (remember to clear grads before calling gradients)\n",
        "4.\tCall optimizer.step to perform SGD update.\n",
        "5.\tPrint the accuracy, loss and amount of data used till now.\n",
        "\n",
        "\n",
        "**Note**: We have used only training split in this week tutorial for sake of simplicity of the tutorial. \n"
      ]
    },
    {
      "cell_type": "code",
      "metadata": {
        "colab": {
          "base_uri": "https://localhost:8080/"
        },
        "id": "89yBKAZyf98b",
        "outputId": "c4c1d0f0-bcba-49dc-cbc4-033962e157f5"
      },
      "source": [
        "def cal_acc(outputs, labels):\r\n",
        "    # probs: probability that each image is labeled as 1\r\n",
        "    # target: ground truth label\r\n",
        "    correct = 0\r\n",
        "    total = 0\r\n",
        "    with torch.no_grad():\r\n",
        "        _, predicted = torch.max(outputs.data, 1)\r\n",
        "        total += labels.size(0)\r\n",
        "        correct += (predicted == labels).sum().item()\r\n",
        "    return 100 * correct / total\r\n",
        "\r\n",
        "def train_one_pass(p_network, criterion, p_optim, trainloader, epoch=1, log_interval=100, print_log=True):\r\n",
        "    p_network.train()\r\n",
        "    acc_one_pass, loss_one_pass = [], []\r\n",
        "    for idx, (images, labels) in enumerate(trainloader):\r\n",
        "        # Move tensors to the configured device\r\n",
        "        images = images.reshape(-1, 28*28).to(device) # resize data from (batch_size, 1, 28, 28) to (batch_size, 28*28)\r\n",
        "        labels = labels.to(device)\r\n",
        "        \r\n",
        "        # Forward pass\r\n",
        "        model_out = p_network(images)\r\n",
        "        loss = criterion(model_out, labels) # Get loss using outputs and ground truth labels.\r\n",
        "        \r\n",
        "        # Backprpagation and optimization\r\n",
        "        p_optim.zero_grad() # remember to clear grads before calling gradients\r\n",
        "        loss.backward() # Call backward on the loss ()\r\n",
        "        p_optim.step() # Call optimizer.step to perform SGD update.\r\n",
        "        \r\n",
        "        acc = cal_acc(model_out, labels) # Print the accuracy, loss and amount of data used till now.\r\n",
        "\r\n",
        "        # Print Information\r\n",
        "        if print_log and (idx + 1) % log_interval == 0 :\r\n",
        "            print('Iter: [{}/{} ({:.2f}%)] \\t Train Loss: {:.4f} \\t Train Accuracy: {:.2f}%'.format(\r\n",
        "                (idx+1) * len(images), len(trainset), \r\n",
        "                100.*(idx+1) * len(images)/len(trainset), loss, acc))\r\n",
        "        acc_one_pass.append(acc)\r\n",
        "        loss_one_pass.append(loss)\r\n",
        "    \r\n",
        "    avg_acc = sum(acc_one_pass) / len(acc_one_pass)\r\n",
        "    avg_loss = sum(loss_one_pass) / len(loss_one_pass)\r\n",
        "    print('Train on Epoch: {} \\t Loss: {:.4f} \\t Accuracy: {:.2f}%'.format(\r\n",
        "        epoch, avg_loss, avg_acc).center(76, '='))\r\n",
        "\r\n",
        "\r\n",
        "def test_one_pass(p_network, testloader, epoch=1):\r\n",
        "    p_network.eval()\r\n",
        "    loss_lst, acc_lst = [], []\r\n",
        "    with torch.no_grad():\r\n",
        "        for images, labels in testloader:\r\n",
        "            images = images.reshape(-1, 28*28).to(device) # resize data from (batch_size, 1, 28, 28) to (batch_size, 28*28)\r\n",
        "            labels = labels.to(device)\r\n",
        "            model_out = p_network(images)\r\n",
        "            loss = criterion(model_out, labels)\r\n",
        "            acc = cal_acc(model_out, labels)\r\n",
        "            loss_lst.append(loss)\r\n",
        "            acc_lst.append(acc)\r\n",
        "    loss = sum(loss_lst) / len(loss_lst)\r\n",
        "    acc = sum(acc_lst) / len(acc_lst)\r\n",
        "    print('Test on Epoch: {} \\t Loss: {:.4f} \\t Accuracy: {:.2f}%'.format(\r\n",
        "        epoch, loss, acc).center(76, '='))\r\n",
        "\r\n",
        "network = Model().to(device)\r\n",
        "\r\n",
        "# Loss and optimizer\r\n",
        "optimizer = torch.optim.SGD(network.parameters(), lr=0.01, momentum=momentum) \r\n",
        "\r\n",
        "# Train the model\r\n",
        "train_one_pass(network, criterion, optimizer, trainloader,\r\n",
        "               print_log=True)\r\n",
        "\r\n",
        "# Test the model\r\n",
        "test_one_pass(network, testloader)"
      ],
      "execution_count": 13,
      "outputs": [
        {
          "output_type": "stream",
          "text": [
            "Iter: [6400/60000 (10.67%)] \t Train Loss: 2.1593 \t Train Accuracy: 25.00%\n",
            "Iter: [12800/60000 (21.33%)] \t Train Loss: 1.7328 \t Train Accuracy: 60.94%\n",
            "Iter: [19200/60000 (32.00%)] \t Train Loss: 1.0976 \t Train Accuracy: 73.44%\n",
            "Iter: [25600/60000 (42.67%)] \t Train Loss: 0.8410 \t Train Accuracy: 76.56%\n",
            "Iter: [32000/60000 (53.33%)] \t Train Loss: 0.5348 \t Train Accuracy: 85.94%\n",
            "Iter: [38400/60000 (64.00%)] \t Train Loss: 0.5384 \t Train Accuracy: 87.50%\n",
            "Iter: [44800/60000 (74.67%)] \t Train Loss: 0.5174 \t Train Accuracy: 89.06%\n",
            "Iter: [51200/60000 (85.33%)] \t Train Loss: 0.4137 \t Train Accuracy: 90.62%\n",
            "Iter: [57600/60000 (96.00%)] \t Train Loss: 0.4672 \t Train Accuracy: 82.81%\n",
            "============Train on Epoch: 1 \t Loss: 1.0140 \t Accuracy: 71.86%=============\n",
            "=============Test on Epoch: 1 \t Loss: 0.4364 \t Accuracy: 87.38%=============\n"
          ],
          "name": "stdout"
        }
      ]
    },
    {
      "cell_type": "markdown",
      "metadata": {
        "id": "zBLLqaCWH_sY"
      },
      "source": [
        "\n",
        "Q6. (Multiple Passes of Data) Write a loop to perform the training pass for 50 training iterations (50 epochs, this is outer for loop of data loader). Print and save accuracy and loss after each epoch.\n"
      ]
    },
    {
      "cell_type": "code",
      "metadata": {
        "colab": {
          "base_uri": "https://localhost:8080/"
        },
        "id": "sy0JoCSziO5t",
        "outputId": "10fa29be-2d6a-4125-a33b-ae4ac23f58a6"
      },
      "source": [
        "def multiple_pass(model, criterion, optimizer, train_loader, testloader, \r\n",
        "                  num_epochs=10, log_interval=300, print_log=False):\r\n",
        "    # Train the model\r\n",
        "    total_step = len(train_loader)\r\n",
        "    for epoch in range(1, num_epochs + 1):\r\n",
        "        train_one_pass(model, criterion, optimizer, train_loader, \r\n",
        "                       epoch=epoch, log_interval=log_interval, print_log=print_log)\r\n",
        "        test_one_pass(model, testloader, \r\n",
        "                      epoch=epoch)\r\n",
        "\r\n",
        "network = Model().to(device)\r\n",
        "\r\n",
        "# Loss and optimizer\r\n",
        "criterion = nn.CrossEntropyLoss()\r\n",
        "optimizer = torch.optim.SGD(network.parameters(), lr=0.01, momentum=momentum) \r\n",
        "\r\n",
        "# Train and Test\r\n",
        "multiple_pass(network, criterion, optimizer, trainloader, testloader,\r\n",
        "              num_epochs=10, print_log=False)"
      ],
      "execution_count": 14,
      "outputs": [
        {
          "output_type": "stream",
          "text": [
            "============Train on Epoch: 1 \t Loss: 1.0609 \t Accuracy: 71.19%=============\n",
            "=============Test on Epoch: 1 \t Loss: 0.4451 \t Accuracy: 87.10%=============\n",
            "============Train on Epoch: 2 \t Loss: 0.3902 \t Accuracy: 88.74%=============\n",
            "=============Test on Epoch: 2 \t Loss: 0.3473 \t Accuracy: 89.54%=============\n",
            "============Train on Epoch: 3 \t Loss: 0.3303 \t Accuracy: 90.40%=============\n",
            "=============Test on Epoch: 3 \t Loss: 0.3143 \t Accuracy: 90.34%=============\n",
            "============Train on Epoch: 4 \t Loss: 0.2992 \t Accuracy: 91.24%=============\n",
            "=============Test on Epoch: 4 \t Loss: 0.2834 \t Accuracy: 91.97%=============\n",
            "============Train on Epoch: 5 \t Loss: 0.2746 \t Accuracy: 91.96%=============\n",
            "=============Test on Epoch: 5 \t Loss: 0.2552 \t Accuracy: 92.79%=============\n",
            "============Train on Epoch: 6 \t Loss: 0.2525 \t Accuracy: 92.64%=============\n",
            "=============Test on Epoch: 6 \t Loss: 0.2397 \t Accuracy: 93.02%=============\n",
            "============Train on Epoch: 7 \t Loss: 0.2329 \t Accuracy: 93.17%=============\n",
            "=============Test on Epoch: 7 \t Loss: 0.2212 \t Accuracy: 93.50%=============\n",
            "============Train on Epoch: 8 \t Loss: 0.2150 \t Accuracy: 93.75%=============\n",
            "=============Test on Epoch: 8 \t Loss: 0.2151 \t Accuracy: 93.66%=============\n",
            "============Train on Epoch: 9 \t Loss: 0.1986 \t Accuracy: 94.24%=============\n",
            "=============Test on Epoch: 9 \t Loss: 0.1901 \t Accuracy: 94.29%=============\n",
            "============Train on Epoch: 10 \t Loss: 0.1838 \t Accuracy: 94.70%============\n",
            "============Test on Epoch: 10 \t Loss: 0.1817 \t Accuracy: 94.54%=============\n"
          ],
          "name": "stdout"
        }
      ]
    },
    {
      "cell_type": "markdown",
      "metadata": {
        "id": "nhIF4yegIBxb"
      },
      "source": [
        "\n",
        "Q7. Play around with the momentum of the SGD optimizer and then replace the SGD optimizer with Adam and RMSProp and analyze the loss trajectory (save the value of loss in an array after each update) of 50 training iterations for each of these types of optimizers. \n"
      ]
    },
    {
      "cell_type": "code",
      "metadata": {
        "id": "Pke4C-BpIDKc",
        "colab": {
          "base_uri": "https://localhost:8080/"
        },
        "outputId": "c8bc5877-50ef-4de5-a925-b394f29f849c"
      },
      "source": [
        "network = Model().to(device)\n",
        "\n",
        "# Loss and optimizer\n",
        "criterion = nn.CrossEntropyLoss()\n",
        "adam_optim = torch.optim.Adam(network.parameters(), lr=0.01) \n",
        "\n",
        "# Train and Test\n",
        "multiple_pass(network, criterion, adam_optim, trainloader, testloader,\n",
        "              num_epochs=10, print_log=False)"
      ],
      "execution_count": 15,
      "outputs": [
        {
          "output_type": "stream",
          "text": [
            "============Train on Epoch: 1 \t Loss: 0.3965 \t Accuracy: 87.51%=============\n",
            "=============Test on Epoch: 1 \t Loss: 0.3494 \t Accuracy: 87.87%=============\n",
            "============Train on Epoch: 2 \t Loss: 0.2534 \t Accuracy: 92.53%=============\n",
            "=============Test on Epoch: 2 \t Loss: 0.2042 \t Accuracy: 93.89%=============\n",
            "============Train on Epoch: 3 \t Loss: 0.2371 \t Accuracy: 93.18%=============\n",
            "=============Test on Epoch: 3 \t Loss: 0.1931 \t Accuracy: 94.36%=============\n",
            "============Train on Epoch: 4 \t Loss: 0.2271 \t Accuracy: 93.40%=============\n",
            "=============Test on Epoch: 4 \t Loss: 0.2243 \t Accuracy: 93.25%=============\n",
            "============Train on Epoch: 5 \t Loss: 0.2227 \t Accuracy: 93.74%=============\n",
            "=============Test on Epoch: 5 \t Loss: 0.3473 \t Accuracy: 91.66%=============\n",
            "============Train on Epoch: 6 \t Loss: 0.2191 \t Accuracy: 93.80%=============\n",
            "=============Test on Epoch: 6 \t Loss: 0.2355 \t Accuracy: 93.55%=============\n",
            "============Train on Epoch: 7 \t Loss: 0.2144 \t Accuracy: 94.08%=============\n",
            "=============Test on Epoch: 7 \t Loss: 0.2024 \t Accuracy: 94.60%=============\n",
            "============Train on Epoch: 8 \t Loss: 0.2062 \t Accuracy: 94.39%=============\n",
            "=============Test on Epoch: 8 \t Loss: 0.2517 \t Accuracy: 93.74%=============\n",
            "============Train on Epoch: 9 \t Loss: 0.2056 \t Accuracy: 94.37%=============\n",
            "=============Test on Epoch: 9 \t Loss: 0.2631 \t Accuracy: 93.48%=============\n",
            "============Train on Epoch: 10 \t Loss: 0.1968 \t Accuracy: 94.64%============\n",
            "============Test on Epoch: 10 \t Loss: 0.2687 \t Accuracy: 93.33%=============\n"
          ],
          "name": "stdout"
        }
      ]
    },
    {
      "cell_type": "markdown",
      "metadata": {
        "id": "HGKzJ3b3ID6h"
      },
      "source": [
        "\n",
        "Q8. Play around with the initialization function like uniform and gaussian learnt in the lecture slides.\n"
      ]
    },
    {
      "cell_type": "code",
      "metadata": {
        "colab": {
          "base_uri": "https://localhost:8080/"
        },
        "id": "_xoeVDWqZolb",
        "outputId": "d8120c21-b142-454c-e693-7214a2de1df3"
      },
      "source": [
        "def init_weights_uniform(m):\n",
        "    classname = m.__class__.__name__\n",
        "    if classname.find('Linear') != -1:\n",
        "        m.weight.data.uniform_(0.0, 1.0) # uniform distribution(bias=0)\n",
        "        m.bias.data.fill_(0)\n",
        "\n",
        "# Initialize Weight\n",
        "network_initialized = Model().to(device)\n",
        "network_initialized.apply(init_weights_uniform)\n",
        "\n",
        "# Loss and optimizer\n",
        "criterion = nn.CrossEntropyLoss()\n",
        "adam_optim = torch.optim.Adam(network_initialized.parameters(), lr=0.01) \n",
        "\n",
        "# Train and Test\n",
        "print(\"Now running the uniformed initialized model with Adam Optimizer\")\n",
        "multiple_pass(network_initialized, criterion, adam_optim, trainloader, testloader,\n",
        "              num_epochs=10, print_log=False)"
      ],
      "execution_count": 16,
      "outputs": [
        {
          "output_type": "stream",
          "text": [
            "Now running the uniformed initialized model with Adam Optimizer\n",
            "============Train on Epoch: 1 \t Loss: 2.3023 \t Accuracy: 11.01%=============\n",
            "=============Test on Epoch: 1 \t Loss: 2.3013 \t Accuracy: 10.26%=============\n",
            "============Train on Epoch: 2 \t Loss: 2.3021 \t Accuracy: 11.04%=============\n",
            "=============Test on Epoch: 2 \t Loss: 2.3014 \t Accuracy: 11.33%=============\n",
            "============Train on Epoch: 3 \t Loss: 2.3021 \t Accuracy: 11.05%=============\n",
            "=============Test on Epoch: 3 \t Loss: 2.3023 \t Accuracy: 11.33%=============\n",
            "============Train on Epoch: 4 \t Loss: 2.3021 \t Accuracy: 11.11%=============\n",
            "=============Test on Epoch: 4 \t Loss: 2.3022 \t Accuracy: 10.26%=============\n",
            "============Train on Epoch: 5 \t Loss: 2.3021 \t Accuracy: 11.02%=============\n",
            "=============Test on Epoch: 5 \t Loss: 2.3016 \t Accuracy: 11.30%=============\n",
            "============Train on Epoch: 6 \t Loss: 2.3022 \t Accuracy: 10.97%=============\n",
            "=============Test on Epoch: 6 \t Loss: 2.3016 \t Accuracy: 11.33%=============\n",
            "============Train on Epoch: 7 \t Loss: 2.3021 \t Accuracy: 11.08%=============\n",
            "=============Test on Epoch: 7 \t Loss: 2.3013 \t Accuracy: 11.36%=============\n",
            "============Train on Epoch: 8 \t Loss: 2.3022 \t Accuracy: 11.05%=============\n",
            "=============Test on Epoch: 8 \t Loss: 2.3013 \t Accuracy: 11.39%=============\n",
            "============Train on Epoch: 9 \t Loss: 2.3023 \t Accuracy: 11.09%=============\n",
            "=============Test on Epoch: 9 \t Loss: 2.3013 \t Accuracy: 11.33%=============\n",
            "============Train on Epoch: 10 \t Loss: 2.3022 \t Accuracy: 10.99%============\n",
            "============Test on Epoch: 10 \t Loss: 2.3020 \t Accuracy: 10.26%=============\n"
          ],
          "name": "stdout"
        }
      ]
    },
    {
      "cell_type": "code",
      "metadata": {
        "colab": {
          "base_uri": "https://localhost:8080/"
        },
        "id": "ntNK9TIooIy7",
        "outputId": "6daf0f29-716d-44c1-af31-043a23340240"
      },
      "source": [
        "def weights_init_normal(m):\r\n",
        "        classname = m.__class__.__name__\r\n",
        "        if classname.find('Linear') != -1:\r\n",
        "            y = m.in_features\r\n",
        "            m.weight.data.normal_(0.0,1/np.sqrt(y))\r\n",
        "            m.bias.data.fill_(0)\r\n",
        "\r\n",
        "# Initialize Weight\r\n",
        "network_initialized = Model().to(device)\r\n",
        "network_initialized.apply(weights_init_normal)\r\n",
        "\r\n",
        "# Loss and optimizer\r\n",
        "criterion = nn.CrossEntropyLoss()\r\n",
        "adam_optim = torch.optim.Adam(network_initialized.parameters(), lr=0.01) \r\n",
        "\r\n",
        "# Train and Test\r\n",
        "print(\"Now running the normal distribution initialized model with Adam Optimizer\")\r\n",
        "multiple_pass(network_initialized, criterion, adam_optim, trainloader, testloader,\r\n",
        "              num_epochs=10, print_log=False)"
      ],
      "execution_count": 17,
      "outputs": [
        {
          "output_type": "stream",
          "text": [
            "Now running the normal distribution initialized model with Adam Optimizer\n",
            "============Train on Epoch: 1 \t Loss: 0.3861 \t Accuracy: 88.38%=============\n",
            "=============Test on Epoch: 1 \t Loss: 0.2470 \t Accuracy: 92.66%=============\n",
            "============Train on Epoch: 2 \t Loss: 0.2371 \t Accuracy: 92.98%=============\n",
            "=============Test on Epoch: 2 \t Loss: 0.2019 \t Accuracy: 94.34%=============\n",
            "============Train on Epoch: 3 \t Loss: 0.2304 \t Accuracy: 93.42%=============\n",
            "=============Test on Epoch: 3 \t Loss: 0.2073 \t Accuracy: 94.28%=============\n",
            "============Train on Epoch: 4 \t Loss: 0.2173 \t Accuracy: 93.98%=============\n",
            "=============Test on Epoch: 4 \t Loss: 0.2081 \t Accuracy: 94.53%=============\n",
            "============Train on Epoch: 5 \t Loss: 0.2120 \t Accuracy: 94.17%=============\n",
            "=============Test on Epoch: 5 \t Loss: 0.2518 \t Accuracy: 93.31%=============\n",
            "============Train on Epoch: 6 \t Loss: 0.2078 \t Accuracy: 94.28%=============\n",
            "=============Test on Epoch: 6 \t Loss: 0.2137 \t Accuracy: 94.69%=============\n",
            "============Train on Epoch: 7 \t Loss: 0.2063 \t Accuracy: 94.48%=============\n",
            "=============Test on Epoch: 7 \t Loss: 0.2237 \t Accuracy: 94.57%=============\n",
            "============Train on Epoch: 8 \t Loss: 0.1976 \t Accuracy: 94.71%=============\n",
            "=============Test on Epoch: 8 \t Loss: 0.3177 \t Accuracy: 92.05%=============\n",
            "============Train on Epoch: 9 \t Loss: 0.1945 \t Accuracy: 94.75%=============\n",
            "=============Test on Epoch: 9 \t Loss: 0.2549 \t Accuracy: 94.21%=============\n",
            "============Train on Epoch: 10 \t Loss: 0.1995 \t Accuracy: 94.72%============\n",
            "============Test on Epoch: 10 \t Loss: 0.2119 \t Accuracy: 94.79%=============\n"
          ],
          "name": "stdout"
        }
      ]
    },
    {
      "cell_type": "markdown",
      "metadata": {
        "id": "GSNwcQwcIGEG"
      },
      "source": [
        "\n",
        "Q9. Add batch normalization to each of the layers before ReLu activation function. Check how your results or iterations vary."
      ]
    },
    {
      "cell_type": "code",
      "metadata": {
        "id": "1znPChEaWyob",
        "colab": {
          "base_uri": "https://localhost:8080/"
        },
        "outputId": "1bf4c46f-de58-4104-9027-52abe981fa5f"
      },
      "source": [
        "class Model_Normalization(nn.Module):\n",
        "    def __init__(self):\n",
        "        super(Model_Normalization, self).__init__()\n",
        "        self.fc1 = nn.Linear(784, 128)\n",
        "        self.bn1 = nn.BatchNorm1d(num_features=128)\n",
        "        self.fc2 = nn.Linear(128, 64)\n",
        "        self.bn2 = nn.BatchNorm1d(num_features=64)\n",
        "        self.fc3 = nn.Linear(64, 10)\n",
        "\n",
        "    def forward(self, x):\n",
        "        x = F.relu(self.bn1(self.fc1(x)))\n",
        "        x = F.relu(self.bn2(self.fc2(x)))\n",
        "        x = self.fc3(x)\n",
        "        return x\n",
        "\n",
        "\n",
        "# Initialize Weight\n",
        "network_initialized = Model_Normalization().to(device)\n",
        "network_initialized.apply(weights_init_normal)\n",
        "\n",
        "# Loss and optimizer\n",
        "criterion = nn.CrossEntropyLoss()\n",
        "adam_optim = torch.optim.Adam(network_initialized.parameters(), lr=0.01) \n",
        "\n",
        "# Train and Test\n",
        "print(\"Now running the normal distribution initialized model with Adam Optimizer\")\n",
        "multiple_pass(network_initialized, criterion, adam_optim, trainloader, testloader,\n",
        "              num_epochs=10, print_log=False)"
      ],
      "execution_count": 18,
      "outputs": [
        {
          "output_type": "stream",
          "text": [
            "Now running the normal distribution initialized model with Adam Optimizer\n",
            "============Train on Epoch: 1 \t Loss: 0.2012 \t Accuracy: 93.86%=============\n",
            "=============Test on Epoch: 1 \t Loss: 0.1118 \t Accuracy: 96.39%=============\n",
            "============Train on Epoch: 2 \t Loss: 0.1057 \t Accuracy: 96.74%=============\n",
            "=============Test on Epoch: 2 \t Loss: 0.0867 \t Accuracy: 97.19%=============\n",
            "============Train on Epoch: 3 \t Loss: 0.0802 \t Accuracy: 97.44%=============\n",
            "=============Test on Epoch: 3 \t Loss: 0.0785 \t Accuracy: 97.54%=============\n",
            "============Train on Epoch: 4 \t Loss: 0.0657 \t Accuracy: 97.89%=============\n",
            "=============Test on Epoch: 4 \t Loss: 0.0849 \t Accuracy: 97.38%=============\n",
            "============Train on Epoch: 5 \t Loss: 0.0590 \t Accuracy: 98.10%=============\n",
            "=============Test on Epoch: 5 \t Loss: 0.0993 \t Accuracy: 97.08%=============\n",
            "============Train on Epoch: 6 \t Loss: 0.0503 \t Accuracy: 98.40%=============\n",
            "=============Test on Epoch: 6 \t Loss: 0.0961 \t Accuracy: 97.09%=============\n",
            "============Train on Epoch: 7 \t Loss: 0.0461 \t Accuracy: 98.50%=============\n",
            "=============Test on Epoch: 7 \t Loss: 0.0719 \t Accuracy: 97.80%=============\n",
            "============Train on Epoch: 8 \t Loss: 0.0419 \t Accuracy: 98.60%=============\n",
            "=============Test on Epoch: 8 \t Loss: 0.0781 \t Accuracy: 97.95%=============\n",
            "============Train on Epoch: 9 \t Loss: 0.0367 \t Accuracy: 98.77%=============\n",
            "=============Test on Epoch: 9 \t Loss: 0.0816 \t Accuracy: 97.62%=============\n",
            "============Train on Epoch: 10 \t Loss: 0.0338 \t Accuracy: 98.81%============\n",
            "============Test on Epoch: 10 \t Loss: 0.0799 \t Accuracy: 97.80%=============\n"
          ],
          "name": "stdout"
        }
      ]
    }
  ]
}