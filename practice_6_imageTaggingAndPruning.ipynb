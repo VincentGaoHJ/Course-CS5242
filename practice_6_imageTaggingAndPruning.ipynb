{
  "nbformat": 4,
  "nbformat_minor": 0,
  "metadata": {
    "colab": {
      "name": "practice_6_imageTaggingAndPruning",
      "provenance": [],
      "collapsed_sections": [],
      "toc_visible": true,
      "include_colab_link": true
    },
    "kernelspec": {
      "name": "python3",
      "display_name": "Python 3"
    },
    "accelerator": "GPU"
  },
  "cells": [
    {
      "cell_type": "markdown",
      "metadata": {
        "id": "view-in-github",
        "colab_type": "text"
      },
      "source": [
        "<a href=\"https://colab.research.google.com/github/VincentGaoHJ/Course-CS5242/blob/master/practice_6_imageTaggingAndPruning.ipynb\" target=\"_parent\"><img src=\"https://colab.research.google.com/assets/colab-badge.svg\" alt=\"Open In Colab\"/></a>"
      ]
    },
    {
      "cell_type": "markdown",
      "metadata": {
        "id": "Q97zGRVKQUu-"
      },
      "source": [
        "## Practice 6: Image Tagging and NN Pruning"
      ]
    },
    {
      "cell_type": "markdown",
      "metadata": {
        "id": "-RBt4SLmQe3v"
      },
      "source": [
        "In this practical tutorial, we are going to solve a multi-label classification task, i.e., celebrity attribute tagging, as well as get to know NN pruning techniques."
      ]
    },
    {
      "cell_type": "code",
      "metadata": {
        "id": "QNzoSg7DONCf"
      },
      "source": [
        "import os\n",
        "import zipfile\n",
        "import pandas as pd\n",
        "import numpy as np\n",
        "import matplotlib.pyplot as plt\n",
        "%matplotlib inline\n",
        "import warnings\n",
        "\n",
        "import torchvision\n",
        "from torchvision import datasets\n",
        "from torchvision import transforms\n",
        "from torchvision import models\n",
        "import torch\n",
        "import torch.nn as nn\n",
        "import torch.nn.functional as F\n",
        "from torch.optim import lr_scheduler\n",
        "from torch import optim\n",
        "from torchvision.utils import make_grid\n",
        "import time\n",
        "from tqdm import tqdm\n",
        "from pprint import pprint"
      ],
      "execution_count": null,
      "outputs": []
    },
    {
      "cell_type": "markdown",
      "metadata": {
        "id": "FnBEXdrdVnBM"
      },
      "source": [
        "First mount your Google Drive on Colab."
      ]
    },
    {
      "cell_type": "code",
      "metadata": {
        "id": "KuxOtFxlNhJx",
        "colab": {
          "base_uri": "https://localhost:8080/"
        },
        "outputId": "7aa2616b-f984-4cec-b4fb-1982547f9b49"
      },
      "source": [
        "from google.colab import drive\n",
        "drive.mount('/content/drive', force_remount=True)"
      ],
      "execution_count": null,
      "outputs": [
        {
          "output_type": "stream",
          "text": [
            "Mounted at /content/drive\n"
          ],
          "name": "stdout"
        }
      ]
    },
    {
      "cell_type": "markdown",
      "metadata": {
        "id": "HfLdDRy3Ns18"
      },
      "source": [
        "### Data Pre-processing"
      ]
    },
    {
      "cell_type": "markdown",
      "metadata": {
        "id": "tqkkrurPQchw"
      },
      "source": [
        "> **CelebFaces Attributes Dataset (CelebA)** is a large-scale face attributes dataset with more than **200K** celebrity images, each with **40** attribute annotations. The images in this dataset cover large pose variations and background clutter. CelebA has large diversities, large quantities, and rich annotations, including\n",
        ">\n",
        "> **10,177** number of **identities**,\n",
        ">\n",
        "> **202,599** number of **face images**, and\n",
        ">\n",
        "> **5 landmark locations**, **40 binary attributes annotations** per image.\n",
        "\n",
        "The [CelebA dataset](http://mmlab.ie.cuhk.edu.hk/projects/CelebA.html) (\\~1.3 G) is available on their webpage or [here](https://www.comp.nus.edu.sg/~rchen/cs5242/). You **NEED** to first download it from the source and then upload to the following paths on your own Google Drive in this tutorial. It will take a few minutes to do these."
      ]
    },
    {
      "cell_type": "code",
      "metadata": {
        "colab": {
          "base_uri": "https://localhost:8080/"
        },
        "id": "2rgwFbjMCPFn",
        "outputId": "1aae2e02-3921-4e59-9e46-03455075d11a"
      },
      "source": [
        "# Some constants\n",
        "drive_root = '/content/drive/My Drive/tmp'\n",
        "!echo $drive_root\n",
        "base_folder = 'celeba'"
      ],
      "execution_count": null,
      "outputs": [
        {
          "output_type": "stream",
          "text": [
            "/content/drive/My Drive/tmp\n"
          ],
          "name": "stdout"
        }
      ]
    },
    {
      "cell_type": "code",
      "metadata": {
        "id": "XyidLQ7xRmZF"
      },
      "source": [
        "# Check whether celeba.zip is at the location on the drive\n",
        "if not os.path.isfile(os.path.join(drive_root, 'celeba.zip')):\n",
        "    warnings.warn('Please download manually!')\n",
        "    #!wget https://www.comp.nus.edu.sg/~rchen/cs5242/celeba.zip -P '$root'"
      ],
      "execution_count": null,
      "outputs": []
    },
    {
      "cell_type": "code",
      "metadata": {
        "id": "ITueOQrS8fqP"
      },
      "source": [
        "# Check whether celeba.zip is unzipped\n",
        "if not os.path.isdir(os.path.join(drive_root, base_folder)):\n",
        "    with zipfile.ZipFile(os.path.join(drive_root, 'celeba.zip'), 'r') as f:\n",
        "        f.extractall(drive_root)"
      ],
      "execution_count": null,
      "outputs": []
    },
    {
      "cell_type": "markdown",
      "metadata": {
        "id": "DFv-FjuG-UW1"
      },
      "source": [
        "The final tree structure of files should be (have a check):\n",
        "\n",
        "| drive\n",
        "\n",
        "----| MyDrive\n",
        "\n",
        "--------| celeba\n",
        "\n",
        "------------| identity_CelebA.txt\n",
        "\n",
        "------------| (img_align_celeba)\n",
        "\n",
        "----------------| (xxxxxx.jpg)\n",
        "\n",
        "------------| img_align_celeba.zip\n",
        "\n",
        "------------| list_attr_celeba.txt\n",
        "\n",
        "------------| list_bbox_celeba.txt\n",
        "\n",
        "------------| list_eval_partition.txt\n",
        "\n",
        "------------| list_landmarks_align_celeba.txt\n",
        "\n",
        "--------| celeba.zip\n"
      ]
    },
    {
      "cell_type": "code",
      "metadata": {
        "id": "LVLfsW-qq2tc"
      },
      "source": [
        "file_list = [\n",
        "    'list_attr_celeba.txt',\n",
        "    'identity_CelebA.txt',\n",
        "    'list_bbox_celeba.txt',\n",
        "    'list_landmarks_align_celeba.txt',\n",
        "    'list_eval_partition.txt',\n",
        "]\n",
        "root = '.'"
      ],
      "execution_count": null,
      "outputs": []
    },
    {
      "cell_type": "markdown",
      "metadata": {
        "id": "SNAXKMsyQ3rE"
      },
      "source": [
        "Create a dir on the server and unzip the images under it. Check the number of images.\n",
        "\n",
        "**NOTE**: Though the operation is faster, it requires to reload the data every time after reconnecting."
      ]
    },
    {
      "cell_type": "code",
      "metadata": {
        "id": "Dt7k4kjL2eoh"
      },
      "source": [
        "if not os.path.isdir(os.path.join(root, base_folder)):\n",
        "    os.mkdir(os.path.join(root, base_folder))"
      ],
      "execution_count": null,
      "outputs": []
    },
    {
      "cell_type": "code",
      "metadata": {
        "id": "Eam-zNVnsH3P"
      },
      "source": [
        "import shutil\n",
        "\n",
        "for filename in file_list:\n",
        "    # Copy the files whose intergrity is required to be checked\n",
        "    shutil.copy2(os.path.join(drive_root, base_folder, filename), os.path.join(root, base_folder))"
      ],
      "execution_count": null,
      "outputs": []
    },
    {
      "cell_type": "code",
      "metadata": {
        "id": "_zyVBwmdcYGK"
      },
      "source": [
        "with zipfile.ZipFile(os.path.join(drive_root, base_folder, 'img_align_celeba.zip'), 'r') as f:\n",
        "    f.extractall(os.path.join(root, base_folder))"
      ],
      "execution_count": null,
      "outputs": []
    },
    {
      "cell_type": "code",
      "metadata": {
        "colab": {
          "base_uri": "https://localhost:8080/"
        },
        "id": "hNsqZ2NRfdDr",
        "outputId": "a7b27ff4-a7fd-4c7e-ee18-89ae23f4bcab"
      },
      "source": [
        "img_path = os.path.join(root, base_folder, 'img_align_celeba')\n",
        "!ls '$img_path' | wc"
      ],
      "execution_count": null,
      "outputs": [
        {
          "output_type": "stream",
          "text": [
            " 202599  202599 2228589\n"
          ],
          "name": "stdout"
        }
      ]
    },
    {
      "cell_type": "markdown",
      "metadata": {
        "id": "a16Ee_dTj_zK"
      },
      "source": [
        "Visualize one sample to get a feel of the dataset.\n",
        "\n",
        "**HINT**: Use the PyTorch built-in dataset."
      ]
    },
    {
      "cell_type": "code",
      "metadata": {
        "colab": {
          "base_uri": "https://localhost:8080/"
        },
        "id": "YPD6UpAeM34s",
        "outputId": "1bda85e5-da12-4a58-989a-f62439183e11"
      },
      "source": [
        "celeba_wo_transforms = \n"
      ],
      "execution_count": null,
      "outputs": [
        {
          "output_type": "stream",
          "text": [
            "Dataset CelebA\n",
            "    Number of datapoints: 162770\n",
            "    Root location: .\n",
            "    Target type: ['attr']\n",
            "    Split: train\n"
          ],
          "name": "stdout"
        }
      ]
    },
    {
      "cell_type": "code",
      "metadata": {
        "colab": {
          "base_uri": "https://localhost:8080/",
          "height": 340
        },
        "id": "e6ZpbLQepuBt",
        "outputId": "b3662248-c301-4801-929a-b0ea0658f018"
      },
      "source": [
        "# Just visualize the first sample and labels leveraging dataset.attr_names\n",
        "image, label = \n",
        "\n",
        "\n",
        "\n",
        "\n"
      ],
      "execution_count": null,
      "outputs": [
        {
          "output_type": "stream",
          "text": [
            "#attrs 40\n",
            "attr names ['5_o_Clock_Shadow', 'Arched_Eyebrows', 'Attractive', 'Bags_Under_Eyes', 'Bald', 'Bangs', 'Big_Lips', 'Big_Nose', 'Black_Hair', 'Blond_Hair', 'Blurry', 'Brown_Hair', 'Bushy_Eyebrows', 'Chubby', 'Double_Chin', 'Eyeglasses', 'Goatee', 'Gray_Hair', 'Heavy_Makeup', 'High_Cheekbones', 'Male', 'Mouth_Slightly_Open', 'Mustache', 'Narrow_Eyes', 'No_Beard', 'Oval_Face', 'Pale_Skin', 'Pointy_Nose', 'Receding_Hairline', 'Rosy_Cheeks', 'Sideburns', 'Smiling', 'Straight_Hair', 'Wavy_Hair', 'Wearing_Earrings', 'Wearing_Hat', 'Wearing_Lipstick', 'Wearing_Necklace', 'Wearing_Necktie', 'Young']\n",
            "labels [0, 1, 1, 0, 0, 0, 0, 0, 0, 0, 0, 1, 0, 0, 0, 0, 0, 0, 1, 1, 0, 1, 0, 0, 1, 0, 0, 1, 0, 0, 0, 1, 1, 0, 1, 0, 1, 0, 0, 1]\n"
          ],
          "name": "stdout"
        },
        {
          "output_type": "display_data",
          "data": {
            "image/png": "[encoded data removed]",
            "text/plain": [
              "<Figure size 432x288 with 1 Axes>"
            ]
          },
          "metadata": {
            "tags": [],
            "needs_background": "light"
          }
        }
      ]
    },
    {
      "cell_type": "markdown",
      "metadata": {
        "id": "oNOCqtWQVyd2"
      },
      "source": [
        "### Training"
      ]
    },
    {
      "cell_type": "markdown",
      "metadata": {
        "id": "yMoxDL8XA0V1"
      },
      "source": [
        "Create the datasets and dataloaders.\n",
        "\n",
        "(Using `batch_size=64, num_workers=2`)"
      ]
    },
    {
      "cell_type": "code",
      "metadata": {
        "id": "320blHDsFkob",
        "colab": {
          "base_uri": "https://localhost:8080/"
        },
        "outputId": "9c7706c6-9cd7-470b-f9da-4cce756737d8"
      },
      "source": [
        "\n",
        "\n",
        "\n",
        "\n",
        "\n",
        "\n",
        "\n",
        "\n",
        "\n",
        "\n"
      ],
      "execution_count": null,
      "outputs": [
        {
          "output_type": "stream",
          "text": [
            "Dataset CelebA\n",
            "    Number of datapoints: 162770\n",
            "    Root location: .\n",
            "    Target type: ['attr']\n",
            "    Split: train\n",
            "    StandardTransform\n",
            "Transform: Compose(\n",
            "               Resize(size=(96, 96), interpolation=PIL.Image.BILINEAR)\n",
            "               ToTensor()\n",
            "               Normalize(mean=(0.5,), std=(0.5,))\n",
            "           )\n"
          ],
          "name": "stdout"
        }
      ]
    },
    {
      "cell_type": "code",
      "metadata": {
        "id": "HyMUQH_SVQvV"
      },
      "source": [
        "\n"
      ],
      "execution_count": null,
      "outputs": []
    },
    {
      "cell_type": "markdown",
      "metadata": {
        "id": "TU70nvADI16e"
      },
      "source": [
        "Implement a model for the task of multi-label classification.\n",
        "\n",
        "The basic cell is of `Conv-BN-ReLU`. Normal and Reduced cell (max pooling) alternate."
      ]
    },
    {
      "cell_type": "code",
      "metadata": {
        "id": "oC_7CQyUU7h4"
      },
      "source": [
        "\n",
        "\n",
        "\n",
        "\n",
        "\n",
        "\n",
        "\n",
        "\n",
        "\n",
        "\n",
        "\n",
        "\n",
        "\n",
        "\n",
        "\n",
        "\n",
        "\n",
        "\n",
        "\n",
        "\n",
        "\n",
        "\n",
        "\n",
        "\n",
        "\n",
        "\n",
        "\n",
        "\n",
        "\n",
        "\n"
      ],
      "execution_count": null,
      "outputs": []
    },
    {
      "cell_type": "markdown",
      "metadata": {
        "id": "9lYqAScwIfwG"
      },
      "source": [
        "Create an instance of the model, optimizer and standard criterion."
      ]
    },
    {
      "cell_type": "code",
      "metadata": {
        "id": "ZCSiMgDEVO2I",
        "colab": {
          "base_uri": "https://localhost:8080/"
        },
        "outputId": "0015d7ec-ceaf-4386-864e-b42e21a6517c"
      },
      "source": [
        "\n",
        "\n",
        "\n",
        "\n",
        "\n",
        "\n",
        "\n"
      ],
      "execution_count": null,
      "outputs": [
        {
          "output_type": "stream",
          "text": [
            ">>> model MultiClassifier(\n",
            "  (ConvLayer1): Sequential(\n",
            "    (0): Conv2d(3, 64, kernel_size=(3, 3), stride=(1, 1), padding=(1, 1), bias=False)\n",
            "    (1): BatchNorm2d(64, eps=1e-05, momentum=0.1, affine=True, track_running_stats=True)\n",
            "    (2): ReLU(inplace=True)\n",
            "    (3): MaxPool2d(kernel_size=2, stride=2, padding=0, dilation=1, ceil_mode=False)\n",
            "  )\n",
            "  (ConvLayer2): Sequential(\n",
            "    (0): Conv2d(64, 128, kernel_size=(3, 3), stride=(1, 1), padding=(1, 1), bias=False)\n",
            "    (1): BatchNorm2d(128, eps=1e-05, momentum=0.1, affine=True, track_running_stats=True)\n",
            "    (2): ReLU(inplace=True)\n",
            "    (3): MaxPool2d(kernel_size=2, stride=2, padding=0, dilation=1, ceil_mode=False)\n",
            "  )\n",
            "  (ConvLayer3): Sequential(\n",
            "    (0): Conv2d(128, 256, kernel_size=(3, 3), stride=(1, 1), padding=(1, 1), bias=False)\n",
            "    (1): BatchNorm2d(256, eps=1e-05, momentum=0.1, affine=True, track_running_stats=True)\n",
            "    (2): ReLU(inplace=True)\n",
            "    (3): MaxPool2d(kernel_size=2, stride=2, padding=0, dilation=1, ceil_mode=False)\n",
            "  )\n",
            "  (ConvLayer4): Sequential(\n",
            "    (0): Conv2d(256, 512, kernel_size=(3, 3), stride=(1, 1), padding=(1, 1), bias=False)\n",
            "    (1): BatchNorm2d(512, eps=1e-05, momentum=0.1, affine=True, track_running_stats=True)\n",
            "    (2): ReLU(inplace=True)\n",
            "    (3): MaxPool2d(kernel_size=2, stride=2, padding=0, dilation=1, ceil_mode=False)\n",
            "  )\n",
            "  (Linear1): Linear(in_features=18432, out_features=512, bias=True)\n",
            "  (relu): ReLU(inplace=True)\n",
            "  (dropout): Dropout(p=0.5, inplace=False)\n",
            "  (Linear2): Linear(in_features=512, out_features=40, bias=True)\n",
            ")\n",
            ">>> optimizer SGD (\n",
            "Parameter Group 0\n",
            "    dampening: 0\n",
            "    lr: 0.05\n",
            "    momentum: 0.9\n",
            "    nesterov: False\n",
            "    weight_decay: 0\n",
            ")\n",
            ">>> criterion BCELoss()\n"
          ],
          "name": "stdout"
        }
      ]
    },
    {
      "cell_type": "markdown",
      "metadata": {
        "id": "5epbWk64Sd9Z"
      },
      "source": [
        "Define the metric (accuracy) calculation function."
      ]
    },
    {
      "cell_type": "code",
      "metadata": {
        "id": "B_zLsj8qdeuo"
      },
      "source": [
        "\n"
      ],
      "execution_count": null,
      "outputs": []
    },
    {
      "cell_type": "markdown",
      "metadata": {
        "id": "ifzE36VuS0IA"
      },
      "source": [
        "Implement run on one epoch."
      ]
    },
    {
      "cell_type": "code",
      "metadata": {
        "id": "zQq0u4ABpW1E"
      },
      "source": [
        "def fit_model(epochs, model, dataloader, phase='training'):\n",
        "    \"\"\"\n",
        "    Returns:\n",
        "        total_batch_loss (float)\n",
        "        total_batch_acc (float)\n",
        "    \"\"\"\n",
        "    \n",
        "\n",
        "\n",
        "\n",
        "\n",
        "\n",
        "\n",
        "\n",
        "\n",
        "\n",
        "\n",
        "\n",
        "\n",
        "\n",
        "\n",
        "\n",
        "\n",
        "\n",
        "\n",
        "\n",
        "\n",
        "\n",
        "\n",
        "\n"
      ],
      "execution_count": null,
      "outputs": []
    },
    {
      "cell_type": "markdown",
      "metadata": {
        "id": "9wvdnLpSSAvM"
      },
      "source": [
        "Train and save the model."
      ]
    },
    {
      "cell_type": "code",
      "metadata": {
        "id": "ut5r3gaXr3ny",
        "colab": {
          "base_uri": "https://localhost:8080/"
        },
        "outputId": "27f9c2ea-d5c7-4d34-b8f0-a3ffade30771"
      },
      "source": [
        "trn_losses = []; trn_acc = []\n",
        "val_losses = []; val_acc = []\n",
        "for i in range(10):\n",
        "    trn_l, trn_a = fit_model(i, model, train_dataloader)\n",
        "    val_l, val_a = fit_model(i, model, valid_dataloader, phase='validation')\n",
        "    trn_losses.append(trn_l); trn_acc.append(trn_a)\n",
        "    val_losses.append(val_l); val_acc.append(val_a)\n",
        "    torch.save(model, 'model.pth')  # save the model trained"
      ],
      "execution_count": null,
      "outputs": [
        {
          "output_type": "stream",
          "text": [
            "'Epoch: 0'\n",
            "'Iteration 499: loss 0.2945, acc 0.8699'\n",
            "'Iteration 999: loss 0.2946, acc 0.8691'\n",
            "'Iteration 1499: loss 0.2983, acc 0.8719'\n",
            "'Iteration 1999: loss 0.2641, acc 0.8797'\n",
            "'Iteration 2499: loss 0.2645, acc 0.8883'\n",
            "'training loss is 0.2938963747788338 '\n",
            "'training accuracy is 0.8720536944954276 '\n",
            "'Epoch: 0'\n",
            "'validation loss is 0.27018441901904594 '\n",
            "'validation accuracy is 0.8829354507746804 '\n",
            "'Epoch: 1'\n",
            "'Iteration 499: loss 0.2727, acc 0.8793'\n",
            "'Iteration 999: loss 0.2738, acc 0.8809'\n",
            "'Iteration 1499: loss 0.2562, acc 0.8887'\n",
            "'Iteration 1999: loss 0.2725, acc 0.8883'\n",
            "'Iteration 2499: loss 0.2627, acc 0.8918'\n",
            "'training loss is 0.26404856367962165 '\n",
            "'training accuracy is 0.8845482362469412 '\n",
            "'Epoch: 1'\n",
            "'validation loss is 0.2593776438013917 '\n",
            "'validation accuracy is 0.8864999674140832 '\n",
            "'Epoch: 2'\n",
            "'Iteration 499: loss 0.2486, acc 0.8945'\n",
            "'Iteration 999: loss 0.2613, acc 0.8805'\n",
            "'Iteration 1499: loss 0.2571, acc 0.8883'\n",
            "'Iteration 1999: loss 0.2613, acc 0.8840'\n",
            "'Iteration 2499: loss 0.2490, acc 0.8883'\n",
            "'training loss is 0.2542385304662979 '\n",
            "'training accuracy is 0.8885914668112805 '\n",
            "'Epoch: 2'\n",
            "'validation loss is 0.25093186141210355 '\n",
            "'validation accuracy is 0.8914205315028739 '\n",
            "'Epoch: 3'\n",
            "'Iteration 499: loss 0.2593, acc 0.8789'\n",
            "'Iteration 999: loss 0.2392, acc 0.8953'\n",
            "'Iteration 1499: loss 0.2505, acc 0.8895'\n",
            "'Iteration 1999: loss 0.2625, acc 0.8883'\n",
            "'Iteration 2499: loss 0.2647, acc 0.8871'\n",
            "'training loss is 0.2475941556289136 '\n",
            "'training accuracy is 0.8913416575242139 '\n",
            "'Epoch: 3'\n",
            "'validation loss is 0.2458386021603342 '\n",
            "'validation accuracy is 0.8936981779202771 '\n",
            "'Epoch: 4'\n",
            "'Iteration 499: loss 0.2364, acc 0.8984'\n",
            "'Iteration 999: loss 0.2370, acc 0.8957'\n",
            "'Iteration 1499: loss 0.2470, acc 0.8887'\n",
            "'Iteration 1999: loss 0.2425, acc 0.8914'\n",
            "'Iteration 2499: loss 0.2467, acc 0.8941'\n",
            "'training loss is 0.24260671829230757 '\n",
            "'training accuracy is 0.8935221353510641 '\n",
            "'Epoch: 4'\n",
            "'validation loss is 0.24220480202095301 '\n",
            "'validation accuracy is 0.8949703961323312 '\n",
            "'Epoch: 5'\n",
            "'Iteration 499: loss 0.2444, acc 0.8898'\n",
            "'Iteration 999: loss 0.2327, acc 0.8973'\n",
            "'Iteration 1499: loss 0.2304, acc 0.8988'\n",
            "'Iteration 1999: loss 0.2287, acc 0.8988'\n",
            "'Iteration 2499: loss 0.2471, acc 0.8914'\n",
            "'training loss is 0.2378251482058996 '\n",
            "'training accuracy is 0.8954912462511903 '\n",
            "'Epoch: 5'\n",
            "'validation loss is 0.23941308168927955 '\n",
            "'validation accuracy is 0.8966955262748375 '\n",
            "'Epoch: 6'\n",
            "'Iteration 499: loss 0.2292, acc 0.8965'\n",
            "'Iteration 999: loss 0.2310, acc 0.8977'\n",
            "'Iteration 1499: loss 0.2592, acc 0.9047'\n",
            "'Iteration 1999: loss 0.2209, acc 0.9059'\n",
            "'Iteration 2499: loss 0.2402, acc 0.8902'\n",
            "'training loss is 0.2334364077029457 '\n",
            "'training accuracy is 0.8973976077055031 '\n",
            "'Epoch: 6'\n",
            "'validation loss is 0.23772622587404835 '\n",
            "'validation accuracy is 0.8970878279477453 '\n",
            "'Epoch: 7'\n",
            "'Iteration 499: loss 0.2381, acc 0.8902'\n",
            "'Iteration 999: loss 0.2160, acc 0.9035'\n",
            "'Iteration 1499: loss 0.2186, acc 0.9082'\n",
            "'Iteration 1999: loss 0.2351, acc 0.8945'\n",
            "'Iteration 2499: loss 0.2437, acc 0.8930'\n",
            "'training loss is 0.22968760127517976 '\n",
            "'training accuracy is 0.8990620638261426 '\n",
            "'Epoch: 7'\n",
            "'validation loss is 0.23671301873550538 '\n",
            "'validation accuracy is 0.8982736577558365 '\n",
            "'Epoch: 8'\n",
            "'Iteration 499: loss 0.2254, acc 0.8984'\n",
            "'Iteration 999: loss 0.2322, acc 0.9000'\n",
            "'Iteration 1499: loss 0.2258, acc 0.9020'\n",
            "'Iteration 1999: loss 0.2105, acc 0.9082'\n",
            "'Iteration 2499: loss 0.2191, acc 0.9012'\n",
            "'training loss is 0.22566961717891432 '\n",
            "'training accuracy is 0.9007954107796621 '\n",
            "'Epoch: 8'\n",
            "'validation loss is 0.23571875049370278 '\n",
            "'validation accuracy is 0.8979292262788754 '\n",
            "'Epoch: 9'\n",
            "'Iteration 499: loss 0.2367, acc 0.8945'\n",
            "'Iteration 999: loss 0.2262, acc 0.8957'\n",
            "'Iteration 1499: loss 0.2168, acc 0.9121'\n",
            "'Iteration 1999: loss 0.2224, acc 0.9023'\n",
            "'Iteration 2499: loss 0.2207, acc 0.8992'\n",
            "'training loss is 0.22172798723005835 '\n",
            "'training accuracy is 0.9024374481267149 '\n",
            "'Epoch: 9'\n",
            "'validation loss is 0.22939087278014977 '\n",
            "'validation accuracy is 0.9009426259151225 '\n"
          ],
          "name": "stdout"
        }
      ]
    },
    {
      "cell_type": "markdown",
      "metadata": {
        "id": "M2LOYgVziJxY"
      },
      "source": [
        "Save the model to the drive."
      ]
    },
    {
      "cell_type": "code",
      "metadata": {
        "id": "YZa4t4snhoLi"
      },
      "source": [
        "!cp model.pth '$drive_root'"
      ],
      "execution_count": null,
      "outputs": []
    },
    {
      "cell_type": "markdown",
      "metadata": {
        "id": "_8Zhi3z8JFuG"
      },
      "source": [
        "Plot the training."
      ]
    },
    {
      "cell_type": "code",
      "metadata": {
        "colab": {
          "base_uri": "https://localhost:8080/",
          "height": 279
        },
        "id": "64b5Gu4WHtc2",
        "outputId": "dcfb8e02-ef2f-4ca5-8cf5-eee56c84cdac"
      },
      "source": [
        "\n",
        "\n",
        "\n",
        "\n",
        "\n",
        "\n",
        "\n"
      ],
      "execution_count": null,
      "outputs": [
        {
          "output_type": "display_data",
          "data": {
            "image/png": "[encoded data removed]",
            "text/plain": [
              "<Figure size 432x288 with 1 Axes>"
            ]
          },
          "metadata": {
            "tags": [],
            "needs_background": "light"
          }
        }
      ]
    },
    {
      "cell_type": "markdown",
      "metadata": {
        "id": "a6r8EIBghFPd"
      },
      "source": [
        "### Inference"
      ]
    },
    {
      "cell_type": "markdown",
      "metadata": {
        "id": "h-GaY93XoihP"
      },
      "source": [
        "Load the saved trained model."
      ]
    },
    {
      "cell_type": "code",
      "metadata": {
        "id": "MsRt6WythK2v"
      },
      "source": [
        "\n",
        "\n"
      ],
      "execution_count": null,
      "outputs": []
    },
    {
      "cell_type": "markdown",
      "metadata": {
        "id": "0Fi7y8Pio-V6"
      },
      "source": [
        "Implement inference of one sample."
      ]
    },
    {
      "cell_type": "code",
      "metadata": {
        "id": "X4LvlBLIi1ud"
      },
      "source": [
        "def predict(img, model):\n",
        "    \"\"\"\n",
        "    Returns:\n",
        "       pred_scores (List[Tuple[str, float]]): Predictions of multi labels and\n",
        "           the corresponding scores in descending order of accuracy.\n",
        "    \"\"\"\n",
        "\n",
        "    \n",
        "    \n",
        "\n",
        "\n",
        "\n",
        "\n",
        "\n",
        "\n",
        "    "
      ],
      "execution_count": null,
      "outputs": []
    },
    {
      "cell_type": "markdown",
      "metadata": {
        "id": "u5KSscWUqLyT"
      },
      "source": [
        "See the effects."
      ]
    },
    {
      "cell_type": "code",
      "metadata": {
        "colab": {
          "base_uri": "https://localhost:8080/",
          "height": 356
        },
        "id": "Bz7IOtiArBXu",
        "outputId": "11924227-ada1-440a-b83a-975abb6731d8"
      },
      "source": [
        "\n",
        "\n",
        "\n",
        "\n",
        "\n",
        "\n",
        "\n",
        "\n",
        "\n",
        "\n",
        "\n",
        "\n",
        "\n",
        "\n",
        "\n"
      ],
      "execution_count": null,
      "outputs": [
        {
          "output_type": "stream",
          "text": [
            "11 correct predictions [('No_Beard', '1.0000'), ('Mouth_Slightly_Open', '0.9999'), ('Smiling', '0.9991'), ('Young', '0.9985'), ('Wearing_Lipstick', '0.9982'), ('Attractive', '0.9794'), ('Heavy_Makeup', '0.9782'), ('High_Cheekbones', '0.9191'), ('Arched_Eyebrows', '0.7234'), ('Brown_Hair', '0.7110'), ('Pointy_Nose', '0.6384')]\n",
            "1 wrong predictions [('Wavy_Hair', '0.7152')]\n",
            "2 missing attributes [('Wearing_Earrings', '0.2408'), ('Straight_Hair', '0.0756')]\n",
            "13 label ['Arched_Eyebrows', 'Attractive', 'Brown_Hair', 'Heavy_Makeup', 'High_Cheekbones', 'Mouth_Slightly_Open', 'No_Beard', 'Pointy_Nose', 'Smiling', 'Straight_Hair', 'Wearing_Earrings', 'Wearing_Lipstick', 'Young']\n"
          ],
          "name": "stdout"
        },
        {
          "output_type": "display_data",
          "data": {
            "image/png": "[encoded data removed]",
            "text/plain": [
              "<Figure size 432x288 with 1 Axes>"
            ]
          },
          "metadata": {
            "tags": [],
            "needs_background": "light"
          }
        }
      ]
    },
    {
      "cell_type": "markdown",
      "metadata": {
        "id": "sOoYrOU6f-2j"
      },
      "source": [
        "### Pruning"
      ]
    },
    {
      "cell_type": "markdown",
      "metadata": {
        "id": "kk9o9xhVLXEG"
      },
      "source": [
        "> State-of-the-art deep learning techniques rely on over-parametrized models \n",
        "that are hard to deploy. On the contrary, biological neural networks are \n",
        "known to use efficient sparse connectivity. Identifying optimal techniques to compress models by reducing the number of parameters in them is \n",
        "important in order to reduce memory, battery, and hardware consumption without \n",
        "sacrificing accuracy, deploy lightweight models on device, and guarantee \n",
        "privacy with private on-device computation. On the research front, pruning is \n",
        "used to investigate the differences in learning dynamics between \n",
        "over-parametrized and under-parametrized networks, to study the role of lucky \n",
        "sparse subnetworks and initializations\n",
        "(\"[lottery tickets](https://arxiv.org/pdf/1803.03635.pdf)\") as a destructive \n",
        "neural architecture search technique, and more.\n",
        "\n",
        "In this tutorial, you will learn how to use ``torch.nn.utils.prune`` to \n",
        "sparsify your neural networks, and how to extend it to implement your \n",
        "own custom pruning technique.\n",
        "\n",
        "\n",
        "\n"
      ]
    },
    {
      "cell_type": "code",
      "metadata": {
        "id": "wxCCcKKKLXEH"
      },
      "source": [
        "import torch.nn.utils.prune as prune"
      ],
      "execution_count": null,
      "outputs": []
    },
    {
      "cell_type": "markdown",
      "metadata": {
        "id": "Xktzs4f9LXEI"
      },
      "source": [
        "Let's inspect the (unpruned) ``conv1`` layer in our model.\n",
        "\n"
      ]
    },
    {
      "cell_type": "code",
      "metadata": {
        "id": "gZRAFNfSLXEI",
        "colab": {
          "base_uri": "https://localhost:8080/"
        },
        "outputId": "bd0c83bb-e205-4bac-cab5-f040e4c16dba"
      },
      "source": [
        "model = model.cuda()\n",
        "module = model.ConvLayer1[0]\n",
        "print(list(module.named_parameters()))"
      ],
      "execution_count": null,
      "outputs": [
        {
          "output_type": "stream",
          "text": [
            "[('weight', Parameter containing:\n",
            "tensor([[[[-0.4993,  0.2184,  0.0611],\n",
            "          [-0.2602,  0.6346, -0.3661],\n",
            "          [ 0.1196,  0.0173,  0.0231]],\n",
            "\n",
            "         [[-0.4177,  0.5760, -0.1180],\n",
            "          [ 0.0091,  0.7275, -0.4873],\n",
            "          [ 0.1324, -0.1090, -0.3060]],\n",
            "\n",
            "         [[-0.3173,  0.4458, -0.0379],\n",
            "          [-0.0141,  0.6268, -0.4951],\n",
            "          [-0.0979, -0.0011, -0.1139]]],\n",
            "\n",
            "\n",
            "        [[[-0.0133,  0.0209,  0.0221],\n",
            "          [ 0.1703, -0.1929,  0.1645],\n",
            "          [ 0.1389, -0.0603,  0.0070]],\n",
            "\n",
            "         [[ 0.1885, -0.0496, -0.0446],\n",
            "          [ 0.1504, -0.1289,  0.1221],\n",
            "          [-0.0754,  0.1942,  0.1311]],\n",
            "\n",
            "         [[-0.0078, -0.2607, -0.1043],\n",
            "          [-0.0517, -0.0681, -0.0605],\n",
            "          [ 0.0821, -0.0496,  0.0873]]],\n",
            "\n",
            "\n",
            "        [[[-0.0897, -0.2872,  0.1466],\n",
            "          [ 0.2746,  0.2181,  0.1618],\n",
            "          [-0.0175, -0.2983, -0.1029]],\n",
            "\n",
            "         [[-0.1196, -0.3299,  0.0193],\n",
            "          [ 0.4625,  0.1549,  0.2471],\n",
            "          [-0.1581, -0.2410,  0.0119]],\n",
            "\n",
            "         [[ 0.0465, -0.3276,  0.1233],\n",
            "          [ 0.3479,  0.3511, -0.0438],\n",
            "          [-0.1947, -0.3949,  0.0725]]],\n",
            "\n",
            "\n",
            "        ...,\n",
            "\n",
            "\n",
            "        [[[ 0.1026, -0.3344, -0.3852],\n",
            "          [ 0.2855,  0.0710, -0.2320],\n",
            "          [ 0.2959,  0.3731, -0.0263]],\n",
            "\n",
            "         [[ 0.0529, -0.3024, -0.2037],\n",
            "          [ 0.0715,  0.1750, -0.0973],\n",
            "          [ 0.0586,  0.0431,  0.1015]],\n",
            "\n",
            "         [[ 0.1337, -0.0760, -0.1923],\n",
            "          [ 0.1840,  0.0935,  0.0634],\n",
            "          [ 0.0159, -0.0016, -0.1963]]],\n",
            "\n",
            "\n",
            "        [[[ 0.1313,  0.1722, -0.2592],\n",
            "          [ 0.1279,  0.1336, -0.2295],\n",
            "          [ 0.0389, -0.0563,  0.0110]],\n",
            "\n",
            "         [[-0.0087,  0.2068, -0.2875],\n",
            "          [ 0.2736, -0.0226, -0.0283],\n",
            "          [ 0.0214, -0.1456, -0.0495]],\n",
            "\n",
            "         [[ 0.1114,  0.1197, -0.0097],\n",
            "          [ 0.1967, -0.1640, -0.3674],\n",
            "          [ 0.1732,  0.1172, -0.2563]]],\n",
            "\n",
            "\n",
            "        [[[-0.0753,  0.1438,  0.1231],\n",
            "          [ 0.0510,  0.0638, -0.0391],\n",
            "          [ 0.0558,  0.0872, -0.1644]],\n",
            "\n",
            "         [[ 0.1829,  0.0947, -0.1508],\n",
            "          [ 0.1869,  0.0239,  0.0828],\n",
            "          [-0.1527,  0.0642,  0.1994]],\n",
            "\n",
            "         [[-0.0485,  0.0592,  0.0311],\n",
            "          [-0.0097,  0.1717,  0.1688],\n",
            "          [ 0.0987,  0.1414,  0.0501]]]], device='cuda:0', requires_grad=True))]\n"
          ],
          "name": "stdout"
        }
      ]
    },
    {
      "cell_type": "code",
      "metadata": {
        "id": "PTDd9SlpLXEI",
        "colab": {
          "base_uri": "https://localhost:8080/"
        },
        "outputId": "de5f1802-0487-4525-ae64-d486582bc530"
      },
      "source": [
        "print(list(module.named_buffers()))"
      ],
      "execution_count": null,
      "outputs": [
        {
          "output_type": "stream",
          "text": [
            "[]\n"
          ],
          "name": "stdout"
        }
      ]
    },
    {
      "cell_type": "markdown",
      "metadata": {
        "id": "i-hovgapyorA"
      },
      "source": [
        "#### Random Pruning"
      ]
    },
    {
      "cell_type": "markdown",
      "metadata": {
        "id": "mLcsJZWYLXEK"
      },
      "source": [
        "To prune a module (in this example, the ``conv1`` layer of our\n",
        "architecture), first select a pruning technique among those available in \n",
        "``torch.nn.utils.prune``. Then, specify the module and the name of the parameter to \n",
        "prune within that module. Finally, using the adequate keyword arguments \n",
        "required by the selected pruning technique, specify the pruning parameters.\n",
        "\n",
        "In this example, we will prune at random 30% of the connections in \n",
        "the parameter named ``weight`` in the ``conv1`` layer.\n",
        "The module is passed as the first argument to the function; ``name`` \n",
        "identifies the parameter within that module using its string identifier; and \n",
        "``amount`` indicates either the percentage of connections to prune (if it \n",
        "is a float between 0. and 1.), or the absolute number of connections to \n",
        "prune (if it is a non-negative integer).\n",
        "\n"
      ]
    },
    {
      "cell_type": "code",
      "metadata": {
        "id": "RriyiCWWLXEK",
        "colab": {
          "base_uri": "https://localhost:8080/"
        },
        "outputId": "db7714b1-8838-4ac8-fe89-3eefc5e7e1f1"
      },
      "source": [
        "prune.random_unstructured(module, name=\"weight\", amount=0.3)"
      ],
      "execution_count": null,
      "outputs": [
        {
          "output_type": "execute_result",
          "data": {
            "text/plain": [
              "Conv2d(3, 64, kernel_size=(3, 3), stride=(1, 1), padding=(1, 1), bias=False)"
            ]
          },
          "metadata": {
            "tags": []
          },
          "execution_count": 115
        }
      ]
    },
    {
      "cell_type": "markdown",
      "metadata": {
        "id": "NIjsXaaELXEL"
      },
      "source": [
        "Pruning acts by removing ``weight`` from the parameters and replacing it with \n",
        "a new parameter called ``weight_orig`` (i.e. appending ``\"_orig\"`` to the \n",
        "initial parameter ``name``). ``weight_orig`` stores the unpruned version of \n",
        "the tensor. The ``bias`` was not pruned, so it will remain intact.\n",
        "\n"
      ]
    },
    {
      "cell_type": "code",
      "metadata": {
        "id": "gNV_nMJ8LXEL",
        "colab": {
          "base_uri": "https://localhost:8080/"
        },
        "outputId": "bc29b113-c10c-4190-8d49-7f05f7e7485b"
      },
      "source": [
        "print(list(module.named_parameters()))"
      ],
      "execution_count": null,
      "outputs": [
        {
          "output_type": "stream",
          "text": [
            "[('weight_orig', Parameter containing:\n",
            "tensor([[[[-0.4993,  0.2184,  0.0611],\n",
            "          [-0.2602,  0.6346, -0.3661],\n",
            "          [ 0.1196,  0.0173,  0.0231]],\n",
            "\n",
            "         [[-0.4177,  0.5760, -0.1180],\n",
            "          [ 0.0091,  0.7275, -0.4873],\n",
            "          [ 0.1324, -0.1090, -0.3060]],\n",
            "\n",
            "         [[-0.3173,  0.4458, -0.0379],\n",
            "          [-0.0141,  0.6268, -0.4951],\n",
            "          [-0.0979, -0.0011, -0.1139]]],\n",
            "\n",
            "\n",
            "        [[[-0.0133,  0.0209,  0.0221],\n",
            "          [ 0.1703, -0.1929,  0.1645],\n",
            "          [ 0.1389, -0.0603,  0.0070]],\n",
            "\n",
            "         [[ 0.1885, -0.0496, -0.0446],\n",
            "          [ 0.1504, -0.1289,  0.1221],\n",
            "          [-0.0754,  0.1942,  0.1311]],\n",
            "\n",
            "         [[-0.0078, -0.2607, -0.1043],\n",
            "          [-0.0517, -0.0681, -0.0605],\n",
            "          [ 0.0821, -0.0496,  0.0873]]],\n",
            "\n",
            "\n",
            "        [[[-0.0897, -0.2872,  0.1466],\n",
            "          [ 0.2746,  0.2181,  0.1618],\n",
            "          [-0.0175, -0.2983, -0.1029]],\n",
            "\n",
            "         [[-0.1196, -0.3299,  0.0193],\n",
            "          [ 0.4625,  0.1549,  0.2471],\n",
            "          [-0.1581, -0.2410,  0.0119]],\n",
            "\n",
            "         [[ 0.0465, -0.3276,  0.1233],\n",
            "          [ 0.3479,  0.3511, -0.0438],\n",
            "          [-0.1947, -0.3949,  0.0725]]],\n",
            "\n",
            "\n",
            "        ...,\n",
            "\n",
            "\n",
            "        [[[ 0.1026, -0.3344, -0.3852],\n",
            "          [ 0.2855,  0.0710, -0.2320],\n",
            "          [ 0.2959,  0.3731, -0.0263]],\n",
            "\n",
            "         [[ 0.0529, -0.3024, -0.2037],\n",
            "          [ 0.0715,  0.1750, -0.0973],\n",
            "          [ 0.0586,  0.0431,  0.1015]],\n",
            "\n",
            "         [[ 0.1337, -0.0760, -0.1923],\n",
            "          [ 0.1840,  0.0935,  0.0634],\n",
            "          [ 0.0159, -0.0016, -0.1963]]],\n",
            "\n",
            "\n",
            "        [[[ 0.1313,  0.1722, -0.2592],\n",
            "          [ 0.1279,  0.1336, -0.2295],\n",
            "          [ 0.0389, -0.0563,  0.0110]],\n",
            "\n",
            "         [[-0.0087,  0.2068, -0.2875],\n",
            "          [ 0.2736, -0.0226, -0.0283],\n",
            "          [ 0.0214, -0.1456, -0.0495]],\n",
            "\n",
            "         [[ 0.1114,  0.1197, -0.0097],\n",
            "          [ 0.1967, -0.1640, -0.3674],\n",
            "          [ 0.1732,  0.1172, -0.2563]]],\n",
            "\n",
            "\n",
            "        [[[-0.0753,  0.1438,  0.1231],\n",
            "          [ 0.0510,  0.0638, -0.0391],\n",
            "          [ 0.0558,  0.0872, -0.1644]],\n",
            "\n",
            "         [[ 0.1829,  0.0947, -0.1508],\n",
            "          [ 0.1869,  0.0239,  0.0828],\n",
            "          [-0.1527,  0.0642,  0.1994]],\n",
            "\n",
            "         [[-0.0485,  0.0592,  0.0311],\n",
            "          [-0.0097,  0.1717,  0.1688],\n",
            "          [ 0.0987,  0.1414,  0.0501]]]], device='cuda:0', requires_grad=True))]\n"
          ],
          "name": "stdout"
        }
      ]
    },
    {
      "cell_type": "markdown",
      "metadata": {
        "id": "nTvt-qqBLXEL"
      },
      "source": [
        "The pruning mask generated by the pruning technique selected above is saved \n",
        "as a module buffer named ``weight_mask`` (i.e. appending ``\"_mask\"`` to the \n",
        "initial parameter ``name``).\n",
        "\n"
      ]
    },
    {
      "cell_type": "code",
      "metadata": {
        "id": "8Gnb0c1gLXEL",
        "colab": {
          "base_uri": "https://localhost:8080/"
        },
        "outputId": "83886632-a1b5-4c12-a9e3-46ab185f9500"
      },
      "source": [
        "print(list(module.named_buffers()))"
      ],
      "execution_count": null,
      "outputs": [
        {
          "output_type": "stream",
          "text": [
            "[('weight_mask', tensor([[[[1., 1., 0.],\n",
            "          [1., 1., 1.],\n",
            "          [1., 1., 1.]],\n",
            "\n",
            "         [[1., 1., 0.],\n",
            "          [0., 0., 1.],\n",
            "          [0., 1., 0.]],\n",
            "\n",
            "         [[1., 1., 1.],\n",
            "          [0., 0., 0.],\n",
            "          [0., 1., 1.]]],\n",
            "\n",
            "\n",
            "        [[[1., 1., 1.],\n",
            "          [1., 1., 1.],\n",
            "          [1., 1., 0.]],\n",
            "\n",
            "         [[1., 1., 1.],\n",
            "          [1., 0., 1.],\n",
            "          [0., 0., 1.]],\n",
            "\n",
            "         [[1., 1., 0.],\n",
            "          [1., 1., 0.],\n",
            "          [1., 0., 1.]]],\n",
            "\n",
            "\n",
            "        [[[0., 1., 0.],\n",
            "          [1., 1., 0.],\n",
            "          [1., 0., 1.]],\n",
            "\n",
            "         [[0., 1., 1.],\n",
            "          [1., 1., 1.],\n",
            "          [0., 1., 1.]],\n",
            "\n",
            "         [[1., 0., 1.],\n",
            "          [1., 1., 1.],\n",
            "          [1., 1., 1.]]],\n",
            "\n",
            "\n",
            "        ...,\n",
            "\n",
            "\n",
            "        [[[1., 1., 1.],\n",
            "          [1., 1., 1.],\n",
            "          [0., 1., 1.]],\n",
            "\n",
            "         [[0., 1., 1.],\n",
            "          [1., 0., 1.],\n",
            "          [1., 1., 1.]],\n",
            "\n",
            "         [[1., 0., 1.],\n",
            "          [1., 1., 0.],\n",
            "          [1., 1., 1.]]],\n",
            "\n",
            "\n",
            "        [[[1., 1., 1.],\n",
            "          [1., 1., 1.],\n",
            "          [1., 1., 0.]],\n",
            "\n",
            "         [[1., 1., 1.],\n",
            "          [1., 1., 1.],\n",
            "          [0., 0., 1.]],\n",
            "\n",
            "         [[1., 0., 0.],\n",
            "          [1., 1., 1.],\n",
            "          [1., 1., 1.]]],\n",
            "\n",
            "\n",
            "        [[[1., 0., 1.],\n",
            "          [0., 1., 1.],\n",
            "          [0., 1., 1.]],\n",
            "\n",
            "         [[1., 0., 1.],\n",
            "          [1., 1., 1.],\n",
            "          [1., 1., 0.]],\n",
            "\n",
            "         [[1., 1., 1.],\n",
            "          [1., 0., 1.],\n",
            "          [0., 1., 1.]]]], device='cuda:0'))]\n"
          ],
          "name": "stdout"
        }
      ]
    },
    {
      "cell_type": "markdown",
      "metadata": {
        "id": "Q34YwID3LXEM"
      },
      "source": [
        "For the forward pass to work without modification, the ``weight`` attribute \n",
        "needs to exist. The pruning techniques implemented in \n",
        "``torch.nn.utils.prune`` compute the pruned version of the weight (by \n",
        "combining the mask with the original parameter) and store them in the \n",
        "attribute ``weight``. Note, this is no longer a parameter of the ``module``,\n",
        "it is now simply an **attribute**.\n",
        "\n"
      ]
    },
    {
      "cell_type": "code",
      "metadata": {
        "id": "tI0SQG2pLXEM",
        "colab": {
          "base_uri": "https://localhost:8080/"
        },
        "outputId": "bbe158f9-d939-43b8-8d9b-7fd9e3e2a332"
      },
      "source": [
        "print(module.weight)"
      ],
      "execution_count": null,
      "outputs": [
        {
          "output_type": "stream",
          "text": [
            "tensor([[[[-0.4993,  0.2184,  0.0000],\n",
            "          [-0.2602,  0.6346, -0.3661],\n",
            "          [ 0.1196,  0.0173,  0.0231]],\n",
            "\n",
            "         [[-0.4177,  0.5760, -0.0000],\n",
            "          [ 0.0000,  0.0000, -0.4873],\n",
            "          [ 0.0000, -0.1090, -0.0000]],\n",
            "\n",
            "         [[-0.3173,  0.4458, -0.0379],\n",
            "          [-0.0000,  0.0000, -0.0000],\n",
            "          [-0.0000, -0.0011, -0.1139]]],\n",
            "\n",
            "\n",
            "        [[[-0.0133,  0.0209,  0.0221],\n",
            "          [ 0.1703, -0.1929,  0.1645],\n",
            "          [ 0.1389, -0.0603,  0.0000]],\n",
            "\n",
            "         [[ 0.1885, -0.0496, -0.0446],\n",
            "          [ 0.1504, -0.0000,  0.1221],\n",
            "          [-0.0000,  0.0000,  0.1311]],\n",
            "\n",
            "         [[-0.0078, -0.2607, -0.0000],\n",
            "          [-0.0517, -0.0681, -0.0000],\n",
            "          [ 0.0821, -0.0000,  0.0873]]],\n",
            "\n",
            "\n",
            "        [[[-0.0000, -0.2872,  0.0000],\n",
            "          [ 0.2746,  0.2181,  0.0000],\n",
            "          [-0.0175, -0.0000, -0.1029]],\n",
            "\n",
            "         [[-0.0000, -0.3299,  0.0193],\n",
            "          [ 0.4625,  0.1549,  0.2471],\n",
            "          [-0.0000, -0.2410,  0.0119]],\n",
            "\n",
            "         [[ 0.0465, -0.0000,  0.1233],\n",
            "          [ 0.3479,  0.3511, -0.0438],\n",
            "          [-0.1947, -0.3949,  0.0725]]],\n",
            "\n",
            "\n",
            "        ...,\n",
            "\n",
            "\n",
            "        [[[ 0.1026, -0.3344, -0.3852],\n",
            "          [ 0.2855,  0.0710, -0.2320],\n",
            "          [ 0.0000,  0.3731, -0.0263]],\n",
            "\n",
            "         [[ 0.0000, -0.3024, -0.2037],\n",
            "          [ 0.0715,  0.0000, -0.0973],\n",
            "          [ 0.0586,  0.0431,  0.1015]],\n",
            "\n",
            "         [[ 0.1337, -0.0000, -0.1923],\n",
            "          [ 0.1840,  0.0935,  0.0000],\n",
            "          [ 0.0159, -0.0016, -0.1963]]],\n",
            "\n",
            "\n",
            "        [[[ 0.1313,  0.1722, -0.2592],\n",
            "          [ 0.1279,  0.1336, -0.2295],\n",
            "          [ 0.0389, -0.0563,  0.0000]],\n",
            "\n",
            "         [[-0.0087,  0.2068, -0.2875],\n",
            "          [ 0.2736, -0.0226, -0.0283],\n",
            "          [ 0.0000, -0.0000, -0.0495]],\n",
            "\n",
            "         [[ 0.1114,  0.0000, -0.0000],\n",
            "          [ 0.1967, -0.1640, -0.3674],\n",
            "          [ 0.1732,  0.1172, -0.2563]]],\n",
            "\n",
            "\n",
            "        [[[-0.0753,  0.0000,  0.1231],\n",
            "          [ 0.0000,  0.0638, -0.0391],\n",
            "          [ 0.0000,  0.0872, -0.1644]],\n",
            "\n",
            "         [[ 0.1829,  0.0000, -0.1508],\n",
            "          [ 0.1869,  0.0239,  0.0828],\n",
            "          [-0.1527,  0.0642,  0.0000]],\n",
            "\n",
            "         [[-0.0485,  0.0592,  0.0311],\n",
            "          [-0.0097,  0.0000,  0.1688],\n",
            "          [ 0.0000,  0.1414,  0.0501]]]], device='cuda:0',\n",
            "       grad_fn=<MulBackward0>)\n"
          ],
          "name": "stdout"
        }
      ]
    },
    {
      "cell_type": "markdown",
      "metadata": {
        "id": "ysWAue_wLXEM"
      },
      "source": [
        "Finally, pruning is applied prior to each forward pass using PyTorch's\n",
        "``forward_pre_hooks``. Specifically, when the ``module`` is pruned, as we \n",
        "have done here, it will acquire a ``forward_pre_hook`` for each parameter \n",
        "associated with it that gets pruned. In this case, since we have so far \n",
        "only pruned the original parameter named ``weight``, only one hook will be\n",
        "present.\n",
        "\n"
      ]
    },
    {
      "cell_type": "code",
      "metadata": {
        "id": "fry04da4LXEM",
        "colab": {
          "base_uri": "https://localhost:8080/"
        },
        "outputId": "7379a40d-bdd7-4aeb-c53d-d5ecbab50197"
      },
      "source": [
        "print(module._forward_pre_hooks)"
      ],
      "execution_count": null,
      "outputs": [
        {
          "output_type": "stream",
          "text": [
            "OrderedDict([(18, <torch.nn.utils.prune.RandomUnstructured object at 0x7f5d477cfac8>)])\n"
          ],
          "name": "stdout"
        }
      ]
    },
    {
      "cell_type": "markdown",
      "metadata": {
        "id": "VHC0yajjywwD"
      },
      "source": [
        "#### L1 Norm Pruning"
      ]
    },
    {
      "cell_type": "markdown",
      "metadata": {
        "id": "84X_1zN-LXEM"
      },
      "source": [
        "Just for the sake of trying out another pruning technique, here we prune the \n",
        "3 smallest entries in the weight by L1 norm, as implemented in the \n",
        "``l1_unstructured`` pruning function.\n",
        "\n"
      ]
    },
    {
      "cell_type": "code",
      "metadata": {
        "id": "ddlBLMhpLXEN",
        "colab": {
          "base_uri": "https://localhost:8080/"
        },
        "outputId": "06dc19cf-3ecb-4641-8984-28ac2e0f1f85"
      },
      "source": [
        "prune.l1_unstructured(module, name=\"weight\", amount=0.3)"
      ],
      "execution_count": null,
      "outputs": [
        {
          "output_type": "execute_result",
          "data": {
            "text/plain": [
              "Conv2d(3, 64, kernel_size=(3, 3), stride=(1, 1), padding=(1, 1), bias=False)"
            ]
          },
          "metadata": {
            "tags": []
          },
          "execution_count": 120
        }
      ]
    },
    {
      "cell_type": "code",
      "metadata": {
        "id": "92eMGUhuLXEN",
        "colab": {
          "base_uri": "https://localhost:8080/"
        },
        "outputId": "0332da21-4098-41ae-e8a6-b6d31b3496a1"
      },
      "source": [
        "print(list(module.named_parameters()))"
      ],
      "execution_count": null,
      "outputs": [
        {
          "output_type": "stream",
          "text": [
            "[('weight_orig', Parameter containing:\n",
            "tensor([[[[-0.4993,  0.2184,  0.0611],\n",
            "          [-0.2602,  0.6346, -0.3661],\n",
            "          [ 0.1196,  0.0173,  0.0231]],\n",
            "\n",
            "         [[-0.4177,  0.5760, -0.1180],\n",
            "          [ 0.0091,  0.7275, -0.4873],\n",
            "          [ 0.1324, -0.1090, -0.3060]],\n",
            "\n",
            "         [[-0.3173,  0.4458, -0.0379],\n",
            "          [-0.0141,  0.6268, -0.4951],\n",
            "          [-0.0979, -0.0011, -0.1139]]],\n",
            "\n",
            "\n",
            "        [[[-0.0133,  0.0209,  0.0221],\n",
            "          [ 0.1703, -0.1929,  0.1645],\n",
            "          [ 0.1389, -0.0603,  0.0070]],\n",
            "\n",
            "         [[ 0.1885, -0.0496, -0.0446],\n",
            "          [ 0.1504, -0.1289,  0.1221],\n",
            "          [-0.0754,  0.1942,  0.1311]],\n",
            "\n",
            "         [[-0.0078, -0.2607, -0.1043],\n",
            "          [-0.0517, -0.0681, -0.0605],\n",
            "          [ 0.0821, -0.0496,  0.0873]]],\n",
            "\n",
            "\n",
            "        [[[-0.0897, -0.2872,  0.1466],\n",
            "          [ 0.2746,  0.2181,  0.1618],\n",
            "          [-0.0175, -0.2983, -0.1029]],\n",
            "\n",
            "         [[-0.1196, -0.3299,  0.0193],\n",
            "          [ 0.4625,  0.1549,  0.2471],\n",
            "          [-0.1581, -0.2410,  0.0119]],\n",
            "\n",
            "         [[ 0.0465, -0.3276,  0.1233],\n",
            "          [ 0.3479,  0.3511, -0.0438],\n",
            "          [-0.1947, -0.3949,  0.0725]]],\n",
            "\n",
            "\n",
            "        ...,\n",
            "\n",
            "\n",
            "        [[[ 0.1026, -0.3344, -0.3852],\n",
            "          [ 0.2855,  0.0710, -0.2320],\n",
            "          [ 0.2959,  0.3731, -0.0263]],\n",
            "\n",
            "         [[ 0.0529, -0.3024, -0.2037],\n",
            "          [ 0.0715,  0.1750, -0.0973],\n",
            "          [ 0.0586,  0.0431,  0.1015]],\n",
            "\n",
            "         [[ 0.1337, -0.0760, -0.1923],\n",
            "          [ 0.1840,  0.0935,  0.0634],\n",
            "          [ 0.0159, -0.0016, -0.1963]]],\n",
            "\n",
            "\n",
            "        [[[ 0.1313,  0.1722, -0.2592],\n",
            "          [ 0.1279,  0.1336, -0.2295],\n",
            "          [ 0.0389, -0.0563,  0.0110]],\n",
            "\n",
            "         [[-0.0087,  0.2068, -0.2875],\n",
            "          [ 0.2736, -0.0226, -0.0283],\n",
            "          [ 0.0214, -0.1456, -0.0495]],\n",
            "\n",
            "         [[ 0.1114,  0.1197, -0.0097],\n",
            "          [ 0.1967, -0.1640, -0.3674],\n",
            "          [ 0.1732,  0.1172, -0.2563]]],\n",
            "\n",
            "\n",
            "        [[[-0.0753,  0.1438,  0.1231],\n",
            "          [ 0.0510,  0.0638, -0.0391],\n",
            "          [ 0.0558,  0.0872, -0.1644]],\n",
            "\n",
            "         [[ 0.1829,  0.0947, -0.1508],\n",
            "          [ 0.1869,  0.0239,  0.0828],\n",
            "          [-0.1527,  0.0642,  0.1994]],\n",
            "\n",
            "         [[-0.0485,  0.0592,  0.0311],\n",
            "          [-0.0097,  0.1717,  0.1688],\n",
            "          [ 0.0987,  0.1414,  0.0501]]]], device='cuda:0', requires_grad=True))]\n"
          ],
          "name": "stdout"
        }
      ]
    },
    {
      "cell_type": "code",
      "metadata": {
        "id": "PctJfkxGLXEO",
        "colab": {
          "base_uri": "https://localhost:8080/"
        },
        "outputId": "305990e2-a1c4-4455-dff1-ebc0413d0911"
      },
      "source": [
        "print(list(module.named_buffers()))"
      ],
      "execution_count": null,
      "outputs": [
        {
          "output_type": "stream",
          "text": [
            "[('weight_mask', tensor([[[[1., 1., 0.],\n",
            "          [1., 1., 1.],\n",
            "          [1., 0., 0.]],\n",
            "\n",
            "         [[1., 1., 0.],\n",
            "          [0., 0., 1.],\n",
            "          [0., 1., 0.]],\n",
            "\n",
            "         [[1., 1., 0.],\n",
            "          [0., 0., 0.],\n",
            "          [0., 0., 1.]]],\n",
            "\n",
            "\n",
            "        [[[0., 0., 0.],\n",
            "          [1., 1., 1.],\n",
            "          [1., 0., 0.]],\n",
            "\n",
            "         [[1., 0., 0.],\n",
            "          [1., 0., 1.],\n",
            "          [0., 0., 1.]],\n",
            "\n",
            "         [[0., 1., 0.],\n",
            "          [0., 0., 0.],\n",
            "          [1., 0., 1.]]],\n",
            "\n",
            "\n",
            "        [[[0., 1., 0.],\n",
            "          [1., 1., 0.],\n",
            "          [0., 0., 1.]],\n",
            "\n",
            "         [[0., 1., 0.],\n",
            "          [1., 1., 1.],\n",
            "          [0., 1., 0.]],\n",
            "\n",
            "         [[0., 0., 1.],\n",
            "          [1., 1., 0.],\n",
            "          [1., 1., 0.]]],\n",
            "\n",
            "\n",
            "        ...,\n",
            "\n",
            "\n",
            "        [[[1., 1., 1.],\n",
            "          [1., 0., 1.],\n",
            "          [0., 1., 0.]],\n",
            "\n",
            "         [[0., 1., 1.],\n",
            "          [0., 0., 1.],\n",
            "          [0., 0., 1.]],\n",
            "\n",
            "         [[1., 0., 1.],\n",
            "          [1., 1., 0.],\n",
            "          [0., 0., 1.]]],\n",
            "\n",
            "\n",
            "        [[[1., 1., 1.],\n",
            "          [1., 1., 1.],\n",
            "          [0., 0., 0.]],\n",
            "\n",
            "         [[0., 1., 1.],\n",
            "          [1., 0., 0.],\n",
            "          [0., 0., 0.]],\n",
            "\n",
            "         [[1., 0., 0.],\n",
            "          [1., 1., 1.],\n",
            "          [1., 1., 1.]]],\n",
            "\n",
            "\n",
            "        [[[0., 0., 1.],\n",
            "          [0., 0., 0.],\n",
            "          [0., 1., 1.]],\n",
            "\n",
            "         [[1., 0., 1.],\n",
            "          [1., 0., 1.],\n",
            "          [1., 0., 0.]],\n",
            "\n",
            "         [[0., 0., 0.],\n",
            "          [0., 0., 1.],\n",
            "          [0., 1., 0.]]]], device='cuda:0'))]\n"
          ],
          "name": "stdout"
        }
      ]
    },
    {
      "cell_type": "code",
      "metadata": {
        "id": "pydBmeczLXEO",
        "colab": {
          "base_uri": "https://localhost:8080/"
        },
        "outputId": "8907ab3f-02c0-45c5-928e-bfaa7e61dbab"
      },
      "source": [
        "print(module._forward_pre_hooks)"
      ],
      "execution_count": null,
      "outputs": [
        {
          "output_type": "stream",
          "text": [
            "OrderedDict([(19, <torch.nn.utils.prune.PruningContainer object at 0x7f5d477cf748>)])\n"
          ],
          "name": "stdout"
        }
      ]
    },
    {
      "cell_type": "markdown",
      "metadata": {
        "id": "0642YWFr1VX3"
      },
      "source": [
        "#### Structured Pruning"
      ]
    },
    {
      "cell_type": "markdown",
      "metadata": {
        "id": "fddYmnBGLXEP"
      },
      "source": [
        "The same parameter in a module can be pruned multiple times, with the \n",
        "effect of the various pruning calls being equal to the combination of the\n",
        "various masks applied in series.\n",
        "The combination of a new mask with the old mask is handled by the \n",
        "``PruningContainer``'s ``compute_mask`` method.\n",
        "\n",
        "Say, for example, that we now want to further prune ``module.weight``, this\n",
        "time using structured pruning along the 0th axis of the tensor (the 0th axis \n",
        "corresponds to the output channels of the convolutional layer and has \n",
        "dimensionality 64 for ``conv1``), based on the channels' L2 norm. This can be \n",
        "achieved using the ``ln_structured`` function, with ``n=2`` and ``dim=0``.\n",
        "\n"
      ]
    },
    {
      "cell_type": "code",
      "metadata": {
        "id": "nPMLRJ2mLXEP",
        "colab": {
          "base_uri": "https://localhost:8080/"
        },
        "outputId": "dff21eb8-a10b-4a0d-8176-a265be488f90"
      },
      "source": [
        "prune.ln_structured(module, name=\"weight\", amount=0.5, n=2, dim=0)\n",
        "\n",
        "# As we can verify, this will zero out all the connections corresponding to \n",
        "# 50% of the channels, while preserving the action of the \n",
        "# previous mask.\n",
        "print(module.weight)"
      ],
      "execution_count": null,
      "outputs": [
        {
          "output_type": "stream",
          "text": [
            "tensor([[[[-0.4993,  0.2184,  0.0000],\n",
            "          [-0.2602,  0.6346, -0.3661],\n",
            "          [ 0.1196,  0.0000,  0.0000]],\n",
            "\n",
            "         [[-0.4177,  0.5760, -0.0000],\n",
            "          [ 0.0000,  0.0000, -0.4873],\n",
            "          [ 0.0000, -0.1090, -0.0000]],\n",
            "\n",
            "         [[-0.3173,  0.4458, -0.0000],\n",
            "          [-0.0000,  0.0000, -0.0000],\n",
            "          [-0.0000, -0.0000, -0.1139]]],\n",
            "\n",
            "\n",
            "        [[[-0.0000,  0.0000,  0.0000],\n",
            "          [ 0.0000, -0.0000,  0.0000],\n",
            "          [ 0.0000, -0.0000,  0.0000]],\n",
            "\n",
            "         [[ 0.0000, -0.0000, -0.0000],\n",
            "          [ 0.0000, -0.0000,  0.0000],\n",
            "          [-0.0000,  0.0000,  0.0000]],\n",
            "\n",
            "         [[-0.0000, -0.0000, -0.0000],\n",
            "          [-0.0000, -0.0000, -0.0000],\n",
            "          [ 0.0000, -0.0000,  0.0000]]],\n",
            "\n",
            "\n",
            "        [[[-0.0000, -0.2872,  0.0000],\n",
            "          [ 0.2746,  0.2181,  0.0000],\n",
            "          [-0.0000, -0.0000, -0.1029]],\n",
            "\n",
            "         [[-0.0000, -0.3299,  0.0000],\n",
            "          [ 0.4625,  0.1549,  0.2471],\n",
            "          [-0.0000, -0.2410,  0.0000]],\n",
            "\n",
            "         [[ 0.0000, -0.0000,  0.1233],\n",
            "          [ 0.3479,  0.3511, -0.0000],\n",
            "          [-0.1947, -0.3949,  0.0000]]],\n",
            "\n",
            "\n",
            "        ...,\n",
            "\n",
            "\n",
            "        [[[ 0.1026, -0.3344, -0.3852],\n",
            "          [ 0.2855,  0.0000, -0.2320],\n",
            "          [ 0.0000,  0.3731, -0.0000]],\n",
            "\n",
            "         [[ 0.0000, -0.3024, -0.2037],\n",
            "          [ 0.0000,  0.0000, -0.0973],\n",
            "          [ 0.0000,  0.0000,  0.1015]],\n",
            "\n",
            "         [[ 0.1337, -0.0000, -0.1923],\n",
            "          [ 0.1840,  0.0935,  0.0000],\n",
            "          [ 0.0000, -0.0000, -0.1963]]],\n",
            "\n",
            "\n",
            "        [[[ 0.1313,  0.1722, -0.2592],\n",
            "          [ 0.1279,  0.1336, -0.2295],\n",
            "          [ 0.0000, -0.0000,  0.0000]],\n",
            "\n",
            "         [[-0.0000,  0.2068, -0.2875],\n",
            "          [ 0.2736, -0.0000, -0.0000],\n",
            "          [ 0.0000, -0.0000, -0.0000]],\n",
            "\n",
            "         [[ 0.1114,  0.0000, -0.0000],\n",
            "          [ 0.1967, -0.1640, -0.3674],\n",
            "          [ 0.1732,  0.1172, -0.2563]]],\n",
            "\n",
            "\n",
            "        [[[-0.0000,  0.0000,  0.0000],\n",
            "          [ 0.0000,  0.0000, -0.0000],\n",
            "          [ 0.0000,  0.0000, -0.0000]],\n",
            "\n",
            "         [[ 0.0000,  0.0000, -0.0000],\n",
            "          [ 0.0000,  0.0000,  0.0000],\n",
            "          [-0.0000,  0.0000,  0.0000]],\n",
            "\n",
            "         [[-0.0000,  0.0000,  0.0000],\n",
            "          [-0.0000,  0.0000,  0.0000],\n",
            "          [ 0.0000,  0.0000,  0.0000]]]], device='cuda:0',\n",
            "       grad_fn=<MulBackward0>)\n"
          ],
          "name": "stdout"
        }
      ]
    },
    {
      "cell_type": "markdown",
      "metadata": {
        "id": "cf0449KZLXEP"
      },
      "source": [
        "The corresponding hook will now be of type \n",
        "``torch.nn.utils.prune.PruningContainer``, and will store the history of \n",
        "pruning applied to the ``weight`` parameter.\n",
        "\n"
      ]
    },
    {
      "cell_type": "code",
      "metadata": {
        "id": "r7tqYzkuLXEP",
        "colab": {
          "base_uri": "https://localhost:8080/"
        },
        "outputId": "b034ae04-53b9-4bc3-8cd5-d7e3202edb37"
      },
      "source": [
        "for hook in module._forward_pre_hooks.values():\n",
        "    if hook._tensor_name == \"weight\":  # select out the correct hook\n",
        "        break\n",
        "\n",
        "print(list(hook))  # pruning history in the container"
      ],
      "execution_count": null,
      "outputs": [
        {
          "output_type": "stream",
          "text": [
            "[<torch.nn.utils.prune.RandomUnstructured object at 0x7f5d477cfac8>, <torch.nn.utils.prune.L1Unstructured object at 0x7f5d477cf518>, <torch.nn.utils.prune.LnStructured object at 0x7f5d466a5be0>]\n"
          ],
          "name": "stdout"
        }
      ]
    },
    {
      "cell_type": "markdown",
      "metadata": {
        "id": "kHtDD8hkLXEP"
      },
      "source": [
        "All relevant tensors, including the mask buffers and the original parameters\n",
        "used to compute the pruned tensors are stored in the model's ``state_dict`` \n",
        "and can therefore be easily serialized and saved, if needed.\n",
        "\n"
      ]
    },
    {
      "cell_type": "code",
      "metadata": {
        "id": "Gk1FKh_7LXEP",
        "colab": {
          "base_uri": "https://localhost:8080/"
        },
        "outputId": "0e5a6a26-bac0-49d6-c20f-cc08eb4c90b3"
      },
      "source": [
        "print(model.state_dict().keys())"
      ],
      "execution_count": null,
      "outputs": [
        {
          "output_type": "stream",
          "text": [
            "odict_keys(['ConvLayer1.0.weight_orig', 'ConvLayer1.0.weight_mask', 'ConvLayer1.1.weight', 'ConvLayer1.1.bias', 'ConvLayer1.1.running_mean', 'ConvLayer1.1.running_var', 'ConvLayer1.1.num_batches_tracked', 'ConvLayer2.0.weight', 'ConvLayer2.1.weight', 'ConvLayer2.1.bias', 'ConvLayer2.1.running_mean', 'ConvLayer2.1.running_var', 'ConvLayer2.1.num_batches_tracked', 'ConvLayer3.0.weight', 'ConvLayer3.1.weight', 'ConvLayer3.1.bias', 'ConvLayer3.1.running_mean', 'ConvLayer3.1.running_var', 'ConvLayer3.1.num_batches_tracked', 'ConvLayer4.0.weight', 'ConvLayer4.1.weight', 'ConvLayer4.1.bias', 'ConvLayer4.1.running_mean', 'ConvLayer4.1.running_var', 'ConvLayer4.1.num_batches_tracked', 'Linear1.weight', 'Linear1.bias', 'Linear2.weight', 'Linear2.bias'])\n"
          ],
          "name": "stdout"
        }
      ]
    },
    {
      "cell_type": "markdown",
      "metadata": {
        "id": "MxpOWOZTLXER"
      },
      "source": [
        "#### Global Pruning\n",
        "\n",
        "So far, we only looked at what is usually referred to as \"local\" pruning,\n",
        "i.e. the practice of pruning tensors in a model one by one, by \n",
        "comparing the statistics (weight magnitude, activation, gradient, etc.) of \n",
        "each entry exclusively to the other entries in that tensor. However, a \n",
        "common and perhaps more powerful technique is to prune the model all at \n",
        "once, by removing (for example) the lowest 20% of connections across the \n",
        "whole model, instead of removing the lowest 20% of connections in each \n",
        "layer. This is likely to result in different pruning percentages per layer.\n",
        "Let's see how to do that using ``global_unstructured`` from \n",
        "``torch.nn.utils.prune``.\n",
        "\n"
      ]
    },
    {
      "cell_type": "code",
      "metadata": {
        "id": "i8uzXV_-LXES"
      },
      "source": [
        "model = MultiClassifier()\n",
        "model = torch.load(os.path.join(drive_root, 'model.pth')).cuda()\n",
        "\n",
        "parameters_to_prune = (\n",
        "    (model.ConvLayer1[0], 'weight'),\n",
        "    (model.ConvLayer2[0], 'weight'),\n",
        "    (model.ConvLayer3[0], 'weight'),\n",
        "    (model.ConvLayer4[0], 'weight'),\n",
        "    (model.Linear1, 'weight'),\n",
        "    (model.Linear2, 'weight'),\n",
        ")\n",
        "\n",
        "prune.global_unstructured(\n",
        "    parameters_to_prune,\n",
        "    pruning_method=prune.L1Unstructured,\n",
        "    amount=0.2,\n",
        ")"
      ],
      "execution_count": null,
      "outputs": []
    },
    {
      "cell_type": "markdown",
      "metadata": {
        "id": "RPuezEvgLXET"
      },
      "source": [
        "Now we can check the sparsity induced in every pruned parameter, which will \n",
        "not be equal to 20% in each layer. However, the global sparsity will be \n",
        "(approximately) 20%.\n",
        "\n"
      ]
    },
    {
      "cell_type": "code",
      "metadata": {
        "id": "eQK2NYEKLXET",
        "colab": {
          "base_uri": "https://localhost:8080/"
        },
        "outputId": "e967dcf2-dde1-4ac5-b8e3-933d9a185c4b"
      },
      "source": [
        "print(\n",
        "    \"Sparsity in conv1.weight: {:.2f}%\".format(\n",
        "        100. * float(torch.sum(model.ConvLayer1[0].weight == 0))\n",
        "        / float(model.ConvLayer1[0].weight.nelement())\n",
        "    )\n",
        ")\n",
        "print(\n",
        "    \"Sparsity in conv2.weight: {:.2f}%\".format(\n",
        "        100. * float(torch.sum(model.ConvLayer2[0].weight == 0))\n",
        "        / float(model.ConvLayer2[0].weight.nelement())\n",
        "    )\n",
        ")\n",
        "print(\n",
        "    \"Sparsity in conv3.weight: {:.2f}%\".format(\n",
        "        100. * float(torch.sum(model.ConvLayer3[0].weight == 0))\n",
        "        / float(model.ConvLayer3[0].weight.nelement())\n",
        "    )\n",
        ")\n",
        "print(\n",
        "    \"Sparsity in conv4.weight: {:.2f}%\".format(\n",
        "        100. * float(torch.sum(model.ConvLayer4[0].weight == 0))\n",
        "        / float(model.ConvLayer4[0].weight.nelement())\n",
        "    )\n",
        ")\n",
        "print(\n",
        "    \"Sparsity in fc1.weight: {:.2f}%\".format(\n",
        "        100. * float(torch.sum(model.Linear1.weight == 0))\n",
        "        / float(model.Linear1.weight.nelement())\n",
        "    )\n",
        ")\n",
        "print(\n",
        "    \"Sparsity in fc2.weight: {:.2f}%\".format(\n",
        "        100. * float(torch.sum(model.Linear2.weight == 0))\n",
        "        / float(model.Linear2.weight.nelement())\n",
        "    )\n",
        ")\n",
        "print(\n",
        "    \"Global sparsity: {:.2f}%\".format(\n",
        "        100. * float(\n",
        "            torch.sum(model.ConvLayer1[0].weight == 0)\n",
        "            + torch.sum(model.ConvLayer2[0].weight == 0)\n",
        "            + torch.sum(model.ConvLayer3[0].weight == 0)\n",
        "            + torch.sum(model.ConvLayer4[0].weight == 0)\n",
        "            + torch.sum(model.Linear1.weight == 0)\n",
        "            + torch.sum(model.Linear2.weight == 0)\n",
        "        )\n",
        "        / float(\n",
        "            model.ConvLayer1[0].weight.nelement()\n",
        "            + model.ConvLayer2[0].weight.nelement()\n",
        "            + model.ConvLayer3[0].weight.nelement()\n",
        "            + model.ConvLayer4[0].weight.nelement()\n",
        "            + model.Linear1.weight.nelement()\n",
        "            + model.Linear2.weight.nelement()\n",
        "        )\n",
        "    )\n",
        ")"
      ],
      "execution_count": null,
      "outputs": [
        {
          "output_type": "stream",
          "text": [
            "Sparsity in conv1.weight: 0.81%\n",
            "Sparsity in conv2.weight: 3.84%\n",
            "Sparsity in conv3.weight: 5.51%\n",
            "Sparsity in conv4.weight: 8.13%\n",
            "Sparsity in fc1.weight: 22.10%\n",
            "Sparsity in fc2.weight: 4.22%\n",
            "Global sparsity: 20.00%\n"
          ],
          "name": "stdout"
        }
      ]
    },
    {
      "cell_type": "markdown",
      "metadata": {
        "id": "dLytXSBDLXEQ"
      },
      "source": [
        "#### Pruning Re-parametrization\n",
        "\n",
        "To make the pruning permanent, remove the re-parametrization in terms\n",
        "of ``weight_orig`` and ``weight_mask``, and remove the ``forward_pre_hook``,\n",
        "we can use the ``remove`` functionality from ``torch.nn.utils.prune``.\n",
        "Note that this doesn't undo the pruning, as if it never happened. It simply \n",
        "makes it permanent, instead, by reassigning the parameter ``weight`` to the \n",
        "model parameters, in its pruned version.\n",
        "\n"
      ]
    },
    {
      "cell_type": "code",
      "metadata": {
        "id": "jCTAYkPdLXER",
        "colab": {
          "base_uri": "https://localhost:8080/"
        },
        "outputId": "188f1db1-896c-45fe-d92c-17448af48dfa"
      },
      "source": [
        "module = model.ConvLayer1[0]\n",
        "prune.remove(module, 'weight')\n",
        "print(list(module.named_parameters()))"
      ],
      "execution_count": null,
      "outputs": [
        {
          "output_type": "stream",
          "text": [
            "[('weight', Parameter containing:\n",
            "tensor([[[[-0.4993,  0.2184,  0.0611],\n",
            "          [-0.2602,  0.6346, -0.3661],\n",
            "          [ 0.1196,  0.0173,  0.0231]],\n",
            "\n",
            "         [[-0.4177,  0.5760, -0.1180],\n",
            "          [ 0.0091,  0.7275, -0.4873],\n",
            "          [ 0.1324, -0.1090, -0.3060]],\n",
            "\n",
            "         [[-0.3173,  0.4458, -0.0379],\n",
            "          [-0.0141,  0.6268, -0.4951],\n",
            "          [-0.0979, -0.0000, -0.1139]]],\n",
            "\n",
            "\n",
            "        [[[-0.0133,  0.0209,  0.0221],\n",
            "          [ 0.1703, -0.1929,  0.1645],\n",
            "          [ 0.1389, -0.0603,  0.0070]],\n",
            "\n",
            "         [[ 0.1885, -0.0496, -0.0446],\n",
            "          [ 0.1504, -0.1289,  0.1221],\n",
            "          [-0.0754,  0.1942,  0.1311]],\n",
            "\n",
            "         [[-0.0078, -0.2607, -0.1043],\n",
            "          [-0.0517, -0.0681, -0.0605],\n",
            "          [ 0.0821, -0.0496,  0.0873]]],\n",
            "\n",
            "\n",
            "        [[[-0.0897, -0.2872,  0.1466],\n",
            "          [ 0.2746,  0.2181,  0.1618],\n",
            "          [-0.0175, -0.2983, -0.1029]],\n",
            "\n",
            "         [[-0.1196, -0.3299,  0.0193],\n",
            "          [ 0.4625,  0.1549,  0.2471],\n",
            "          [-0.1581, -0.2410,  0.0119]],\n",
            "\n",
            "         [[ 0.0465, -0.3276,  0.1233],\n",
            "          [ 0.3479,  0.3511, -0.0438],\n",
            "          [-0.1947, -0.3949,  0.0725]]],\n",
            "\n",
            "\n",
            "        ...,\n",
            "\n",
            "\n",
            "        [[[ 0.1026, -0.3344, -0.3852],\n",
            "          [ 0.2855,  0.0710, -0.2320],\n",
            "          [ 0.2959,  0.3731, -0.0263]],\n",
            "\n",
            "         [[ 0.0529, -0.3024, -0.2037],\n",
            "          [ 0.0715,  0.1750, -0.0973],\n",
            "          [ 0.0586,  0.0431,  0.1015]],\n",
            "\n",
            "         [[ 0.1337, -0.0760, -0.1923],\n",
            "          [ 0.1840,  0.0935,  0.0634],\n",
            "          [ 0.0159, -0.0000, -0.1963]]],\n",
            "\n",
            "\n",
            "        [[[ 0.1313,  0.1722, -0.2592],\n",
            "          [ 0.1279,  0.1336, -0.2295],\n",
            "          [ 0.0389, -0.0563,  0.0110]],\n",
            "\n",
            "         [[-0.0087,  0.2068, -0.2875],\n",
            "          [ 0.2736, -0.0226, -0.0283],\n",
            "          [ 0.0214, -0.1456, -0.0495]],\n",
            "\n",
            "         [[ 0.1114,  0.1197, -0.0097],\n",
            "          [ 0.1967, -0.1640, -0.3674],\n",
            "          [ 0.1732,  0.1172, -0.2563]]],\n",
            "\n",
            "\n",
            "        [[[-0.0753,  0.1438,  0.1231],\n",
            "          [ 0.0510,  0.0638, -0.0391],\n",
            "          [ 0.0558,  0.0872, -0.1644]],\n",
            "\n",
            "         [[ 0.1829,  0.0947, -0.1508],\n",
            "          [ 0.1869,  0.0239,  0.0828],\n",
            "          [-0.1527,  0.0642,  0.1994]],\n",
            "\n",
            "         [[-0.0485,  0.0592,  0.0311],\n",
            "          [-0.0097,  0.1717,  0.1688],\n",
            "          [ 0.0987,  0.1414,  0.0501]]]], device='cuda:0', requires_grad=True))]\n"
          ],
          "name": "stdout"
        }
      ]
    },
    {
      "cell_type": "code",
      "metadata": {
        "id": "qg3q6ScfLXER",
        "colab": {
          "base_uri": "https://localhost:8080/"
        },
        "outputId": "f62ce793-bd52-4d8c-cf1e-63732909f760"
      },
      "source": [
        "print(list(module.named_buffers()))"
      ],
      "execution_count": null,
      "outputs": [
        {
          "output_type": "stream",
          "text": [
            "[]\n"
          ],
          "name": "stdout"
        }
      ]
    },
    {
      "cell_type": "markdown",
      "metadata": {
        "id": "dwJBRRo87Zd-"
      },
      "source": [
        "#### Testing"
      ]
    },
    {
      "cell_type": "code",
      "metadata": {
        "colab": {
          "base_uri": "https://localhost:8080/"
        },
        "id": "a3wzdhiOBFVt",
        "outputId": "7869ff91-cd89-4326-dd8a-0e681ebf77bc"
      },
      "source": [
        "val_l, val_a = fit_model(0, model, valid_dataloader, phase='validation')"
      ],
      "execution_count": null,
      "outputs": [
        {
          "output_type": "stream",
          "text": [
            "'Epoch: 0'\n",
            "'validation loss is 0.20283628885194036 '\n",
            "'validation accuracy is 0.911633258272214 '\n"
          ],
          "name": "stdout"
        }
      ]
    },
    {
      "cell_type": "markdown",
      "metadata": {
        "id": "VoNZlqkSrScN"
      },
      "source": [
        "### Acknowledge\n",
        "\n",
        "[Vatsal Saglani](https://github.com/vatsalsaglani) and [Michela Paganini](https://github.com/mickypaganini) for providing some of thoughts and materials."
      ]
    }
  ]
}