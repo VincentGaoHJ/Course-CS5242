{
  "nbformat": 4,
  "nbformat_minor": 0,
  "metadata": {
    "colab": {
      "name": "practice_5_convolutionalNeuralNetworks.ipynb",
      "provenance": [],
      "collapsed_sections": [],
      "include_colab_link": true
    },
    "kernelspec": {
      "name": "python3",
      "display_name": "Python 3"
    },
    "accelerator": "GPU"
  },
  "cells": [
    {
      "cell_type": "markdown",
      "metadata": {
        "id": "view-in-github",
        "colab_type": "text"
      },
      "source": [
        "<a href=\"https://colab.research.google.com/github/VincentGaoHJ/Course-CS5242/blob/master/practice_5_convolutionalNeuralNetworks.ipynb\" target=\"_parent\"><img src=\"https://colab.research.google.com/assets/colab-badge.svg\" alt=\"Open In Colab\"/></a>"
      ]
    },
    {
      "cell_type": "markdown",
      "metadata": {
        "id": "fr0dgkiXyYw0"
      },
      "source": [
        "## Practice 5: Convolutional Neural Networks"
      ]
    },
    {
      "cell_type": "code",
      "metadata": {
        "id": "nM2WyYslZyYX",
        "colab": {
          "base_uri": "https://localhost:8080/"
        },
        "outputId": "6377bdc3-304b-498b-e8c7-8fd8956c92ca"
      },
      "source": [
        "import random\n",
        "import numpy as np\n",
        "import matplotlib.pyplot as plt\n",
        "import torch\n",
        "import torch.nn as nn\n",
        "import torch.nn.functional as F\n",
        "from torch import optim\n",
        "from torchvision import datasets, transforms\n",
        "from tqdm.notebook import tqdm\n",
        "import torchvision\n",
        "\n",
        "%matplotlib inline\n",
        "plt.rcParams['figure.figsize'] = (10.0, 8.0) # set default size of plots\n",
        "plt.rcParams['image.interpolation'] = 'nearest'\n",
        "plt.rcParams['image.cmap'] = 'gray'\n",
        "\n",
        "# for auto-reloading extenrnal modules\n",
        "# see http://stackoverflow.com/questions/1907993/autoreload-of-modules-in-ipython\n",
        "%load_ext autoreload\n",
        "%autoreload 2\n",
        "\n",
        "device = torch.device('cuda:0')"
      ],
      "execution_count": null,
      "outputs": [
        {
          "output_type": "stream",
          "text": [
            "The autoreload extension is already loaded. To reload it, use:\n",
            "  %reload_ext autoreload\n"
          ],
          "name": "stdout"
        }
      ]
    },
    {
      "cell_type": "markdown",
      "metadata": {
        "id": "M-LtcZ0nbA03"
      },
      "source": [
        "**In this tutorial, we will learn about convolutional neural networks (CNNs). We will work on the MNIST dataset and make the last tutorials model better by using convolutional neural nets.**\n",
        "\n",
        "Just like the last tutorial, we will start by defining the MNIST dataset. "
      ]
    },
    {
      "cell_type": "code",
      "metadata": {
        "id": "adjkX8q_cQgi"
      },
      "source": [
        "transform = transforms.Compose([transforms.ToTensor(), transforms.Normalize((0.5,), (0.5,))]) \n",
        "trainset = datasets.MNIST('~/.pytorch/MNIST_data/', download=True, train=True, transform=transform)\n",
        "trainloader = torch.utils.data.DataLoader(trainset, batch_size=100, shuffle=True)\n",
        "\n",
        "testset = datasets.MNIST('~/.pytorch/MNIST_data/', download=True, train=False, transform=transform)\n",
        "testloader = torch.utils.data.DataLoader(testset, batch_size=100, shuffle=False)"
      ],
      "execution_count": null,
      "outputs": []
    },
    {
      "cell_type": "markdown",
      "metadata": {
        "id": "L4fubWRPc_XB"
      },
      "source": [
        "Q1. Initialize an MNist dataloader just like the last tutorial. Create a neural network model for classification with \n",
        "\n",
        "\n",
        "*   Convolution layer (16 channels, 3x3 kernel, stride 1, no padding)\n",
        "*   Max-pooling layer (2x2 kernel, stride 1, no padding)\n",
        "*   ReLU activation\n",
        "*   Fully connected layer\n",
        "\n",
        "Print the number of parameters for this network. Use cross-entropy loss, adam optimizer and train the model with multiple passes through the data and check the accuracy on the test set.\n"
      ]
    },
    {
      "cell_type": "code",
      "metadata": {
        "id": "MnViPgZKdD_n"
      },
      "source": [
        "class Net(nn.Module):\n",
        "    \"\"\"\n",
        "    Convolutional neural network\n",
        "    \"\"\"\n",
        "    def __init__(self):\n",
        "        # Creates an instance of the base nn.Module class\n",
        "        super(Net, self).__init__() # Inheritance of the base class nn.Module\n",
        "        # Convolution layer: 16 channels (output), 3x3 kernel, stride 1, no padding\n",
        "        # First convolution size changes from (1, 28, 28) to (16, 26, 26)\n",
        "        self.conv = nn.Conv2d(\n",
        "            in_channels=1, out_channels=16, \n",
        "            kernel_size=3, stride=1, padding=0) \n",
        "        # Max-pooling layer (2x2 kernel, stride 1, no padding)\n",
        "        # Size of the dimension changes from (16, 26, 26) to (16, 25, 25)\n",
        "        self.pool = nn.MaxPool2d(\n",
        "            kernel_size = 2, stride = 1, \n",
        "            padding = 0)\n",
        "        # Fully connected layer: 10 output features for 10 defined classes\n",
        "        self.fc = nn.Linear(16 * 25 * 25, 10)   \n",
        "\n",
        "    def forward(self, x):\n",
        "        # Input size: (1, 28, 28)\n",
        "        x = F.relu(self.conv(x)) # Size changes to (16, 26, 26)\n",
        "        x = self.pool(x) # Size changes to (16, 25, 25)\n",
        "        x = x.view(-1, 16 * 25 * 25) # Size changes to (1, 16 * 25 *25)\n",
        "        x = self.fc(x) # Size changes to (1, 10)\n",
        "        return x"
      ],
      "execution_count": null,
      "outputs": []
    },
    {
      "cell_type": "code",
      "metadata": {
        "colab": {
          "base_uri": "https://localhost:8080/"
        },
        "id": "gd95ck30T213",
        "outputId": "11e03494-da1c-4534-e1fb-6c467f060b9f"
      },
      "source": [
        "MnistNet = Net().to(device)\r\n",
        "pytorch_total_params = sum(p.numel() for p in MnistNet.parameters())\r\n",
        "print(f'Number of parameter is {pytorch_total_params}')"
      ],
      "execution_count": null,
      "outputs": [
        {
          "output_type": "stream",
          "text": [
            "Number of parameter is 100170\n"
          ],
          "name": "stdout"
        }
      ]
    },
    {
      "cell_type": "code",
      "metadata": {
        "colab": {
          "base_uri": "https://localhost:8080/"
        },
        "id": "kYQrgebyWGBa",
        "outputId": "6840c45a-ba78-4973-84fb-58b3ab55670e"
      },
      "source": [
        "def accuracy(model, dataloader, device):\r\n",
        "    correct = 0\r\n",
        "    total = 0\r\n",
        "    for idx, (images, labels) in enumerate(dataloader):\r\n",
        "        images = images.to(device)\r\n",
        "        labels = labels.to(device)\r\n",
        "        outputs = model(images)\r\n",
        "        with torch.no_grad():\r\n",
        "            _, predicted = torch.max(outputs.data, 1)\r\n",
        "            total += labels.size(0)\r\n",
        "            correct += (predicted == labels).sum().item()\r\n",
        "    return 100 * correct / total\r\n",
        "\r\n",
        "def train_model_one_pass(p_network, criterion, p_optim, trainloader, testloader, epoch=1, log_interval=100):\r\n",
        "    p_network.train()\r\n",
        "    acc_one_pass, loss_one_pass = [], []\r\n",
        "    running_loss = 0.0\r\n",
        "    for idx, (images, labels) in enumerate(trainloader):\r\n",
        "        # Move tensors to the configured device\r\n",
        "        images = images.to(device)\r\n",
        "        labels = labels.to(device)\r\n",
        "        \r\n",
        "        # Forward pass\r\n",
        "        model_out = p_network(images)\r\n",
        "        loss = criterion(model_out, labels) # Get loss using outputs and ground truth labels.\r\n",
        "        \r\n",
        "        # Backprpagation and optimization\r\n",
        "        p_optim.zero_grad() # remember to clear grads before calling gradients\r\n",
        "        loss.backward() # Call backward on the loss ()\r\n",
        "        p_optim.step() # Call optimizer.step to perform SGD update. \r\n",
        "\r\n",
        "        # print statistics\r\n",
        "        running_loss += loss.item()\r\n",
        "        if idx % log_interval == log_interval-1:\r\n",
        "            print('Epoch {} \\t Iter: {}/{} ({:.2f}%) \\t Train Loss: {:.4f}'.format(\r\n",
        "                epoch, (idx+1) * len(images), len(trainset), \r\n",
        "                100.*(idx+1) * len(images)/len(trainset), running_loss / log_interval))\r\n",
        "            running_loss = 0.0\r\n",
        "    \r\n",
        "    acc = accuracy(p_network, testloader, device)\r\n",
        "    print('Test on Epoch: {} \\t Accuracy: {:.2f}%'.format(\r\n",
        "        epoch, acc).center(76, '='))\r\n",
        "\r\n",
        "MnistNet = Net().to(device)\r\n",
        "# Loss and optimizer\r\n",
        "criterion = nn.CrossEntropyLoss()\r\n",
        "optimizer = torch.optim.Adam(MnistNet.parameters(), lr=0.01) \r\n",
        "# Train and test the model\r\n",
        "train_model_one_pass(MnistNet, criterion, optimizer, trainloader, testloader)"
      ],
      "execution_count": null,
      "outputs": [
        {
          "output_type": "stream",
          "text": [
            "Epoch 1 \t Iter: 10000/60000 (16.67%) \t Train Loss: 1.8790\n",
            "Epoch 1 \t Iter: 20000/60000 (33.33%) \t Train Loss: 0.1759\n",
            "Epoch 1 \t Iter: 30000/60000 (50.00%) \t Train Loss: 0.1320\n",
            "Epoch 1 \t Iter: 40000/60000 (66.67%) \t Train Loss: 0.1214\n",
            "Epoch 1 \t Iter: 50000/60000 (83.33%) \t Train Loss: 0.1023\n",
            "Epoch 1 \t Iter: 60000/60000 (100.00%) \t Train Loss: 0.0875\n",
            "====================Test on Epoch: 1 \t Accuracy: 97.68%=====================\n"
          ],
          "name": "stdout"
        }
      ]
    },
    {
      "cell_type": "code",
      "metadata": {
        "id": "x6WYLw2eiAAC"
      },
      "source": [
        "def train_model(model, criterion, optimizer, trainloader, testloader, num_epochs=10, log_interval=300):\n",
        "    model.train()\n",
        "    running_loss = 0.0\n",
        "    for epoch in range(1, num_epochs + 1):\n",
        "        for idx, (images, labels) in enumerate(trainloader):\n",
        "            # Move tensors to the configured device\n",
        "            images = images.to(device)\n",
        "            labels = labels.to(device)\n",
        "            \n",
        "            # Forward pass\n",
        "            model_out = model(images)\n",
        "            loss = criterion(model_out, labels) # Get loss using outputs and ground truth labels.\n",
        "            \n",
        "            # Backprpagation and optimization\n",
        "            optimizer.zero_grad() # remember to clear grads before calling gradients\n",
        "            loss.backward() # Call backward on the loss ()\n",
        "            optimizer.step() # Call optimizer.step to perform SGD update. \n",
        "\n",
        "            # print statistics\n",
        "            running_loss += loss.item()\n",
        "            if idx % log_interval == log_interval-1:\n",
        "                print('Epoch {} \\t Iter: {}/{} ({:.2f}%) \\t Train Loss: {:.4f}'.format(\n",
        "                    epoch, (idx+1) * len(images), len(trainset), \n",
        "                    100.*(idx+1) * len(images)/len(trainset), running_loss / log_interval))\n",
        "                running_loss = 0.0\n",
        "        \n",
        "        acc = accuracy(model, testloader, device)\n",
        "        print('Test on Epoch: {} \\t Accuracy: {:.2f}%'.format(\n",
        "            epoch, acc).center(76, '='))"
      ],
      "execution_count": null,
      "outputs": []
    },
    {
      "cell_type": "code",
      "metadata": {
        "colab": {
          "base_uri": "https://localhost:8080/"
        },
        "id": "SFpPeAfvzZO5",
        "outputId": "899149fc-49a9-4db9-c415-e2f60a782393"
      },
      "source": [
        "MnistNet = Net().to(device)\r\n",
        "# Loss and optimizer\r\n",
        "criterion = nn.CrossEntropyLoss()\r\n",
        "optimizer = torch.optim.Adam(MnistNet.parameters(), lr=0.001) \r\n",
        "# Train and test the model\r\n",
        "train_model(MnistNet, criterion, optimizer, trainloader, testloader, num_epochs=5)"
      ],
      "execution_count": null,
      "outputs": [
        {
          "output_type": "stream",
          "text": [
            "Epoch 1 \t Iter: 30000/60000 (50.00%) \t Train Loss: 0.3370\n",
            "Epoch 1 \t Iter: 60000/60000 (100.00%) \t Train Loss: 0.1300\n",
            "====================Test on Epoch: 1 \t Accuracy: 97.07%=====================\n",
            "Epoch 2 \t Iter: 30000/60000 (50.00%) \t Train Loss: 0.0904\n",
            "Epoch 2 \t Iter: 60000/60000 (100.00%) \t Train Loss: 0.0823\n",
            "====================Test on Epoch: 2 \t Accuracy: 97.55%=====================\n",
            "Epoch 3 \t Iter: 30000/60000 (50.00%) \t Train Loss: 0.0616\n",
            "Epoch 3 \t Iter: 60000/60000 (100.00%) \t Train Loss: 0.0674\n",
            "====================Test on Epoch: 3 \t Accuracy: 98.00%=====================\n",
            "Epoch 4 \t Iter: 30000/60000 (50.00%) \t Train Loss: 0.0521\n",
            "Epoch 4 \t Iter: 60000/60000 (100.00%) \t Train Loss: 0.0521\n",
            "====================Test on Epoch: 4 \t Accuracy: 97.65%=====================\n",
            "Epoch 5 \t Iter: 30000/60000 (50.00%) \t Train Loss: 0.0419\n",
            "Epoch 5 \t Iter: 60000/60000 (100.00%) \t Train Loss: 0.0457\n",
            "====================Test on Epoch: 5 \t Accuracy: 98.20%=====================\n"
          ],
          "name": "stdout"
        }
      ]
    },
    {
      "cell_type": "markdown",
      "metadata": {
        "id": "6avKVD4Gq5GL"
      },
      "source": [
        "Q2. For a random sample of 5 digits (different digits), plot the first 10 convolution layer outputs (first 10 channels) and check it. (Tips: Use the member module, e.g., Net.conv1, or the hook)\n"
      ]
    },
    {
      "cell_type": "code",
      "metadata": {
        "id": "meXKtF1yPush"
      },
      "source": [
        "def hook(self, input, output):\r\n",
        "    # input is a tuple of packed inputs\r\n",
        "    # output is a Tensor. output.data is the Tensor we are interested\r\n",
        "    features.append(output.clone().detach())\r\n",
        "\r\n",
        "\r\n",
        "\r\n",
        "# Select a random sample of 5 digits\r\n",
        "label_lst = []\r\n",
        "image_lst = []\r\n",
        "images, labels = next(iter(trainloader))\r\n",
        "for image, label in zip(images, labels):\r\n",
        "    if len(label_lst) >= 5:\r\n",
        "        break\r\n",
        "    if label.item() in label_lst:\r\n",
        "        continue\r\n",
        "    \r\n",
        "    label_lst.append(label.item())\r\n",
        "    image_lst.append(image)\r\n",
        "\r\n",
        "\r\n",
        "# Stack five image as input\r\n",
        "images = torch.stack(image_lst).to(device)\r\n",
        "\r\n",
        "# clear hook outpuy\r\n",
        "features = []\r\n",
        "\r\n",
        "# Initiate Network\r\n",
        "MnistNet = Net().to(device)\r\n",
        "\r\n",
        "# Save intermediate feature maps by saving the feature maps to a python variable external to the hook function\r\n",
        "feature_handle = MnistNet.conv.register_forward_hook(hook)\r\n",
        "out = MnistNet(images)\r\n",
        "intermediate_res = features[0]\r\n",
        "\r\n",
        "# remove handle\r\n",
        "feature_handle.remove()"
      ],
      "execution_count": null,
      "outputs": []
    },
    {
      "cell_type": "code",
      "metadata": {
        "colab": {
          "base_uri": "https://localhost:8080/",
          "height": 458
        },
        "id": "zmQtFhD_hJG-",
        "outputId": "2d7892a4-7f23-4b60-ea19-b7dd87045182"
      },
      "source": [
        "def visualize_images(label_lst, intermediate_res, num_channel=10):\r\n",
        "    for idx, label_num in enumerate(label_lst):\r\n",
        "        for channel_idx in range(num_channel):\r\n",
        "            plt.subplot(len(label_lst), num_channel, idx*num_channel+channel_idx+1)\r\n",
        "            plt.imshow(torch.squeeze(intermediate_res.cpu()[idx, channel_idx, :, :]))\r\n",
        "            # plt.axis('off')\r\n",
        "    \r\n",
        "visualize_images(label_lst, intermediate_res)"
      ],
      "execution_count": null,
      "outputs": [
        {
          "output_type": "display_data",
          "data": {
            "image/png": "[encoded data removed]",
            "text/plain": [
              "<Figure size 720x576 with 50 Axes>"
            ]
          },
          "metadata": {
            "tags": [],
            "needs_background": "light"
          }
        }
      ]
    },
    {
      "cell_type": "markdown",
      "metadata": {
        "id": "nCJIXw0UvwIl"
      },
      "source": [
        "Q3. Use the first network from Q1 and then stack another layer of convolution after the max-pooling layer with a ReLU in between. Increase the number of channels to 64 for the next layer while keeping the kernel size to 3x3. Add batch norm and dropouts to your network. Print the parameter size. Train the network and print test accuracy.\n"
      ]
    },
    {
      "cell_type": "code",
      "metadata": {
        "id": "hBvjTeVgvqtB"
      },
      "source": [
        "class Net(nn.Module):\n",
        "    \"\"\"\n",
        "    Convolutional neural network\n",
        "    \"\"\"\n",
        "    def __init__(self):\n",
        "        super(Net, self).__init__()\n",
        "        self.conv1 = nn.Conv2d(in_channels=1, out_channels=16, kernel_size=3, stride=1, padding=0) \n",
        "        self.conv2 = nn.Conv2d(in_channels=16, out_channels=64, kernel_size=3, stride=1, padding=0) \n",
        "        self.pool = nn.MaxPool2d(kernel_size = 2, stride = 1, padding = 0)\n",
        "        self.conv2_bn = nn.BatchNorm2d(num_features=64)\n",
        "        self.drop_out = nn.Dropout()\n",
        "        self.fc = nn.Linear(64 * 23 * 23, 10)   \n",
        "\n",
        "    def forward(self, x):\n",
        "        # Input size: (1, 28, 28)\n",
        "        x = F.relu(self.conv1(x)) # Size changes to (16, 26, 26)\n",
        "        x = F.relu(self.pool(x)) # Size changes to (16, 25, 25)\n",
        "        x = self.conv2(x) # Size changes to (64, 23, 23)\n",
        "        x = self.conv2_bn(x)\n",
        "        x = self.drop_out(x)\n",
        "        x = x.view(-1, 64 * 23 * 23) # Size changes to (1, 64 * 23 * 23)\n",
        "        x = self.fc(x) # Size changes to (1, 10)\n",
        "        return x"
      ],
      "execution_count": null,
      "outputs": []
    },
    {
      "cell_type": "code",
      "metadata": {
        "colab": {
          "base_uri": "https://localhost:8080/"
        },
        "id": "nXBawZ9OoHdV",
        "outputId": "3f6c1e2b-637c-4fdf-c21d-816f60d518db"
      },
      "source": [
        "MnistNet = Net().to(device)\r\n",
        "pytorch_total_params = sum(p.numel() for p in MnistNet.parameters())\r\n",
        "print(f'Number of parameter is {pytorch_total_params}')"
      ],
      "execution_count": null,
      "outputs": [
        {
          "output_type": "stream",
          "text": [
            "Number of parameter is 348138\n"
          ],
          "name": "stdout"
        }
      ]
    },
    {
      "cell_type": "code",
      "metadata": {
        "id": "_plEJmh7u_us",
        "colab": {
          "base_uri": "https://localhost:8080/"
        },
        "outputId": "608d4c91-e221-45f7-96e6-25272ffe7c2b"
      },
      "source": [
        "MnistNet = Net().to(device)\n",
        "# Loss and optimizer\n",
        "criterion = nn.CrossEntropyLoss()\n",
        "optimizer = torch.optim.Adam(MnistNet.parameters(), lr=0.001) \n",
        "# Train and test the model\n",
        "train_model(MnistNet, criterion, optimizer, trainloader, testloader, num_epochs=5)"
      ],
      "execution_count": null,
      "outputs": [
        {
          "output_type": "stream",
          "text": [
            "Epoch 1 \t Iter: 30000/60000 (50.00%) \t Train Loss: 0.4081\n",
            "Epoch 1 \t Iter: 60000/60000 (100.00%) \t Train Loss: 0.3350\n",
            "====================Test on Epoch: 1 \t Accuracy: 97.06%=====================\n",
            "Epoch 2 \t Iter: 30000/60000 (50.00%) \t Train Loss: 0.2573\n",
            "Epoch 2 \t Iter: 60000/60000 (100.00%) \t Train Loss: 0.2247\n",
            "====================Test on Epoch: 2 \t Accuracy: 97.10%=====================\n",
            "Epoch 3 \t Iter: 30000/60000 (50.00%) \t Train Loss: 0.1639\n",
            "Epoch 3 \t Iter: 60000/60000 (100.00%) \t Train Loss: 0.1670\n",
            "====================Test on Epoch: 3 \t Accuracy: 97.42%=====================\n",
            "Epoch 4 \t Iter: 30000/60000 (50.00%) \t Train Loss: 0.1250\n",
            "Epoch 4 \t Iter: 60000/60000 (100.00%) \t Train Loss: 0.1248\n",
            "====================Test on Epoch: 4 \t Accuracy: 97.88%=====================\n",
            "Epoch 5 \t Iter: 30000/60000 (50.00%) \t Train Loss: 0.0841\n",
            "Epoch 5 \t Iter: 60000/60000 (100.00%) \t Train Loss: 0.0934\n",
            "====================Test on Epoch: 5 \t Accuracy: 97.72%=====================\n"
          ],
          "name": "stdout"
        }
      ]
    },
    {
      "cell_type": "markdown",
      "metadata": {
        "id": "u6sL9-E53KEy"
      },
      "source": [
        "Q4. Visualize wrong predictions.  An important way to gain intuition about how the algorithm works are to visualize the mistakes that it makes. In this visualization, we show examples of images that are misclassified by our current system. \n"
      ]
    },
    {
      "cell_type": "code",
      "metadata": {
        "id": "1zv2wpPLrDOH"
      },
      "source": [
        "def find_wrong_image(model, dataloader, device):\r\n",
        "    wrong_images = []\r\n",
        "    predictions = []\r\n",
        "    for _, (images, labels) in enumerate(dataloader):\r\n",
        "        images = images.to(device)\r\n",
        "        labels = labels.to(device)\r\n",
        "        outputs = model(images)\r\n",
        "        with torch.no_grad():\r\n",
        "            _, predicted = torch.max(outputs.data, 1)\r\n",
        "            for image, predict, label in zip(images, predicted, labels):\r\n",
        "                if predict != label:\r\n",
        "                    wrong_images.append(image)\r\n",
        "                    predictions.append(predict.item())\r\n",
        "    return wrong_images, predictions\r\n",
        "\r\n",
        "wrong_images, predictions = find_wrong_image(MnistNet, testloader, device)"
      ],
      "execution_count": null,
      "outputs": []
    },
    {
      "cell_type": "code",
      "metadata": {
        "colab": {
          "base_uri": "https://localhost:8080/",
          "height": 485
        },
        "id": "l3FTbJYLsqz9",
        "outputId": "a852595e-e71b-4206-ca92-e6f93c8596ae"
      },
      "source": [
        "wrong_images_9 = wrong_images[:10]\r\n",
        "predictions_9 = predictions[:10]\r\n",
        "\r\n",
        "from matplotlib import pyplot as plt\r\n",
        "fig, axes = plt.subplots(nrows=3, ncols=3)\r\n",
        "\r\n",
        "for i in range(9):\r\n",
        "  plt.subplot(3, 3, i+1)\r\n",
        "  plt.imshow(wrong_images_9[i].cpu()[0])\r\n",
        "  plt.title('predicted '+str(predictions_9[i]))\r\n",
        "  plt.xticks([])\r\n",
        "  plt.yticks([])"
      ],
      "execution_count": null,
      "outputs": [
        {
          "output_type": "display_data",
          "data": {
            "image/png": "[encoded data removed]",
            "text/plain": [
              "<Figure size 720x576 with 9 Axes>"
            ]
          },
          "metadata": {
            "tags": []
          }
        }
      ]
    },
    {
      "cell_type": "markdown",
      "metadata": {
        "id": "wXoP--SVFkZc"
      },
      "source": [
        "Q5. Use the pytorch pre-trained resnet18 model with fine-tuning to classify Cifar10 data and print its train and test accuracy.\n",
        "\n",
        "**Hint**:\n",
        "\n",
        "- Using Pytorch pre-trained resnet18 model: [https://pytorch.org/docs/stable/torchvision/models.html](https://pytorch.org/docs/stable/torchvision/models.html).\n",
        "\n",
        "- For fine-tuning, you can have a look at [How to fine-tune your artificial intelligence algorithms](https://www.allerin.com/blog/how-to-fine-tune-your-artificial-intelligence-algorithms).\n"
      ]
    },
    {
      "cell_type": "code",
      "metadata": {
        "id": "7idywQM-wRMb"
      },
      "source": [
        "from torchvision.models import resnet18\r\n",
        "\r\n",
        "def set_parameter_requires_grad(model, feature_extracting):\r\n",
        "    if feature_extracting:\r\n",
        "        for param in model.parameters():\r\n",
        "            param.requires_grad = False\r\n",
        "\r\n",
        "def initialize_model(num_classes, feature_extract, use_pretrained=True):\r\n",
        "    model_ft = resnet18(pretrained=use_pretrained)\r\n",
        "    set_parameter_requires_grad(model_ft, feature_extract)\r\n",
        "    num_ftrs = model_ft.fc.in_features\r\n",
        "    model_ft.fc = nn.Linear(num_ftrs, num_classes)\r\n",
        "    input_size = 224\r\n",
        "    return model_ft, input_size"
      ],
      "execution_count": null,
      "outputs": []
    },
    {
      "cell_type": "code",
      "metadata": {
        "colab": {
          "base_uri": "https://localhost:8080/"
        },
        "id": "e9JcfCbIwFBL",
        "outputId": "92691b03-20f6-4bab-ce27-441342206d2f"
      },
      "source": [
        "# Flag for feature extracting. When False, we finetune the whole model, \r\n",
        "feature_extract = False # when True we only update the reshaped layer params\r\n",
        "\r\n",
        "# Initialize the model for this run\r\n",
        "cifar10_resnet, input_size = initialize_model(10, feature_extract, use_pretrained=True)\r\n",
        "\r\n",
        "# Print the model we just instantiated\r\n",
        "print(cifar10_resnet)"
      ],
      "execution_count": null,
      "outputs": [
        {
          "output_type": "stream",
          "text": [
            "ResNet(\n",
            "  (conv1): Conv2d(3, 64, kernel_size=(7, 7), stride=(2, 2), padding=(3, 3), bias=False)\n",
            "  (bn1): BatchNorm2d(64, eps=1e-05, momentum=0.1, affine=True, track_running_stats=True)\n",
            "  (relu): ReLU(inplace=True)\n",
            "  (maxpool): MaxPool2d(kernel_size=3, stride=2, padding=1, dilation=1, ceil_mode=False)\n",
            "  (layer1): Sequential(\n",
            "    (0): BasicBlock(\n",
            "      (conv1): Conv2d(64, 64, kernel_size=(3, 3), stride=(1, 1), padding=(1, 1), bias=False)\n",
            "      (bn1): BatchNorm2d(64, eps=1e-05, momentum=0.1, affine=True, track_running_stats=True)\n",
            "      (relu): ReLU(inplace=True)\n",
            "      (conv2): Conv2d(64, 64, kernel_size=(3, 3), stride=(1, 1), padding=(1, 1), bias=False)\n",
            "      (bn2): BatchNorm2d(64, eps=1e-05, momentum=0.1, affine=True, track_running_stats=True)\n",
            "    )\n",
            "    (1): BasicBlock(\n",
            "      (conv1): Conv2d(64, 64, kernel_size=(3, 3), stride=(1, 1), padding=(1, 1), bias=False)\n",
            "      (bn1): BatchNorm2d(64, eps=1e-05, momentum=0.1, affine=True, track_running_stats=True)\n",
            "      (relu): ReLU(inplace=True)\n",
            "      (conv2): Conv2d(64, 64, kernel_size=(3, 3), stride=(1, 1), padding=(1, 1), bias=False)\n",
            "      (bn2): BatchNorm2d(64, eps=1e-05, momentum=0.1, affine=True, track_running_stats=True)\n",
            "    )\n",
            "  )\n",
            "  (layer2): Sequential(\n",
            "    (0): BasicBlock(\n",
            "      (conv1): Conv2d(64, 128, kernel_size=(3, 3), stride=(2, 2), padding=(1, 1), bias=False)\n",
            "      (bn1): BatchNorm2d(128, eps=1e-05, momentum=0.1, affine=True, track_running_stats=True)\n",
            "      (relu): ReLU(inplace=True)\n",
            "      (conv2): Conv2d(128, 128, kernel_size=(3, 3), stride=(1, 1), padding=(1, 1), bias=False)\n",
            "      (bn2): BatchNorm2d(128, eps=1e-05, momentum=0.1, affine=True, track_running_stats=True)\n",
            "      (downsample): Sequential(\n",
            "        (0): Conv2d(64, 128, kernel_size=(1, 1), stride=(2, 2), bias=False)\n",
            "        (1): BatchNorm2d(128, eps=1e-05, momentum=0.1, affine=True, track_running_stats=True)\n",
            "      )\n",
            "    )\n",
            "    (1): BasicBlock(\n",
            "      (conv1): Conv2d(128, 128, kernel_size=(3, 3), stride=(1, 1), padding=(1, 1), bias=False)\n",
            "      (bn1): BatchNorm2d(128, eps=1e-05, momentum=0.1, affine=True, track_running_stats=True)\n",
            "      (relu): ReLU(inplace=True)\n",
            "      (conv2): Conv2d(128, 128, kernel_size=(3, 3), stride=(1, 1), padding=(1, 1), bias=False)\n",
            "      (bn2): BatchNorm2d(128, eps=1e-05, momentum=0.1, affine=True, track_running_stats=True)\n",
            "    )\n",
            "  )\n",
            "  (layer3): Sequential(\n",
            "    (0): BasicBlock(\n",
            "      (conv1): Conv2d(128, 256, kernel_size=(3, 3), stride=(2, 2), padding=(1, 1), bias=False)\n",
            "      (bn1): BatchNorm2d(256, eps=1e-05, momentum=0.1, affine=True, track_running_stats=True)\n",
            "      (relu): ReLU(inplace=True)\n",
            "      (conv2): Conv2d(256, 256, kernel_size=(3, 3), stride=(1, 1), padding=(1, 1), bias=False)\n",
            "      (bn2): BatchNorm2d(256, eps=1e-05, momentum=0.1, affine=True, track_running_stats=True)\n",
            "      (downsample): Sequential(\n",
            "        (0): Conv2d(128, 256, kernel_size=(1, 1), stride=(2, 2), bias=False)\n",
            "        (1): BatchNorm2d(256, eps=1e-05, momentum=0.1, affine=True, track_running_stats=True)\n",
            "      )\n",
            "    )\n",
            "    (1): BasicBlock(\n",
            "      (conv1): Conv2d(256, 256, kernel_size=(3, 3), stride=(1, 1), padding=(1, 1), bias=False)\n",
            "      (bn1): BatchNorm2d(256, eps=1e-05, momentum=0.1, affine=True, track_running_stats=True)\n",
            "      (relu): ReLU(inplace=True)\n",
            "      (conv2): Conv2d(256, 256, kernel_size=(3, 3), stride=(1, 1), padding=(1, 1), bias=False)\n",
            "      (bn2): BatchNorm2d(256, eps=1e-05, momentum=0.1, affine=True, track_running_stats=True)\n",
            "    )\n",
            "  )\n",
            "  (layer4): Sequential(\n",
            "    (0): BasicBlock(\n",
            "      (conv1): Conv2d(256, 512, kernel_size=(3, 3), stride=(2, 2), padding=(1, 1), bias=False)\n",
            "      (bn1): BatchNorm2d(512, eps=1e-05, momentum=0.1, affine=True, track_running_stats=True)\n",
            "      (relu): ReLU(inplace=True)\n",
            "      (conv2): Conv2d(512, 512, kernel_size=(3, 3), stride=(1, 1), padding=(1, 1), bias=False)\n",
            "      (bn2): BatchNorm2d(512, eps=1e-05, momentum=0.1, affine=True, track_running_stats=True)\n",
            "      (downsample): Sequential(\n",
            "        (0): Conv2d(256, 512, kernel_size=(1, 1), stride=(2, 2), bias=False)\n",
            "        (1): BatchNorm2d(512, eps=1e-05, momentum=0.1, affine=True, track_running_stats=True)\n",
            "      )\n",
            "    )\n",
            "    (1): BasicBlock(\n",
            "      (conv1): Conv2d(512, 512, kernel_size=(3, 3), stride=(1, 1), padding=(1, 1), bias=False)\n",
            "      (bn1): BatchNorm2d(512, eps=1e-05, momentum=0.1, affine=True, track_running_stats=True)\n",
            "      (relu): ReLU(inplace=True)\n",
            "      (conv2): Conv2d(512, 512, kernel_size=(3, 3), stride=(1, 1), padding=(1, 1), bias=False)\n",
            "      (bn2): BatchNorm2d(512, eps=1e-05, momentum=0.1, affine=True, track_running_stats=True)\n",
            "    )\n",
            "  )\n",
            "  (avgpool): AdaptiveAvgPool2d(output_size=(1, 1))\n",
            "  (fc): Linear(in_features=512, out_features=10, bias=True)\n",
            ")\n"
          ],
          "name": "stdout"
        }
      ]
    },
    {
      "cell_type": "code",
      "metadata": {
        "colab": {
          "base_uri": "https://localhost:8080/"
        },
        "id": "hKzOwBK85F0k",
        "outputId": "0f519f8a-5018-4706-a3e0-e09a919ee952"
      },
      "source": [
        "# Implement transfer learning is to simply take an already existing model and reuse it, tuning its parameters and hyperparameters as you do so.\r\n",
        "# The Resnet model was developed and trained on an ImageNet dataset as well as the CIFAR-10 dataset.\r\n",
        "transform = transforms.Compose(\r\n",
        "    [transforms.Resize(input_size), # Input as denoted above\r\n",
        "     transforms.CenterCrop(input_size),\r\n",
        "     transforms.ToTensor(),\r\n",
        "     transforms.Normalize((0.5, 0.5, 0.5), (0.5, 0.5, 0.5))])\r\n",
        "\r\n",
        "# Loading and normalizing CIFAR10\r\n",
        "trainset = torchvision.datasets.CIFAR10(\r\n",
        "    root='./data', train=True, download=True, transform=transform)\r\n",
        "trainloader = torch.utils.data.DataLoader(\r\n",
        "    trainset, batch_size=4, shuffle=True, num_workers=2)\r\n",
        "testset = torchvision.datasets.CIFAR10(\r\n",
        "    root='./data', train=False, download=True, transform=transform)\r\n",
        "testloader = torch.utils.data.DataLoader(\r\n",
        "    testset, batch_size=4, shuffle=False, num_workers=2)\r\n",
        "\r\n",
        "classes = ('plane', 'car', 'bird', 'cat', 'deer', \r\n",
        "           'dog', 'frog', 'horse', 'ship', 'truck')"
      ],
      "execution_count": null,
      "outputs": [
        {
          "output_type": "stream",
          "text": [
            "Files already downloaded and verified\n",
            "Files already downloaded and verified\n"
          ],
          "name": "stdout"
        }
      ]
    },
    {
      "cell_type": "code",
      "metadata": {
        "colab": {
          "base_uri": "https://localhost:8080/"
        },
        "id": "lyzDRasS5KjU",
        "outputId": "9c8126af-b7db-4ed5-be8b-0fbb2cfb9a6b"
      },
      "source": [
        "# Detect if we have a GPU available\r\n",
        "device = torch.device(\"cuda:0\" if torch.cuda.is_available() else \"cpu\")\r\n",
        "\r\n",
        "cifar10_resnet = cifar10_resnet.to(device)\r\n",
        "# Loss and optimizer\r\n",
        "criterion = nn.CrossEntropyLoss()\r\n",
        "optimizer = torch.optim.Adam(cifar10_resnet.parameters(), lr=0.001) \r\n",
        "# Train and test the model\r\n",
        "train_model(cifar10_resnet, criterion, optimizer, trainloader, testloader, num_epochs=5, log_interval=3000)"
      ],
      "execution_count": null,
      "outputs": [
        {
          "output_type": "stream",
          "text": [
            "Epoch 1 \t Iter: 12000/50000 (24.00%) \t Train Loss: 1.4685\n",
            "Epoch 1 \t Iter: 24000/50000 (48.00%) \t Train Loss: 1.2246\n",
            "Epoch 1 \t Iter: 36000/50000 (72.00%) \t Train Loss: 1.0435\n",
            "Epoch 1 \t Iter: 48000/50000 (96.00%) \t Train Loss: 0.9244\n",
            "====================Test on Epoch: 1 \t Accuracy: 69.60%=====================\n",
            "Epoch 2 \t Iter: 12000/50000 (24.00%) \t Train Loss: 0.9309\n",
            "Epoch 2 \t Iter: 24000/50000 (48.00%) \t Train Loss: 0.7364\n"
          ],
          "name": "stdout"
        }
      ]
    }
  ]
}